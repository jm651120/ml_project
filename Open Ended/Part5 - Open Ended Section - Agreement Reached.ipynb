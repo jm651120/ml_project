{
 "cells": [
  {
   "cell_type": "markdown",
   "metadata": {},
   "source": [
    "# **TO GRANT OR NOT TO GRANT: DECIDING ON COMPENSATION BENEFITS - PART 3: DATA CLEANING AND PRE-PROCESSING**"
   ]
  },
  {
   "cell_type": "markdown",
   "metadata": {},
   "source": [
    "## 1. Imports and initial transformations"
   ]
  },
  {
   "cell_type": "code",
   "execution_count": 85,
   "metadata": {},
   "outputs": [],
   "source": [
    "# importing the libraries\n",
    "import pandas as pd\n",
    "import numpy as np\n",
    "from sklearn.ensemble import RandomForestRegressor\n",
    "from sklearn.model_selection import train_test_split\n",
    "from sklearn.preprocessing import MinMaxScaler\n",
    "from sklearn.experimental import enable_iterative_imputer\n",
    "from sklearn.impute import IterativeImputer\n",
    "from sklearn.preprocessing import OrdinalEncoder, OneHotEncoder"
   ]
  },
  {
   "cell_type": "code",
   "execution_count": 86,
   "metadata": {},
   "outputs": [],
   "source": [
    "# setting the options\n",
    "pd.set_option('display.max_columns', None)\n",
    "pd.set_option('display.max_colwidth', None)\n",
    "np.set_printoptions(threshold=np.inf)"
   ]
  },
  {
   "cell_type": "code",
   "execution_count": 87,
   "metadata": {},
   "outputs": [
    {
     "name": "stderr",
     "output_type": "stream",
     "text": [
      "C:\\Users\\rodri\\AppData\\Local\\Temp\\ipykernel_3760\\1537755250.py:2: DtypeWarning: Columns (24) have mixed types. Specify dtype option on import or set low_memory=False.\n",
      "  df = pd.read_csv('../Data/train_data_visual_exploration_OpenEnded.csv', sep=',', index_col=0)\n",
      "C:\\Users\\rodri\\AppData\\Local\\Temp\\ipykernel_3760\\1537755250.py:3: DtypeWarning: Columns (15) have mixed types. Specify dtype option on import or set low_memory=False.\n",
      "  df_test = pd.read_csv('../Data/test_data_visual_exploration_OpenEnded.csv', sep=',', index_col=0)\n"
     ]
    }
   ],
   "source": [
    "# importing the data\n",
    "df = pd.read_csv('../Data/train_data_visual_exploration_OpenEnded.csv', sep=',', index_col=0)\n",
    "df_test = pd.read_csv('../Data/test_data_visual_exploration_OpenEnded.csv', sep=',', index_col=0)"
   ]
  },
  {
   "cell_type": "code",
   "execution_count": 88,
   "metadata": {},
   "outputs": [
    {
     "name": "stdout",
     "output_type": "stream",
     "text": [
      "Columns in df but not in df_test: {'Claim Injury Type', 'Agreement Reached'}\n"
     ]
    }
   ],
   "source": [
    "missing_columns = set(df.columns) - set(df_test.columns)\n",
    "print(\"Columns in df but not in df_test:\", missing_columns)"
   ]
  },
  {
   "cell_type": "markdown",
   "metadata": {},
   "source": [
    "It is not necessary to remove rows since Agreement Reached has no null values"
   ]
  },
  {
   "cell_type": "code",
   "execution_count": 89,
   "metadata": {},
   "outputs": [
    {
     "data": {
      "text/plain": [
       "0"
      ]
     },
     "execution_count": 89,
     "metadata": {},
     "output_type": "execute_result"
    }
   ],
   "source": [
    "df['Agreement Reached'].isnull().sum()"
   ]
  },
  {
   "cell_type": "code",
   "execution_count": 90,
   "metadata": {},
   "outputs": [],
   "source": [
    "# defining the numeric, date and categorical features\n",
    "numeric_features = [\n",
    "    'Age at Injury'\n",
    "    , 'Average Weekly Wage'\n",
    "    , 'Birth Year'\n",
    "    , 'IME-4 Count'\n",
    "    , 'Number of Dependents'\n",
    "    , 'Days Difference'\n",
    "]\n",
    "date_features = [\n",
    "    'Accident Date'\n",
    "    , 'Assembly Date'\n",
    "    , 'C-2 Date'\n",
    "    , 'C-3 Date'\n",
    "    , 'First Hearing Date'\n",
    "]\n",
    "categorical_features = [\n",
    "    'Alternative Dispute Resolution'\n",
    "    , 'Claim Injury Type'\n",
    "    , 'Attorney/Representative'\n",
    "    , 'Carrier Name'\n",
    "    , 'Carrier Type'\n",
    "    , 'Claim Injury Type'\n",
    "    , 'County of Injury'\n",
    "    , 'COVID-19 Indicator'\n",
    "    , 'District Name'\n",
    "    , 'Gender'\n",
    "    , 'Industry Code'\n",
    "    , 'Medical Fee Region'\n",
    "    , 'WCIO Cause of Injury Code'\n",
    "    , 'WCIO Nature of Injury Code'\n",
    "    , 'WCIO Part Of Body Code'\n",
    "    , 'Zip Code'\n",
    "    , 'C-2 Missed Timing'\n",
    "    , 'C-3 Missed Timing'\n",
    "    , 'C-2 Missing'\n",
    "    , 'C-3 Missing'\n",
    "    , 'Has Hearing'\n",
    "    , 'Has IME-4 Report'\n",
    "]\n",
    "\n",
    "all_features = numeric_features + date_features + categorical_features"
   ]
  },
  {
   "cell_type": "code",
   "execution_count": 91,
   "metadata": {},
   "outputs": [],
   "source": [
    "# convert numeric feature to int:\n",
    "for feature in list(filter(lambda feat: feat not in ['Average Weekly Wage'], numeric_features)):\n",
    "    df[feature] = pd.to_numeric(df[feature], errors='coerce').astype('Int64')\n",
    "    df_test[feature] = pd.to_numeric(df_test[feature], errors='coerce').astype('Int64')"
   ]
  },
  {
   "cell_type": "code",
   "execution_count": 92,
   "metadata": {},
   "outputs": [],
   "source": [
    "# convert date features to datetime\n",
    "for col in date_features:\n",
    "    df[col] = pd.to_datetime(df[col], errors='coerce', format='%Y-%m-%d')\n",
    "    df_test[col] = pd.to_datetime(df_test[col], errors='coerce', format='%Y-%m-%d')"
   ]
  },
  {
   "cell_type": "code",
   "execution_count": 93,
   "metadata": {},
   "outputs": [],
   "source": [
    "df['Zip Code'] = df['Zip Code'].astype(str)\n",
    "df_test['Zip Code'] = df_test['Zip Code'].astype(str)"
   ]
  },
  {
   "cell_type": "markdown",
   "metadata": {},
   "source": [
    "## 2. Data Cleaning"
   ]
  },
  {
   "cell_type": "markdown",
   "metadata": {},
   "source": [
    "As we previously mentioned, there are some columns with weird values:\n",
    "- **Age at Injury**: multiple values below 14, which is the minimum legal age to work in the USA\n",
    "- **WCIO Part Of Body Code**: has a negative value\n",
    "\n",
    "Before we go any further, let's try to tackle these issues."
   ]
  },
  {
   "cell_type": "markdown",
   "metadata": {},
   "source": [
    "### 2.1. Age at Injury"
   ]
  },
  {
   "cell_type": "code",
   "execution_count": 94,
   "metadata": {},
   "outputs": [
    {
     "data": {
      "text/plain": [
       "5388"
      ]
     },
     "execution_count": 94,
     "metadata": {},
     "output_type": "execute_result"
    }
   ],
   "source": [
    "len(df[df['Age at Injury'] < 14])"
   ]
  },
  {
   "cell_type": "code",
   "execution_count": 95,
   "metadata": {},
   "outputs": [
    {
     "data": {
      "text/plain": [
       "3123"
      ]
     },
     "execution_count": 95,
     "metadata": {},
     "output_type": "execute_result"
    }
   ],
   "source": [
    "len(df_test[df_test['Age at Injury'] < 14])"
   ]
  },
  {
   "cell_type": "code",
   "execution_count": 96,
   "metadata": {},
   "outputs": [
    {
     "data": {
      "text/plain": [
       "5388"
      ]
     },
     "execution_count": 96,
     "metadata": {},
     "output_type": "execute_result"
    }
   ],
   "source": [
    "len(df[(df['Age at Injury'] < 14) & ((df['Accident Date'].isna()) | (df['Birth Year'].isna()))])"
   ]
  },
  {
   "cell_type": "code",
   "execution_count": 97,
   "metadata": {},
   "outputs": [
    {
     "data": {
      "text/plain": [
       "3107"
      ]
     },
     "execution_count": 97,
     "metadata": {},
     "output_type": "execute_result"
    }
   ],
   "source": [
    "len(df_test[(df_test['Age at Injury'] < 14) & ((df_test['Accident Date'].isna()) | (df_test['Birth Year'].isna()))])"
   ]
  },
  {
   "cell_type": "markdown",
   "metadata": {},
   "source": [
    "As discussed in the notebook 'Part1-InitialInspection.ipynb', these values cannot yet be fixed, since we are trying to fix them using mathematical logic. Therefore, we will come back to fixing these values after we perform data imputation on the 'Accident Date' and 'Birth Year' columns. If there still are any inconsistent values in the test data, we will set them as NaN and impute them later."
   ]
  },
  {
   "cell_type": "markdown",
   "metadata": {},
   "source": [
    "### 2.2. WCIO Part Of Body Code"
   ]
  },
  {
   "cell_type": "code",
   "execution_count": 98,
   "metadata": {},
   "outputs": [
    {
     "data": {
      "text/plain": [
       "42010"
      ]
     },
     "execution_count": 98,
     "metadata": {},
     "output_type": "execute_result"
    }
   ],
   "source": [
    "len(df[df['WCIO Part Of Body Code'] < 0])"
   ]
  },
  {
   "cell_type": "code",
   "execution_count": 99,
   "metadata": {},
   "outputs": [
    {
     "data": {
      "text/plain": [
       "array([-9.])"
      ]
     },
     "execution_count": 99,
     "metadata": {},
     "output_type": "execute_result"
    }
   ],
   "source": [
    "df[df['WCIO Part Of Body Code'] < 0]['WCIO Part Of Body Code'].unique()"
   ]
  },
  {
   "cell_type": "code",
   "execution_count": 100,
   "metadata": {},
   "outputs": [
    {
     "data": {
      "text/plain": [
       "array([-9.])"
      ]
     },
     "execution_count": 100,
     "metadata": {},
     "output_type": "execute_result"
    }
   ],
   "source": [
    "df_test[df_test['WCIO Part Of Body Code'] < 0]['WCIO Part Of Body Code'].unique()"
   ]
  },
  {
   "cell_type": "markdown",
   "metadata": {},
   "source": [
    "All negative values are the same value - let's check if there are any values '9' or if we can simply convert these values to its absolute value."
   ]
  },
  {
   "cell_type": "code",
   "execution_count": 101,
   "metadata": {},
   "outputs": [
    {
     "data": {
      "text/plain": [
       "0"
      ]
     },
     "execution_count": 101,
     "metadata": {},
     "output_type": "execute_result"
    }
   ],
   "source": [
    "len(df[df['WCIO Part Of Body Code'] == 9])"
   ]
  },
  {
   "cell_type": "code",
   "execution_count": 102,
   "metadata": {},
   "outputs": [
    {
     "data": {
      "text/plain": [
       "0"
      ]
     },
     "execution_count": 102,
     "metadata": {},
     "output_type": "execute_result"
    }
   ],
   "source": [
    "len(df_test[df_test['WCIO Part Of Body Code'] == 9])"
   ]
  },
  {
   "cell_type": "markdown",
   "metadata": {},
   "source": [
    "As there are no values that take the value '9', we will convert the negative values to the absolute value"
   ]
  },
  {
   "cell_type": "code",
   "execution_count": 103,
   "metadata": {},
   "outputs": [],
   "source": [
    "df['WCIO Part Of Body Code'] = np.where(\n",
    "    # we select only the rows that meet the necessary conditions\n",
    "    (df['WCIO Part Of Body Code'] < 0) & (df['WCIO Part Of Body Code'].notna()),\n",
    "    # if conditions are met, we calculate the new value\n",
    "    df['WCIO Part Of Body Code'].abs(),\n",
    "    # otherwise, we keep the original value\n",
    "    df['WCIO Part Of Body Code']\n",
    ")"
   ]
  },
  {
   "cell_type": "code",
   "execution_count": 104,
   "metadata": {},
   "outputs": [
    {
     "data": {
      "text/plain": [
       "0"
      ]
     },
     "execution_count": 104,
     "metadata": {},
     "output_type": "execute_result"
    }
   ],
   "source": [
    "len(df[df['WCIO Part Of Body Code'] < 0])"
   ]
  },
  {
   "cell_type": "code",
   "execution_count": 105,
   "metadata": {},
   "outputs": [],
   "source": [
    "df_test['WCIO Part Of Body Code'] = np.where(\n",
    "    # we select only the rows that meet the necessary conditions\n",
    "    (df_test['WCIO Part Of Body Code'] < 0) & (df_test['WCIO Part Of Body Code'].notna()),\n",
    "    # if conditions are met, we calculate the new value\n",
    "    df_test['WCIO Part Of Body Code'].abs(),\n",
    "    # otherwise, we keep the original value\n",
    "    df_test['WCIO Part Of Body Code']\n",
    ")"
   ]
  },
  {
   "cell_type": "code",
   "execution_count": 106,
   "metadata": {},
   "outputs": [
    {
     "data": {
      "text/plain": [
       "0"
      ]
     },
     "execution_count": 106,
     "metadata": {},
     "output_type": "execute_result"
    }
   ],
   "source": [
    "len(df_test[df_test['WCIO Part Of Body Code'] < 0])"
   ]
  },
  {
   "cell_type": "markdown",
   "metadata": {},
   "source": [
    "## 3. Missing values"
   ]
  },
  {
   "cell_type": "code",
   "execution_count": 107,
   "metadata": {},
   "outputs": [
    {
     "data": {
      "text/html": [
       "<div>\n",
       "<style scoped>\n",
       "    .dataframe tbody tr th:only-of-type {\n",
       "        vertical-align: middle;\n",
       "    }\n",
       "\n",
       "    .dataframe tbody tr th {\n",
       "        vertical-align: top;\n",
       "    }\n",
       "\n",
       "    .dataframe thead th {\n",
       "        text-align: right;\n",
       "    }\n",
       "</style>\n",
       "<table border=\"1\" class=\"dataframe\">\n",
       "  <thead>\n",
       "    <tr style=\"text-align: right;\">\n",
       "      <th></th>\n",
       "      <th>NaN Count</th>\n",
       "      <th>Total Values</th>\n",
       "      <th>Percentage NaN</th>\n",
       "    </tr>\n",
       "  </thead>\n",
       "  <tbody>\n",
       "    <tr>\n",
       "      <th>Accident Date</th>\n",
       "      <td>3688</td>\n",
       "      <td>573995</td>\n",
       "      <td>0.64%</td>\n",
       "    </tr>\n",
       "    <tr>\n",
       "      <th>Age at Injury</th>\n",
       "      <td>0</td>\n",
       "      <td>573995</td>\n",
       "      <td>0.00%</td>\n",
       "    </tr>\n",
       "    <tr>\n",
       "      <th>Alternative Dispute Resolution</th>\n",
       "      <td>0</td>\n",
       "      <td>573995</td>\n",
       "      <td>0.00%</td>\n",
       "    </tr>\n",
       "    <tr>\n",
       "      <th>Assembly Date</th>\n",
       "      <td>0</td>\n",
       "      <td>573995</td>\n",
       "      <td>0.00%</td>\n",
       "    </tr>\n",
       "    <tr>\n",
       "      <th>Attorney/Representative</th>\n",
       "      <td>0</td>\n",
       "      <td>573995</td>\n",
       "      <td>0.00%</td>\n",
       "    </tr>\n",
       "    <tr>\n",
       "      <th>Average Weekly Wage</th>\n",
       "      <td>28648</td>\n",
       "      <td>573995</td>\n",
       "      <td>4.99%</td>\n",
       "    </tr>\n",
       "    <tr>\n",
       "      <th>Birth Year</th>\n",
       "      <td>31018</td>\n",
       "      <td>573995</td>\n",
       "      <td>5.40%</td>\n",
       "    </tr>\n",
       "    <tr>\n",
       "      <th>C-2 Date</th>\n",
       "      <td>14558</td>\n",
       "      <td>573995</td>\n",
       "      <td>2.54%</td>\n",
       "    </tr>\n",
       "    <tr>\n",
       "      <th>C-3 Date</th>\n",
       "      <td>386756</td>\n",
       "      <td>573995</td>\n",
       "      <td>67.38%</td>\n",
       "    </tr>\n",
       "    <tr>\n",
       "      <th>Carrier Name</th>\n",
       "      <td>0</td>\n",
       "      <td>573995</td>\n",
       "      <td>0.00%</td>\n",
       "    </tr>\n",
       "    <tr>\n",
       "      <th>Carrier Type</th>\n",
       "      <td>0</td>\n",
       "      <td>573995</td>\n",
       "      <td>0.00%</td>\n",
       "    </tr>\n",
       "    <tr>\n",
       "      <th>Claim Injury Type</th>\n",
       "      <td>0</td>\n",
       "      <td>573995</td>\n",
       "      <td>0.00%</td>\n",
       "    </tr>\n",
       "    <tr>\n",
       "      <th>County of Injury</th>\n",
       "      <td>0</td>\n",
       "      <td>573995</td>\n",
       "      <td>0.00%</td>\n",
       "    </tr>\n",
       "    <tr>\n",
       "      <th>COVID-19 Indicator</th>\n",
       "      <td>0</td>\n",
       "      <td>573995</td>\n",
       "      <td>0.00%</td>\n",
       "    </tr>\n",
       "    <tr>\n",
       "      <th>District Name</th>\n",
       "      <td>0</td>\n",
       "      <td>573995</td>\n",
       "      <td>0.00%</td>\n",
       "    </tr>\n",
       "    <tr>\n",
       "      <th>First Hearing Date</th>\n",
       "      <td>423202</td>\n",
       "      <td>573995</td>\n",
       "      <td>73.73%</td>\n",
       "    </tr>\n",
       "    <tr>\n",
       "      <th>Gender</th>\n",
       "      <td>4757</td>\n",
       "      <td>573995</td>\n",
       "      <td>0.83%</td>\n",
       "    </tr>\n",
       "    <tr>\n",
       "      <th>IME-4 Count</th>\n",
       "      <td>441192</td>\n",
       "      <td>573995</td>\n",
       "      <td>76.86%</td>\n",
       "    </tr>\n",
       "    <tr>\n",
       "      <th>Industry Code</th>\n",
       "      <td>9957</td>\n",
       "      <td>573995</td>\n",
       "      <td>1.73%</td>\n",
       "    </tr>\n",
       "    <tr>\n",
       "      <th>Medical Fee Region</th>\n",
       "      <td>0</td>\n",
       "      <td>573995</td>\n",
       "      <td>0.00%</td>\n",
       "    </tr>\n",
       "    <tr>\n",
       "      <th>WCIO Cause of Injury Code</th>\n",
       "      <td>15638</td>\n",
       "      <td>573995</td>\n",
       "      <td>2.72%</td>\n",
       "    </tr>\n",
       "    <tr>\n",
       "      <th>WCIO Nature of Injury Code</th>\n",
       "      <td>15655</td>\n",
       "      <td>573995</td>\n",
       "      <td>2.73%</td>\n",
       "    </tr>\n",
       "    <tr>\n",
       "      <th>WCIO Part Of Body Code</th>\n",
       "      <td>17079</td>\n",
       "      <td>573995</td>\n",
       "      <td>2.98%</td>\n",
       "    </tr>\n",
       "    <tr>\n",
       "      <th>Zip Code</th>\n",
       "      <td>0</td>\n",
       "      <td>573995</td>\n",
       "      <td>0.00%</td>\n",
       "    </tr>\n",
       "    <tr>\n",
       "      <th>Agreement Reached</th>\n",
       "      <td>0</td>\n",
       "      <td>573995</td>\n",
       "      <td>0.00%</td>\n",
       "    </tr>\n",
       "    <tr>\n",
       "      <th>Number of Dependents</th>\n",
       "      <td>0</td>\n",
       "      <td>573995</td>\n",
       "      <td>0.00%</td>\n",
       "    </tr>\n",
       "    <tr>\n",
       "      <th>C-2 Missed Timing</th>\n",
       "      <td>0</td>\n",
       "      <td>573995</td>\n",
       "      <td>0.00%</td>\n",
       "    </tr>\n",
       "    <tr>\n",
       "      <th>C-3 Missed Timing</th>\n",
       "      <td>0</td>\n",
       "      <td>573995</td>\n",
       "      <td>0.00%</td>\n",
       "    </tr>\n",
       "    <tr>\n",
       "      <th>Days Difference</th>\n",
       "      <td>3688</td>\n",
       "      <td>573995</td>\n",
       "      <td>0.64%</td>\n",
       "    </tr>\n",
       "    <tr>\n",
       "      <th>C-2 Missing</th>\n",
       "      <td>0</td>\n",
       "      <td>573995</td>\n",
       "      <td>0.00%</td>\n",
       "    </tr>\n",
       "    <tr>\n",
       "      <th>C-3 Missing</th>\n",
       "      <td>0</td>\n",
       "      <td>573995</td>\n",
       "      <td>0.00%</td>\n",
       "    </tr>\n",
       "    <tr>\n",
       "      <th>Has Hearing</th>\n",
       "      <td>0</td>\n",
       "      <td>573995</td>\n",
       "      <td>0.00%</td>\n",
       "    </tr>\n",
       "    <tr>\n",
       "      <th>Has IME-4 Report</th>\n",
       "      <td>0</td>\n",
       "      <td>573995</td>\n",
       "      <td>0.00%</td>\n",
       "    </tr>\n",
       "  </tbody>\n",
       "</table>\n",
       "</div>"
      ],
      "text/plain": [
       "                                NaN Count  Total Values Percentage NaN\n",
       "Accident Date                        3688        573995          0.64%\n",
       "Age at Injury                           0        573995          0.00%\n",
       "Alternative Dispute Resolution          0        573995          0.00%\n",
       "Assembly Date                           0        573995          0.00%\n",
       "Attorney/Representative                 0        573995          0.00%\n",
       "Average Weekly Wage                 28648        573995          4.99%\n",
       "Birth Year                          31018        573995          5.40%\n",
       "C-2 Date                            14558        573995          2.54%\n",
       "C-3 Date                           386756        573995         67.38%\n",
       "Carrier Name                            0        573995          0.00%\n",
       "Carrier Type                            0        573995          0.00%\n",
       "Claim Injury Type                       0        573995          0.00%\n",
       "County of Injury                        0        573995          0.00%\n",
       "COVID-19 Indicator                      0        573995          0.00%\n",
       "District Name                           0        573995          0.00%\n",
       "First Hearing Date                 423202        573995         73.73%\n",
       "Gender                               4757        573995          0.83%\n",
       "IME-4 Count                        441192        573995         76.86%\n",
       "Industry Code                        9957        573995          1.73%\n",
       "Medical Fee Region                      0        573995          0.00%\n",
       "WCIO Cause of Injury Code           15638        573995          2.72%\n",
       "WCIO Nature of Injury Code          15655        573995          2.73%\n",
       "WCIO Part Of Body Code              17079        573995          2.98%\n",
       "Zip Code                                0        573995          0.00%\n",
       "Agreement Reached                       0        573995          0.00%\n",
       "Number of Dependents                    0        573995          0.00%\n",
       "C-2 Missed Timing                       0        573995          0.00%\n",
       "C-3 Missed Timing                       0        573995          0.00%\n",
       "Days Difference                      3688        573995          0.64%\n",
       "C-2 Missing                             0        573995          0.00%\n",
       "C-3 Missing                             0        573995          0.00%\n",
       "Has Hearing                             0        573995          0.00%\n",
       "Has IME-4 Report                        0        573995          0.00%"
      ]
     },
     "metadata": {},
     "output_type": "display_data"
    }
   ],
   "source": [
    "# calculate the number of NaNs for each column\n",
    "nan_counts = df.isna().sum()\n",
    "\n",
    "# get the total number of rows\n",
    "total_rows = df.shape[0]\n",
    "\n",
    "# calculate the percentage of NaN values for each column\n",
    "percentage_nans = (nan_counts / total_rows) * 100\n",
    "\n",
    "# format the percentages with '%' sign\n",
    "percentage_nans = percentage_nans.apply(lambda x: f\"{x:.2f}%\")\n",
    "\n",
    "# combine all the information into a DataFrame\n",
    "nan_summary = pd.DataFrame({\n",
    "    'NaN Count': nan_counts\n",
    "    , 'Total Values': [total_rows] * len(nan_counts)\n",
    "    , 'Percentage NaN': percentage_nans\n",
    "})\n",
    "\n",
    "display(nan_summary)"
   ]
  },
  {
   "cell_type": "code",
   "execution_count": 108,
   "metadata": {},
   "outputs": [],
   "source": [
    "missing_values = [\n",
    "    'Accident Date'\n",
    "    , 'Average Weekly Wage'\n",
    "    , 'Birth Year'\n",
    "    #, 'C-2 Date'  # missing form could have relationship with the target\n",
    "    #, 'C-3 Date'  # missing form could have relationship with the target\n",
    "    #, 'First Hearing Date'  # missing values means no hearing has held\n",
    "    , 'Gender'\n",
    "    #, 'IME-4 Count'  # missing form could have relationship with the target\n",
    "    , 'Industry Code'\n",
    "    , 'WCIO Cause of Injury Code'\n",
    "    , 'WCIO Nature of Injury Code'\n",
    "    , 'WCIO Part Of Body Code'\n",
    "    , 'Zip Code'\n",
    "    , 'Days Difference'\n",
    "]"
   ]
  },
  {
   "cell_type": "code",
   "execution_count": 109,
   "metadata": {},
   "outputs": [
    {
     "data": {
      "text/html": [
       "<div>\n",
       "<style scoped>\n",
       "    .dataframe tbody tr th:only-of-type {\n",
       "        vertical-align: middle;\n",
       "    }\n",
       "\n",
       "    .dataframe tbody tr th {\n",
       "        vertical-align: top;\n",
       "    }\n",
       "\n",
       "    .dataframe thead th {\n",
       "        text-align: right;\n",
       "    }\n",
       "</style>\n",
       "<table border=\"1\" class=\"dataframe\">\n",
       "  <thead>\n",
       "    <tr style=\"text-align: right;\">\n",
       "      <th></th>\n",
       "      <th>NaN Count</th>\n",
       "      <th>Total Values</th>\n",
       "      <th>Percentage NaN</th>\n",
       "    </tr>\n",
       "  </thead>\n",
       "  <tbody>\n",
       "    <tr>\n",
       "      <th>Accident Date</th>\n",
       "      <td>2444</td>\n",
       "      <td>387975</td>\n",
       "      <td>0.63%</td>\n",
       "    </tr>\n",
       "    <tr>\n",
       "      <th>Age at Injury</th>\n",
       "      <td>0</td>\n",
       "      <td>387975</td>\n",
       "      <td>0.00%</td>\n",
       "    </tr>\n",
       "    <tr>\n",
       "      <th>Alternative Dispute Resolution</th>\n",
       "      <td>0</td>\n",
       "      <td>387975</td>\n",
       "      <td>0.00%</td>\n",
       "    </tr>\n",
       "    <tr>\n",
       "      <th>Assembly Date</th>\n",
       "      <td>0</td>\n",
       "      <td>387975</td>\n",
       "      <td>0.00%</td>\n",
       "    </tr>\n",
       "    <tr>\n",
       "      <th>Attorney/Representative</th>\n",
       "      <td>0</td>\n",
       "      <td>387975</td>\n",
       "      <td>0.00%</td>\n",
       "    </tr>\n",
       "    <tr>\n",
       "      <th>Average Weekly Wage</th>\n",
       "      <td>19204</td>\n",
       "      <td>387975</td>\n",
       "      <td>4.95%</td>\n",
       "    </tr>\n",
       "    <tr>\n",
       "      <th>Birth Year</th>\n",
       "      <td>20301</td>\n",
       "      <td>387975</td>\n",
       "      <td>5.23%</td>\n",
       "    </tr>\n",
       "    <tr>\n",
       "      <th>C-2 Date</th>\n",
       "      <td>9134</td>\n",
       "      <td>387975</td>\n",
       "      <td>2.35%</td>\n",
       "    </tr>\n",
       "    <tr>\n",
       "      <th>C-3 Date</th>\n",
       "      <td>302759</td>\n",
       "      <td>387975</td>\n",
       "      <td>78.04%</td>\n",
       "    </tr>\n",
       "    <tr>\n",
       "      <th>Carrier Name</th>\n",
       "      <td>0</td>\n",
       "      <td>387975</td>\n",
       "      <td>0.00%</td>\n",
       "    </tr>\n",
       "    <tr>\n",
       "      <th>Carrier Type</th>\n",
       "      <td>0</td>\n",
       "      <td>387975</td>\n",
       "      <td>0.00%</td>\n",
       "    </tr>\n",
       "    <tr>\n",
       "      <th>County of Injury</th>\n",
       "      <td>0</td>\n",
       "      <td>387975</td>\n",
       "      <td>0.00%</td>\n",
       "    </tr>\n",
       "    <tr>\n",
       "      <th>COVID-19 Indicator</th>\n",
       "      <td>0</td>\n",
       "      <td>387975</td>\n",
       "      <td>0.00%</td>\n",
       "    </tr>\n",
       "    <tr>\n",
       "      <th>District Name</th>\n",
       "      <td>0</td>\n",
       "      <td>387975</td>\n",
       "      <td>0.00%</td>\n",
       "    </tr>\n",
       "    <tr>\n",
       "      <th>First Hearing Date</th>\n",
       "      <td>344947</td>\n",
       "      <td>387975</td>\n",
       "      <td>88.91%</td>\n",
       "    </tr>\n",
       "    <tr>\n",
       "      <th>Gender</th>\n",
       "      <td>5613</td>\n",
       "      <td>387975</td>\n",
       "      <td>1.45%</td>\n",
       "    </tr>\n",
       "    <tr>\n",
       "      <th>IME-4 Count</th>\n",
       "      <td>352726</td>\n",
       "      <td>387975</td>\n",
       "      <td>90.91%</td>\n",
       "    </tr>\n",
       "    <tr>\n",
       "      <th>Industry Code</th>\n",
       "      <td>7736</td>\n",
       "      <td>387975</td>\n",
       "      <td>1.99%</td>\n",
       "    </tr>\n",
       "    <tr>\n",
       "      <th>Medical Fee Region</th>\n",
       "      <td>0</td>\n",
       "      <td>387975</td>\n",
       "      <td>0.00%</td>\n",
       "    </tr>\n",
       "    <tr>\n",
       "      <th>WCIO Cause of Injury Code</th>\n",
       "      <td>10348</td>\n",
       "      <td>387975</td>\n",
       "      <td>2.67%</td>\n",
       "    </tr>\n",
       "    <tr>\n",
       "      <th>WCIO Nature of Injury Code</th>\n",
       "      <td>10560</td>\n",
       "      <td>387975</td>\n",
       "      <td>2.72%</td>\n",
       "    </tr>\n",
       "    <tr>\n",
       "      <th>WCIO Part Of Body Code</th>\n",
       "      <td>9549</td>\n",
       "      <td>387975</td>\n",
       "      <td>2.46%</td>\n",
       "    </tr>\n",
       "    <tr>\n",
       "      <th>Zip Code</th>\n",
       "      <td>0</td>\n",
       "      <td>387975</td>\n",
       "      <td>0.00%</td>\n",
       "    </tr>\n",
       "    <tr>\n",
       "      <th>Number of Dependents</th>\n",
       "      <td>0</td>\n",
       "      <td>387975</td>\n",
       "      <td>0.00%</td>\n",
       "    </tr>\n",
       "    <tr>\n",
       "      <th>C-2 Missed Timing</th>\n",
       "      <td>0</td>\n",
       "      <td>387975</td>\n",
       "      <td>0.00%</td>\n",
       "    </tr>\n",
       "    <tr>\n",
       "      <th>C-3 Missed Timing</th>\n",
       "      <td>0</td>\n",
       "      <td>387975</td>\n",
       "      <td>0.00%</td>\n",
       "    </tr>\n",
       "    <tr>\n",
       "      <th>Days Difference</th>\n",
       "      <td>2444</td>\n",
       "      <td>387975</td>\n",
       "      <td>0.63%</td>\n",
       "    </tr>\n",
       "    <tr>\n",
       "      <th>C-2 Missing</th>\n",
       "      <td>0</td>\n",
       "      <td>387975</td>\n",
       "      <td>0.00%</td>\n",
       "    </tr>\n",
       "    <tr>\n",
       "      <th>C-3 Missing</th>\n",
       "      <td>0</td>\n",
       "      <td>387975</td>\n",
       "      <td>0.00%</td>\n",
       "    </tr>\n",
       "    <tr>\n",
       "      <th>Has Hearing</th>\n",
       "      <td>0</td>\n",
       "      <td>387975</td>\n",
       "      <td>0.00%</td>\n",
       "    </tr>\n",
       "    <tr>\n",
       "      <th>Has IME-4 Report</th>\n",
       "      <td>0</td>\n",
       "      <td>387975</td>\n",
       "      <td>0.00%</td>\n",
       "    </tr>\n",
       "  </tbody>\n",
       "</table>\n",
       "</div>"
      ],
      "text/plain": [
       "                                NaN Count  Total Values Percentage NaN\n",
       "Accident Date                        2444        387975          0.63%\n",
       "Age at Injury                           0        387975          0.00%\n",
       "Alternative Dispute Resolution          0        387975          0.00%\n",
       "Assembly Date                           0        387975          0.00%\n",
       "Attorney/Representative                 0        387975          0.00%\n",
       "Average Weekly Wage                 19204        387975          4.95%\n",
       "Birth Year                          20301        387975          5.23%\n",
       "C-2 Date                             9134        387975          2.35%\n",
       "C-3 Date                           302759        387975         78.04%\n",
       "Carrier Name                            0        387975          0.00%\n",
       "Carrier Type                            0        387975          0.00%\n",
       "County of Injury                        0        387975          0.00%\n",
       "COVID-19 Indicator                      0        387975          0.00%\n",
       "District Name                           0        387975          0.00%\n",
       "First Hearing Date                 344947        387975         88.91%\n",
       "Gender                               5613        387975          1.45%\n",
       "IME-4 Count                        352726        387975         90.91%\n",
       "Industry Code                        7736        387975          1.99%\n",
       "Medical Fee Region                      0        387975          0.00%\n",
       "WCIO Cause of Injury Code           10348        387975          2.67%\n",
       "WCIO Nature of Injury Code          10560        387975          2.72%\n",
       "WCIO Part Of Body Code               9549        387975          2.46%\n",
       "Zip Code                                0        387975          0.00%\n",
       "Number of Dependents                    0        387975          0.00%\n",
       "C-2 Missed Timing                       0        387975          0.00%\n",
       "C-3 Missed Timing                       0        387975          0.00%\n",
       "Days Difference                      2444        387975          0.63%\n",
       "C-2 Missing                             0        387975          0.00%\n",
       "C-3 Missing                             0        387975          0.00%\n",
       "Has Hearing                             0        387975          0.00%\n",
       "Has IME-4 Report                        0        387975          0.00%"
      ]
     },
     "metadata": {},
     "output_type": "display_data"
    }
   ],
   "source": [
    "# calculate the number of NaNs for each column\n",
    "nan_counts = df_test.isna().sum()\n",
    "\n",
    "# get the total number of rows\n",
    "total_rows = df_test.shape[0]\n",
    "\n",
    "# calculate the percentage of NaN values for each column\n",
    "percentage_nans = (nan_counts / total_rows) * 100\n",
    "\n",
    "# format the percentages with '%' sign\n",
    "percentage_nans = percentage_nans.apply(lambda x: f\"{x:.2f}%\")\n",
    "\n",
    "# combine all the information into a DataFrame\n",
    "nan_summary = pd.DataFrame({\n",
    "    'NaN Count': nan_counts\n",
    "    , 'Total Values': [total_rows] * len(nan_counts)\n",
    "    , 'Percentage NaN': percentage_nans\n",
    "})\n",
    "\n",
    "display(nan_summary)"
   ]
  },
  {
   "cell_type": "markdown",
   "metadata": {},
   "source": [
    "The columns from the test data that contain missing values are the same as the ones from the train data, with the addition of the descriptive columns, which we had removed from the train data.\n",
    "\n",
    "We will not impute missing values in the commented columns, as per the explainations in the comments"
   ]
  },
  {
   "cell_type": "markdown",
   "metadata": {},
   "source": [
    "## 4. Simple Encoding"
   ]
  },
  {
   "cell_type": "code",
   "execution_count": 110,
   "metadata": {},
   "outputs": [],
   "source": [
    "binary_columns = ['Alternative Dispute Resolution', 'Attorney/Representative', 'Gender', 'COVID-19 Indicator']"
   ]
  },
  {
   "cell_type": "code",
   "execution_count": 111,
   "metadata": {},
   "outputs": [
    {
     "data": {
      "text/plain": [
       "Alternative Dispute Resolution\n",
       "N    571381\n",
       "Y      2609\n",
       "U         5\n",
       "Name: count, dtype: int64"
      ]
     },
     "metadata": {},
     "output_type": "display_data"
    },
    {
     "data": {
      "text/plain": [
       "Alternative Dispute Resolution\n",
       "N    386314\n",
       "Y      1660\n",
       "U         1\n",
       "Name: count, dtype: int64"
      ]
     },
     "metadata": {},
     "output_type": "display_data"
    },
    {
     "data": {
      "text/plain": [
       "Attorney/Representative\n",
       "N    392265\n",
       "Y    181730\n",
       "Name: count, dtype: int64"
      ]
     },
     "metadata": {},
     "output_type": "display_data"
    },
    {
     "data": {
      "text/plain": [
       "Attorney/Representative\n",
       "N    306476\n",
       "Y     81499\n",
       "Name: count, dtype: int64"
      ]
     },
     "metadata": {},
     "output_type": "display_data"
    },
    {
     "data": {
      "text/plain": [
       "Gender\n",
       "M    335204\n",
       "F    234034\n",
       "Name: count, dtype: int64"
      ]
     },
     "metadata": {},
     "output_type": "display_data"
    },
    {
     "data": {
      "text/plain": [
       "Gender\n",
       "M    215343\n",
       "F    167019\n",
       "Name: count, dtype: int64"
      ]
     },
     "metadata": {},
     "output_type": "display_data"
    },
    {
     "data": {
      "text/plain": [
       "COVID-19 Indicator\n",
       "N    546478\n",
       "Y     27517\n",
       "Name: count, dtype: int64"
      ]
     },
     "metadata": {},
     "output_type": "display_data"
    },
    {
     "data": {
      "text/plain": [
       "COVID-19 Indicator\n",
       "N    385434\n",
       "Y      2541\n",
       "Name: count, dtype: int64"
      ]
     },
     "metadata": {},
     "output_type": "display_data"
    }
   ],
   "source": [
    "for col in binary_columns:\n",
    "    display(df[col].value_counts())\n",
    "    display(df_test[col].value_counts())"
   ]
  },
  {
   "cell_type": "markdown",
   "metadata": {},
   "source": [
    "Before we proceed with the encoding of these features, let us replace the value 'U' in 'Alternative Dispute Resolution', by setting it as NaN"
   ]
  },
  {
   "cell_type": "code",
   "execution_count": 112,
   "metadata": {},
   "outputs": [],
   "source": [
    "df.loc[df['Alternative Dispute Resolution'] == 'U', 'Alternative Dispute Resolution'] = np.nan\n",
    "df_test.loc[df_test['Alternative Dispute Resolution'] == 'U', 'Alternative Dispute Resolution'] = np.nan"
   ]
  },
  {
   "cell_type": "code",
   "execution_count": 113,
   "metadata": {},
   "outputs": [],
   "source": [
    "# Encoding binary features\n",
    "for col in binary_columns:\n",
    "    df[col] = df[col].map({'Y': 1, 'N': 0, 'M': 1, 'F': 0})\n",
    "    df_test[col] = df_test[col].map({'Y': 1, 'N': 0, 'M': 1, 'F': 0})"
   ]
  },
  {
   "cell_type": "code",
   "execution_count": 114,
   "metadata": {},
   "outputs": [],
   "source": [
    "def encode_dates(df, date_columns):\n",
    "    for col in date_columns:\n",
    "        df[f'{col}_year'] = df[col].apply(lambda x: x.year if pd.notnull(x) else np.nan)\n",
    "        df[f'{col}_month'] = df[col].apply(lambda x: x.month if pd.notnull(x) else np.nan)\n",
    "        df[f'{col}_day'] = df[col].apply(lambda x: x.day if pd.notnull(x) else np.nan)\n",
    "\n",
    "    # Drop the original date columns\n",
    "    df.drop(columns=date_columns, inplace=True)"
   ]
  },
  {
   "cell_type": "code",
   "execution_count": 115,
   "metadata": {},
   "outputs": [],
   "source": [
    "# Apply the transformation\n",
    "encode_dates(df, date_features)\n",
    "encode_dates(df_test, date_features)"
   ]
  },
  {
   "cell_type": "markdown",
   "metadata": {},
   "source": [
    "## 5. Train-Test Split"
   ]
  },
  {
   "cell_type": "code",
   "execution_count": 116,
   "metadata": {},
   "outputs": [],
   "source": [
    "X = df.drop(columns=['Agreement Reached', 'Claim Injury Type'])\n",
    "y = df['Agreement Reached']"
   ]
  },
  {
   "cell_type": "code",
   "execution_count": 117,
   "metadata": {},
   "outputs": [],
   "source": [
    "X_train, X_val, y_train, y_val = train_test_split(\n",
    "    X\n",
    "    , y\n",
    "    , test_size=0.3\n",
    "    , random_state=20\n",
    "    , stratify=y\n",
    ")"
   ]
  },
  {
   "cell_type": "markdown",
   "metadata": {},
   "source": [
    "## 6. Outlier Removal"
   ]
  },
  {
   "cell_type": "code",
   "execution_count": 118,
   "metadata": {},
   "outputs": [],
   "source": [
    "outliers_columns = [\n",
    "    'Age at Injury'\n",
    "    , 'Average Weekly Wage'\n",
    "    , 'Birth Year'\n",
    "    , 'IME-4 Count'\n",
    "]"
   ]
  },
  {
   "cell_type": "markdown",
   "metadata": {},
   "source": [
    "As you may recall, we had already outlined a strategy for outliers in the previous notebook 'Part2-VisualExploration'. We will proceed with that strategy for the columns mentioned above."
   ]
  },
  {
   "cell_type": "markdown",
   "metadata": {},
   "source": [
    "### 6.1. Age at Injury\n",
    "\n",
    "We will cap the more extreme values"
   ]
  },
  {
   "cell_type": "code",
   "execution_count": 119,
   "metadata": {},
   "outputs": [],
   "source": [
    "lower_bound_age = X_train[['Age at Injury']].quantile(0.01)\n",
    "upper_bound_age = X_train[['Age at Injury']].quantile(0.95)\n",
    "\n",
    "X_train['Age at Injury'] = X_train['Age at Injury'].clip(lower_bound_age['Age at Injury'], \n",
    "                                                         upper_bound_age['Age at Injury'])\n",
    "\n",
    "X_val['Age at Injury'] = X_val['Age at Injury'].clip(lower_bound_age['Age at Injury'], \n",
    "                                                     upper_bound_age['Age at Injury'])\n",
    "\n",
    "df_test['Age at Injury'] = df_test['Age at Injury'].clip(lower_bound_age['Age at Injury'], \n",
    "                                                         upper_bound_age['Age at Injury'])"
   ]
  },
  {
   "cell_type": "markdown",
   "metadata": {},
   "source": [
    "### 6.2. Average Weekly Wage\n",
    "\n",
    "To remove the outliers of this variable, we will use the value of the 95th percentile and remove all values above it."
   ]
  },
  {
   "cell_type": "code",
   "execution_count": 120,
   "metadata": {},
   "outputs": [],
   "source": [
    "upper_bound = X_train['Average Weekly Wage'].quantile(0.95)\n",
    "\n",
    "X_train['Average Weekly Wage'] = X_train['Average Weekly Wage'].clip(upper=upper_bound)\n",
    "X_val['Average Weekly Wage'] = X_val['Average Weekly Wage'].clip(upper=upper_bound)\n",
    "df_test['Average Weekly Wage'] = df_test['Average Weekly Wage'].clip(upper=upper_bound)"
   ]
  },
  {
   "cell_type": "markdown",
   "metadata": {},
   "source": [
    "### 6.3. Birth Year\n",
    "\n",
    "We will apply the same logic as we applied to Age at Injury"
   ]
  },
  {
   "cell_type": "code",
   "execution_count": 121,
   "metadata": {},
   "outputs": [],
   "source": [
    "lower_bound_birth = X_train[['Birth Year']].quantile(0.01)\n",
    "upper_bound_birth = X_train[['Birth Year']].quantile(0.95)\n",
    "\n",
    "X_train['Birth Year'] = X_train['Birth Year'].clip(lower_bound_birth['Birth Year'], \n",
    "                                                   upper_bound_birth['Birth Year'])\n",
    "\n",
    "X_val['Birth Year'] = X_val['Birth Year'].clip(lower_bound_birth['Birth Year'], \n",
    "                                               upper_bound_birth['Birth Year'])\n",
    "\n",
    "df_test['Birth Year'] = df_test['Birth Year'].clip(lower_bound_birth['Birth Year'], \n",
    "                                                   upper_bound_birth['Birth Year'])"
   ]
  },
  {
   "cell_type": "markdown",
   "metadata": {},
   "source": [
    "### 6.4. IME-4 Count\n",
    "\n",
    "Values over 40 seem to be a bit extreme"
   ]
  },
  {
   "cell_type": "code",
   "execution_count": 122,
   "metadata": {},
   "outputs": [],
   "source": [
    "upper_bound_ime4 = 40\n",
    "\n",
    "X_train['IME-4 Count'] = X_train['IME-4 Count'].clip(upper=upper_bound_ime4)\n",
    "X_val['IME-4 Count'] = X_val['IME-4 Count'].clip(upper=upper_bound_ime4)\n",
    "df_test['IME-4 Count'] = df_test['IME-4 Count'].clip(upper=upper_bound_ime4)\n"
   ]
  },
  {
   "cell_type": "markdown",
   "metadata": {},
   "source": [
    "## 7. Categorical Encoding"
   ]
  },
  {
   "cell_type": "markdown",
   "metadata": {},
   "source": [
    "### 7.1. Encoding High Cardinality Features"
   ]
  },
  {
   "cell_type": "code",
   "execution_count": 123,
   "metadata": {},
   "outputs": [],
   "source": [
    "highcard_features = [\n",
    "    'Carrier Name'\n",
    "    , 'County of Injury'\n",
    "    , 'Zip Code'\n",
    "]"
   ]
  },
  {
   "cell_type": "code",
   "execution_count": 124,
   "metadata": {},
   "outputs": [],
   "source": [
    "def frequency_encoder(train, val, test, column_name):\n",
    "    freq_encoding = train[column_name].value_counts(normalize=True)\n",
    "\n",
    "    train[f'{column_name}'] = train[column_name].map(freq_encoding)\n",
    "    val[f'{column_name}'] = val[column_name].map(freq_encoding)\n",
    "    test[f'{column_name}'] = test[column_name].map(freq_encoding)\n",
    "    \n",
    "    return train, val, test"
   ]
  },
  {
   "cell_type": "code",
   "execution_count": 125,
   "metadata": {},
   "outputs": [],
   "source": [
    "for feat in highcard_features:\n",
    "    X_train, X_val, df_test = frequency_encoder(X_train, X_val, df_test, feat)"
   ]
  },
  {
   "cell_type": "markdown",
   "metadata": {},
   "source": [
    "### 7.2. Encoding Low Cardinality Features"
   ]
  },
  {
   "cell_type": "code",
   "execution_count": 126,
   "metadata": {},
   "outputs": [],
   "source": [
    "lowcard_features = [\n",
    "    'Carrier Type'\n",
    "    , 'District Name'\n",
    "    , 'Medical Fee Region'\n",
    "]"
   ]
  },
  {
   "cell_type": "code",
   "execution_count": 127,
   "metadata": {},
   "outputs": [],
   "source": [
    "ohe = OneHotEncoder(sparse_output=False, handle_unknown='ignore', drop='first').set_output(transform='pandas')"
   ]
  },
  {
   "cell_type": "code",
   "execution_count": 128,
   "metadata": {},
   "outputs": [],
   "source": [
    "train_enc = ohe.fit_transform(X_train[lowcard_features])\n",
    "val_enc = ohe.transform(X_val[lowcard_features])\n",
    "test_enc = ohe.transform(df_test[lowcard_features])"
   ]
  },
  {
   "cell_type": "code",
   "execution_count": 129,
   "metadata": {},
   "outputs": [],
   "source": [
    "train_enc.index = X_train.index\n",
    "val_enc.index = X_val.index\n",
    "test_enc.index = df_test.index"
   ]
  },
  {
   "cell_type": "code",
   "execution_count": 130,
   "metadata": {},
   "outputs": [],
   "source": [
    "X_train = pd.concat([X_train, train_enc], axis=1)\n",
    "X_val = pd.concat([X_val, val_enc], axis=1)\n",
    "df_test = pd.concat([df_test, test_enc], axis=1)"
   ]
  },
  {
   "cell_type": "code",
   "execution_count": 131,
   "metadata": {},
   "outputs": [],
   "source": [
    "X_train.drop(columns=lowcard_features, inplace=True)\n",
    "X_val.drop(columns=lowcard_features, inplace=True)\n",
    "df_test.drop(columns=lowcard_features, inplace=True)"
   ]
  },
  {
   "cell_type": "markdown",
   "metadata": {},
   "source": [
    "Before we move on, we will order the columns in the dataframes so they all follow the same order"
   ]
  },
  {
   "cell_type": "code",
   "execution_count": 132,
   "metadata": {},
   "outputs": [],
   "source": [
    "X_val = X_val[X_train.columns]\n",
    "df_test = df_test[X_train.columns]"
   ]
  },
  {
   "cell_type": "markdown",
   "metadata": {},
   "source": [
    "## 8. Feature Scaling"
   ]
  },
  {
   "cell_type": "code",
   "execution_count": 133,
   "metadata": {},
   "outputs": [],
   "source": [
    "scaling_features = [\n",
    "    'Age at Injury'\n",
    "    , 'Average Weekly Wage'\n",
    "    , 'Birth Year'\n",
    "    , 'IME-4 Count'\n",
    "    , 'Industry Code'\n",
    "    , 'WCIO Cause of Injury Code'\n",
    "    , 'WCIO Nature of Injury Code'\n",
    "    , 'WCIO Part Of Body Code'\n",
    "    , 'Number of Dependents'\n",
    "    , 'Days Difference'\n",
    "    , 'Accident Date_year'\n",
    "    , 'Accident Date_month'\n",
    "    , 'Accident Date_day'\n",
    "    , 'Assembly Date_year'\n",
    "    , 'Assembly Date_month'\n",
    "    , 'Assembly Date_day'\n",
    "    , 'C-2 Date_year'\n",
    "    , 'C-2 Date_month'\n",
    "    , 'C-2 Date_day'\n",
    "    , 'C-3 Date_year'\n",
    "    , 'C-3 Date_month'\n",
    "    , 'C-3 Date_day'\n",
    "    , 'First Hearing Date_year'\n",
    "    , 'First Hearing Date_month'\n",
    "    , 'First Hearing Date_day'\n",
    "]"
   ]
  },
  {
   "cell_type": "code",
   "execution_count": 134,
   "metadata": {},
   "outputs": [],
   "source": [
    "scaler = MinMaxScaler()"
   ]
  },
  {
   "cell_type": "code",
   "execution_count": 135,
   "metadata": {},
   "outputs": [],
   "source": [
    "X_train[scaling_features] = scaler.fit_transform(X_train[scaling_features])\n",
    "X_val[scaling_features] = scaler.transform(X_val[scaling_features])\n",
    "df_test[scaling_features] = scaler.transform(df_test[scaling_features])\n"
   ]
  },
  {
   "cell_type": "markdown",
   "metadata": {},
   "source": [
    "## 9. Data imputation"
   ]
  },
  {
   "cell_type": "code",
   "execution_count": 136,
   "metadata": {},
   "outputs": [],
   "source": [
    "imputation_features = [\n",
    "    'Alternative Dispute Resolution'\n",
    "    , 'Average Weekly Wage'\n",
    "    , 'Birth Year'\n",
    "    , 'Carrier Name'\n",
    "    , 'Gender'\n",
    "    # , 'IME-4 Count'  # we will fill these with 0\n",
    "    , 'Industry Code'\n",
    "    , 'WCIO Cause of Injury Code'\n",
    "    , 'WCIO Nature of Injury Code'\n",
    "    , 'WCIO Part Of Body Code'\n",
    "    , 'Zip Code'\n",
    "    # , 'Days Difference'  # we will fix these once we have Accident Date\n",
    "    , 'Accident Date_year'\n",
    "    , 'Accident Date_month'\n",
    "    , 'Accident Date_day'\n",
    "    # we will fill these with 0, since their absence is meaningful\n",
    "    # , 'C-2 Date_year'\n",
    "    # , 'C-2 Date_month'\n",
    "    # , 'C-2 Date_day'\n",
    "    # , 'C-3 Date_year'\n",
    "    # , 'C-3 Date_month'\n",
    "    # , 'C-3 Date_day'\n",
    "    # , 'First Hearing Date_year'\n",
    "    # , 'First Hearing Date_month'\n",
    "    # , 'First Hearing Date_day'\n",
    "]"
   ]
  },
  {
   "cell_type": "markdown",
   "metadata": {},
   "source": [
    "### 9.1. Iterative Imputer"
   ]
  },
  {
   "cell_type": "code",
   "execution_count": 137,
   "metadata": {},
   "outputs": [],
   "source": [
    "imp = IterativeImputer(\n",
    "    estimator=RandomForestRegressor(n_jobs=-1, random_state=20),\n",
    "    initial_strategy='median',\n",
    "    max_iter=5,\n",
    "    random_state=17,\n",
    "    verbose=2\n",
    ").set_output(transform='pandas')"
   ]
  },
  {
   "cell_type": "code",
   "execution_count": 138,
   "metadata": {},
   "outputs": [],
   "source": [
    "# Defining a sample to fit the imputer, since we have to much data for our computers to handle\n",
    "imp_sample = X_train.sample(\n",
    "    n=10000\n",
    "    , random_state=20\n",
    ")"
   ]
  },
  {
   "cell_type": "code",
   "execution_count": 139,
   "metadata": {},
   "outputs": [
    {
     "name": "stdout",
     "output_type": "stream",
     "text": [
      "[IterativeImputer] Completing matrix with shape (10000, 56)\n",
      "[IterativeImputer] Ending imputation round 1/5, elapsed time 37.33\n",
      "[IterativeImputer] Change: 2.3601076688743006, scaled tolerance: 0.001 \n",
      "[IterativeImputer] Ending imputation round 2/5, elapsed time 128.26\n",
      "[IterativeImputer] Change: 1.5369203019203077, scaled tolerance: 0.001 \n",
      "[IterativeImputer] Ending imputation round 3/5, elapsed time 183.11\n",
      "[IterativeImputer] Change: 1.2733467302170522, scaled tolerance: 0.001 \n",
      "[IterativeImputer] Ending imputation round 4/5, elapsed time 377.77\n",
      "[IterativeImputer] Change: 1.1921809856809815, scaled tolerance: 0.001 \n",
      "[IterativeImputer] Ending imputation round 5/5, elapsed time 435.37\n",
      "[IterativeImputer] Change: 1.3693061248177798, scaled tolerance: 0.001 \n"
     ]
    },
    {
     "name": "stderr",
     "output_type": "stream",
     "text": [
      "c:\\Users\\rodri\\anaconda3\\Lib\\site-packages\\sklearn\\impute\\_iterative.py:801: ConvergenceWarning: [IterativeImputer] Early stopping criterion not reached.\n",
      "  warnings.warn(\n"
     ]
    },
    {
     "data": {
      "text/html": [
       "<style>#sk-container-id-1 {\n",
       "  /* Definition of color scheme common for light and dark mode */\n",
       "  --sklearn-color-text: black;\n",
       "  --sklearn-color-line: gray;\n",
       "  /* Definition of color scheme for unfitted estimators */\n",
       "  --sklearn-color-unfitted-level-0: #fff5e6;\n",
       "  --sklearn-color-unfitted-level-1: #f6e4d2;\n",
       "  --sklearn-color-unfitted-level-2: #ffe0b3;\n",
       "  --sklearn-color-unfitted-level-3: chocolate;\n",
       "  /* Definition of color scheme for fitted estimators */\n",
       "  --sklearn-color-fitted-level-0: #f0f8ff;\n",
       "  --sklearn-color-fitted-level-1: #d4ebff;\n",
       "  --sklearn-color-fitted-level-2: #b3dbfd;\n",
       "  --sklearn-color-fitted-level-3: cornflowerblue;\n",
       "\n",
       "  /* Specific color for light theme */\n",
       "  --sklearn-color-text-on-default-background: var(--sg-text-color, var(--theme-code-foreground, var(--jp-content-font-color1, black)));\n",
       "  --sklearn-color-background: var(--sg-background-color, var(--theme-background, var(--jp-layout-color0, white)));\n",
       "  --sklearn-color-border-box: var(--sg-text-color, var(--theme-code-foreground, var(--jp-content-font-color1, black)));\n",
       "  --sklearn-color-icon: #696969;\n",
       "\n",
       "  @media (prefers-color-scheme: dark) {\n",
       "    /* Redefinition of color scheme for dark theme */\n",
       "    --sklearn-color-text-on-default-background: var(--sg-text-color, var(--theme-code-foreground, var(--jp-content-font-color1, white)));\n",
       "    --sklearn-color-background: var(--sg-background-color, var(--theme-background, var(--jp-layout-color0, #111)));\n",
       "    --sklearn-color-border-box: var(--sg-text-color, var(--theme-code-foreground, var(--jp-content-font-color1, white)));\n",
       "    --sklearn-color-icon: #878787;\n",
       "  }\n",
       "}\n",
       "\n",
       "#sk-container-id-1 {\n",
       "  color: var(--sklearn-color-text);\n",
       "}\n",
       "\n",
       "#sk-container-id-1 pre {\n",
       "  padding: 0;\n",
       "}\n",
       "\n",
       "#sk-container-id-1 input.sk-hidden--visually {\n",
       "  border: 0;\n",
       "  clip: rect(1px 1px 1px 1px);\n",
       "  clip: rect(1px, 1px, 1px, 1px);\n",
       "  height: 1px;\n",
       "  margin: -1px;\n",
       "  overflow: hidden;\n",
       "  padding: 0;\n",
       "  position: absolute;\n",
       "  width: 1px;\n",
       "}\n",
       "\n",
       "#sk-container-id-1 div.sk-dashed-wrapped {\n",
       "  border: 1px dashed var(--sklearn-color-line);\n",
       "  margin: 0 0.4em 0.5em 0.4em;\n",
       "  box-sizing: border-box;\n",
       "  padding-bottom: 0.4em;\n",
       "  background-color: var(--sklearn-color-background);\n",
       "}\n",
       "\n",
       "#sk-container-id-1 div.sk-container {\n",
       "  /* jupyter's `normalize.less` sets `[hidden] { display: none; }`\n",
       "     but bootstrap.min.css set `[hidden] { display: none !important; }`\n",
       "     so we also need the `!important` here to be able to override the\n",
       "     default hidden behavior on the sphinx rendered scikit-learn.org.\n",
       "     See: https://github.com/scikit-learn/scikit-learn/issues/21755 */\n",
       "  display: inline-block !important;\n",
       "  position: relative;\n",
       "}\n",
       "\n",
       "#sk-container-id-1 div.sk-text-repr-fallback {\n",
       "  display: none;\n",
       "}\n",
       "\n",
       "div.sk-parallel-item,\n",
       "div.sk-serial,\n",
       "div.sk-item {\n",
       "  /* draw centered vertical line to link estimators */\n",
       "  background-image: linear-gradient(var(--sklearn-color-text-on-default-background), var(--sklearn-color-text-on-default-background));\n",
       "  background-size: 2px 100%;\n",
       "  background-repeat: no-repeat;\n",
       "  background-position: center center;\n",
       "}\n",
       "\n",
       "/* Parallel-specific style estimator block */\n",
       "\n",
       "#sk-container-id-1 div.sk-parallel-item::after {\n",
       "  content: \"\";\n",
       "  width: 100%;\n",
       "  border-bottom: 2px solid var(--sklearn-color-text-on-default-background);\n",
       "  flex-grow: 1;\n",
       "}\n",
       "\n",
       "#sk-container-id-1 div.sk-parallel {\n",
       "  display: flex;\n",
       "  align-items: stretch;\n",
       "  justify-content: center;\n",
       "  background-color: var(--sklearn-color-background);\n",
       "  position: relative;\n",
       "}\n",
       "\n",
       "#sk-container-id-1 div.sk-parallel-item {\n",
       "  display: flex;\n",
       "  flex-direction: column;\n",
       "}\n",
       "\n",
       "#sk-container-id-1 div.sk-parallel-item:first-child::after {\n",
       "  align-self: flex-end;\n",
       "  width: 50%;\n",
       "}\n",
       "\n",
       "#sk-container-id-1 div.sk-parallel-item:last-child::after {\n",
       "  align-self: flex-start;\n",
       "  width: 50%;\n",
       "}\n",
       "\n",
       "#sk-container-id-1 div.sk-parallel-item:only-child::after {\n",
       "  width: 0;\n",
       "}\n",
       "\n",
       "/* Serial-specific style estimator block */\n",
       "\n",
       "#sk-container-id-1 div.sk-serial {\n",
       "  display: flex;\n",
       "  flex-direction: column;\n",
       "  align-items: center;\n",
       "  background-color: var(--sklearn-color-background);\n",
       "  padding-right: 1em;\n",
       "  padding-left: 1em;\n",
       "}\n",
       "\n",
       "\n",
       "/* Toggleable style: style used for estimator/Pipeline/ColumnTransformer box that is\n",
       "clickable and can be expanded/collapsed.\n",
       "- Pipeline and ColumnTransformer use this feature and define the default style\n",
       "- Estimators will overwrite some part of the style using the `sk-estimator` class\n",
       "*/\n",
       "\n",
       "/* Pipeline and ColumnTransformer style (default) */\n",
       "\n",
       "#sk-container-id-1 div.sk-toggleable {\n",
       "  /* Default theme specific background. It is overwritten whether we have a\n",
       "  specific estimator or a Pipeline/ColumnTransformer */\n",
       "  background-color: var(--sklearn-color-background);\n",
       "}\n",
       "\n",
       "/* Toggleable label */\n",
       "#sk-container-id-1 label.sk-toggleable__label {\n",
       "  cursor: pointer;\n",
       "  display: block;\n",
       "  width: 100%;\n",
       "  margin-bottom: 0;\n",
       "  padding: 0.5em;\n",
       "  box-sizing: border-box;\n",
       "  text-align: center;\n",
       "}\n",
       "\n",
       "#sk-container-id-1 label.sk-toggleable__label-arrow:before {\n",
       "  /* Arrow on the left of the label */\n",
       "  content: \"▸\";\n",
       "  float: left;\n",
       "  margin-right: 0.25em;\n",
       "  color: var(--sklearn-color-icon);\n",
       "}\n",
       "\n",
       "#sk-container-id-1 label.sk-toggleable__label-arrow:hover:before {\n",
       "  color: var(--sklearn-color-text);\n",
       "}\n",
       "\n",
       "/* Toggleable content - dropdown */\n",
       "\n",
       "#sk-container-id-1 div.sk-toggleable__content {\n",
       "  max-height: 0;\n",
       "  max-width: 0;\n",
       "  overflow: hidden;\n",
       "  text-align: left;\n",
       "  /* unfitted */\n",
       "  background-color: var(--sklearn-color-unfitted-level-0);\n",
       "}\n",
       "\n",
       "#sk-container-id-1 div.sk-toggleable__content.fitted {\n",
       "  /* fitted */\n",
       "  background-color: var(--sklearn-color-fitted-level-0);\n",
       "}\n",
       "\n",
       "#sk-container-id-1 div.sk-toggleable__content pre {\n",
       "  margin: 0.2em;\n",
       "  border-radius: 0.25em;\n",
       "  color: var(--sklearn-color-text);\n",
       "  /* unfitted */\n",
       "  background-color: var(--sklearn-color-unfitted-level-0);\n",
       "}\n",
       "\n",
       "#sk-container-id-1 div.sk-toggleable__content.fitted pre {\n",
       "  /* unfitted */\n",
       "  background-color: var(--sklearn-color-fitted-level-0);\n",
       "}\n",
       "\n",
       "#sk-container-id-1 input.sk-toggleable__control:checked~div.sk-toggleable__content {\n",
       "  /* Expand drop-down */\n",
       "  max-height: 200px;\n",
       "  max-width: 100%;\n",
       "  overflow: auto;\n",
       "}\n",
       "\n",
       "#sk-container-id-1 input.sk-toggleable__control:checked~label.sk-toggleable__label-arrow:before {\n",
       "  content: \"▾\";\n",
       "}\n",
       "\n",
       "/* Pipeline/ColumnTransformer-specific style */\n",
       "\n",
       "#sk-container-id-1 div.sk-label input.sk-toggleable__control:checked~label.sk-toggleable__label {\n",
       "  color: var(--sklearn-color-text);\n",
       "  background-color: var(--sklearn-color-unfitted-level-2);\n",
       "}\n",
       "\n",
       "#sk-container-id-1 div.sk-label.fitted input.sk-toggleable__control:checked~label.sk-toggleable__label {\n",
       "  background-color: var(--sklearn-color-fitted-level-2);\n",
       "}\n",
       "\n",
       "/* Estimator-specific style */\n",
       "\n",
       "/* Colorize estimator box */\n",
       "#sk-container-id-1 div.sk-estimator input.sk-toggleable__control:checked~label.sk-toggleable__label {\n",
       "  /* unfitted */\n",
       "  background-color: var(--sklearn-color-unfitted-level-2);\n",
       "}\n",
       "\n",
       "#sk-container-id-1 div.sk-estimator.fitted input.sk-toggleable__control:checked~label.sk-toggleable__label {\n",
       "  /* fitted */\n",
       "  background-color: var(--sklearn-color-fitted-level-2);\n",
       "}\n",
       "\n",
       "#sk-container-id-1 div.sk-label label.sk-toggleable__label,\n",
       "#sk-container-id-1 div.sk-label label {\n",
       "  /* The background is the default theme color */\n",
       "  color: var(--sklearn-color-text-on-default-background);\n",
       "}\n",
       "\n",
       "/* On hover, darken the color of the background */\n",
       "#sk-container-id-1 div.sk-label:hover label.sk-toggleable__label {\n",
       "  color: var(--sklearn-color-text);\n",
       "  background-color: var(--sklearn-color-unfitted-level-2);\n",
       "}\n",
       "\n",
       "/* Label box, darken color on hover, fitted */\n",
       "#sk-container-id-1 div.sk-label.fitted:hover label.sk-toggleable__label.fitted {\n",
       "  color: var(--sklearn-color-text);\n",
       "  background-color: var(--sklearn-color-fitted-level-2);\n",
       "}\n",
       "\n",
       "/* Estimator label */\n",
       "\n",
       "#sk-container-id-1 div.sk-label label {\n",
       "  font-family: monospace;\n",
       "  font-weight: bold;\n",
       "  display: inline-block;\n",
       "  line-height: 1.2em;\n",
       "}\n",
       "\n",
       "#sk-container-id-1 div.sk-label-container {\n",
       "  text-align: center;\n",
       "}\n",
       "\n",
       "/* Estimator-specific */\n",
       "#sk-container-id-1 div.sk-estimator {\n",
       "  font-family: monospace;\n",
       "  border: 1px dotted var(--sklearn-color-border-box);\n",
       "  border-radius: 0.25em;\n",
       "  box-sizing: border-box;\n",
       "  margin-bottom: 0.5em;\n",
       "  /* unfitted */\n",
       "  background-color: var(--sklearn-color-unfitted-level-0);\n",
       "}\n",
       "\n",
       "#sk-container-id-1 div.sk-estimator.fitted {\n",
       "  /* fitted */\n",
       "  background-color: var(--sklearn-color-fitted-level-0);\n",
       "}\n",
       "\n",
       "/* on hover */\n",
       "#sk-container-id-1 div.sk-estimator:hover {\n",
       "  /* unfitted */\n",
       "  background-color: var(--sklearn-color-unfitted-level-2);\n",
       "}\n",
       "\n",
       "#sk-container-id-1 div.sk-estimator.fitted:hover {\n",
       "  /* fitted */\n",
       "  background-color: var(--sklearn-color-fitted-level-2);\n",
       "}\n",
       "\n",
       "/* Specification for estimator info (e.g. \"i\" and \"?\") */\n",
       "\n",
       "/* Common style for \"i\" and \"?\" */\n",
       "\n",
       ".sk-estimator-doc-link,\n",
       "a:link.sk-estimator-doc-link,\n",
       "a:visited.sk-estimator-doc-link {\n",
       "  float: right;\n",
       "  font-size: smaller;\n",
       "  line-height: 1em;\n",
       "  font-family: monospace;\n",
       "  background-color: var(--sklearn-color-background);\n",
       "  border-radius: 1em;\n",
       "  height: 1em;\n",
       "  width: 1em;\n",
       "  text-decoration: none !important;\n",
       "  margin-left: 1ex;\n",
       "  /* unfitted */\n",
       "  border: var(--sklearn-color-unfitted-level-1) 1pt solid;\n",
       "  color: var(--sklearn-color-unfitted-level-1);\n",
       "}\n",
       "\n",
       ".sk-estimator-doc-link.fitted,\n",
       "a:link.sk-estimator-doc-link.fitted,\n",
       "a:visited.sk-estimator-doc-link.fitted {\n",
       "  /* fitted */\n",
       "  border: var(--sklearn-color-fitted-level-1) 1pt solid;\n",
       "  color: var(--sklearn-color-fitted-level-1);\n",
       "}\n",
       "\n",
       "/* On hover */\n",
       "div.sk-estimator:hover .sk-estimator-doc-link:hover,\n",
       ".sk-estimator-doc-link:hover,\n",
       "div.sk-label-container:hover .sk-estimator-doc-link:hover,\n",
       ".sk-estimator-doc-link:hover {\n",
       "  /* unfitted */\n",
       "  background-color: var(--sklearn-color-unfitted-level-3);\n",
       "  color: var(--sklearn-color-background);\n",
       "  text-decoration: none;\n",
       "}\n",
       "\n",
       "div.sk-estimator.fitted:hover .sk-estimator-doc-link.fitted:hover,\n",
       ".sk-estimator-doc-link.fitted:hover,\n",
       "div.sk-label-container:hover .sk-estimator-doc-link.fitted:hover,\n",
       ".sk-estimator-doc-link.fitted:hover {\n",
       "  /* fitted */\n",
       "  background-color: var(--sklearn-color-fitted-level-3);\n",
       "  color: var(--sklearn-color-background);\n",
       "  text-decoration: none;\n",
       "}\n",
       "\n",
       "/* Span, style for the box shown on hovering the info icon */\n",
       ".sk-estimator-doc-link span {\n",
       "  display: none;\n",
       "  z-index: 9999;\n",
       "  position: relative;\n",
       "  font-weight: normal;\n",
       "  right: .2ex;\n",
       "  padding: .5ex;\n",
       "  margin: .5ex;\n",
       "  width: min-content;\n",
       "  min-width: 20ex;\n",
       "  max-width: 50ex;\n",
       "  color: var(--sklearn-color-text);\n",
       "  box-shadow: 2pt 2pt 4pt #999;\n",
       "  /* unfitted */\n",
       "  background: var(--sklearn-color-unfitted-level-0);\n",
       "  border: .5pt solid var(--sklearn-color-unfitted-level-3);\n",
       "}\n",
       "\n",
       ".sk-estimator-doc-link.fitted span {\n",
       "  /* fitted */\n",
       "  background: var(--sklearn-color-fitted-level-0);\n",
       "  border: var(--sklearn-color-fitted-level-3);\n",
       "}\n",
       "\n",
       ".sk-estimator-doc-link:hover span {\n",
       "  display: block;\n",
       "}\n",
       "\n",
       "/* \"?\"-specific style due to the `<a>` HTML tag */\n",
       "\n",
       "#sk-container-id-1 a.estimator_doc_link {\n",
       "  float: right;\n",
       "  font-size: 1rem;\n",
       "  line-height: 1em;\n",
       "  font-family: monospace;\n",
       "  background-color: var(--sklearn-color-background);\n",
       "  border-radius: 1rem;\n",
       "  height: 1rem;\n",
       "  width: 1rem;\n",
       "  text-decoration: none;\n",
       "  /* unfitted */\n",
       "  color: var(--sklearn-color-unfitted-level-1);\n",
       "  border: var(--sklearn-color-unfitted-level-1) 1pt solid;\n",
       "}\n",
       "\n",
       "#sk-container-id-1 a.estimator_doc_link.fitted {\n",
       "  /* fitted */\n",
       "  border: var(--sklearn-color-fitted-level-1) 1pt solid;\n",
       "  color: var(--sklearn-color-fitted-level-1);\n",
       "}\n",
       "\n",
       "/* On hover */\n",
       "#sk-container-id-1 a.estimator_doc_link:hover {\n",
       "  /* unfitted */\n",
       "  background-color: var(--sklearn-color-unfitted-level-3);\n",
       "  color: var(--sklearn-color-background);\n",
       "  text-decoration: none;\n",
       "}\n",
       "\n",
       "#sk-container-id-1 a.estimator_doc_link.fitted:hover {\n",
       "  /* fitted */\n",
       "  background-color: var(--sklearn-color-fitted-level-3);\n",
       "}\n",
       "</style><div id=\"sk-container-id-1\" class=\"sk-top-container\"><div class=\"sk-text-repr-fallback\"><pre>IterativeImputer(estimator=RandomForestRegressor(n_jobs=-1, random_state=20),\n",
       "                 initial_strategy=&#x27;median&#x27;, max_iter=5, random_state=17,\n",
       "                 verbose=2)</pre><b>In a Jupyter environment, please rerun this cell to show the HTML representation or trust the notebook. <br />On GitHub, the HTML representation is unable to render, please try loading this page with nbviewer.org.</b></div><div class=\"sk-container\" hidden><div class=\"sk-item sk-dashed-wrapped\"><div class=\"sk-label-container\"><div class=\"sk-label fitted sk-toggleable\"><input class=\"sk-toggleable__control sk-hidden--visually\" id=\"sk-estimator-id-1\" type=\"checkbox\" ><label for=\"sk-estimator-id-1\" class=\"sk-toggleable__label fitted sk-toggleable__label-arrow fitted\">&nbsp;&nbsp;IterativeImputer<a class=\"sk-estimator-doc-link fitted\" rel=\"noreferrer\" target=\"_blank\" href=\"https://scikit-learn.org/1.4/modules/generated/sklearn.impute.IterativeImputer.html\">?<span>Documentation for IterativeImputer</span></a><span class=\"sk-estimator-doc-link fitted\">i<span>Fitted</span></span></label><div class=\"sk-toggleable__content fitted\"><pre>IterativeImputer(estimator=RandomForestRegressor(n_jobs=-1, random_state=20),\n",
       "                 initial_strategy=&#x27;median&#x27;, max_iter=5, random_state=17,\n",
       "                 verbose=2)</pre></div> </div></div><div class=\"sk-parallel\"><div class=\"sk-parallel-item\"><div class=\"sk-item\"><div class=\"sk-label-container\"><div class=\"sk-label fitted sk-toggleable\"><input class=\"sk-toggleable__control sk-hidden--visually\" id=\"sk-estimator-id-2\" type=\"checkbox\" ><label for=\"sk-estimator-id-2\" class=\"sk-toggleable__label fitted sk-toggleable__label-arrow fitted\">estimator: RandomForestRegressor</label><div class=\"sk-toggleable__content fitted\"><pre>RandomForestRegressor(n_jobs=-1, random_state=20)</pre></div> </div></div><div class=\"sk-serial\"><div class=\"sk-item\"><div class=\"sk-estimator fitted sk-toggleable\"><input class=\"sk-toggleable__control sk-hidden--visually\" id=\"sk-estimator-id-3\" type=\"checkbox\" ><label for=\"sk-estimator-id-3\" class=\"sk-toggleable__label fitted sk-toggleable__label-arrow fitted\">&nbsp;RandomForestRegressor<a class=\"sk-estimator-doc-link fitted\" rel=\"noreferrer\" target=\"_blank\" href=\"https://scikit-learn.org/1.4/modules/generated/sklearn.ensemble.RandomForestRegressor.html\">?<span>Documentation for RandomForestRegressor</span></a></label><div class=\"sk-toggleable__content fitted\"><pre>RandomForestRegressor(n_jobs=-1, random_state=20)</pre></div> </div></div></div></div></div></div></div></div></div>"
      ],
      "text/plain": [
       "IterativeImputer(estimator=RandomForestRegressor(n_jobs=-1, random_state=20),\n",
       "                 initial_strategy='median', max_iter=5, random_state=17,\n",
       "                 verbose=2)"
      ]
     },
     "execution_count": 139,
     "metadata": {},
     "output_type": "execute_result"
    }
   ],
   "source": [
    "# Fitting the imputer on the sample data\n",
    "imp.fit(imp_sample)"
   ]
  },
  {
   "cell_type": "code",
   "execution_count": 140,
   "metadata": {},
   "outputs": [
    {
     "name": "stdout",
     "output_type": "stream",
     "text": [
      "[IterativeImputer] Completing matrix with shape (401796, 56)\n",
      "[IterativeImputer] Ending imputation round 1/5, elapsed time 6.71\n",
      "[IterativeImputer] Ending imputation round 2/5, elapsed time 14.04\n",
      "[IterativeImputer] Ending imputation round 3/5, elapsed time 20.87\n",
      "[IterativeImputer] Ending imputation round 4/5, elapsed time 27.92\n",
      "[IterativeImputer] Ending imputation round 5/5, elapsed time 34.96\n",
      "[IterativeImputer] Completing matrix with shape (172199, 56)\n",
      "[IterativeImputer] Ending imputation round 1/5, elapsed time 4.57\n",
      "[IterativeImputer] Ending imputation round 2/5, elapsed time 9.37\n",
      "[IterativeImputer] Ending imputation round 3/5, elapsed time 14.06\n",
      "[IterativeImputer] Ending imputation round 4/5, elapsed time 18.76\n",
      "[IterativeImputer] Ending imputation round 5/5, elapsed time 23.10\n",
      "[IterativeImputer] Completing matrix with shape (387975, 56)\n",
      "[IterativeImputer] Ending imputation round 1/5, elapsed time 6.71\n",
      "[IterativeImputer] Ending imputation round 2/5, elapsed time 13.70\n",
      "[IterativeImputer] Ending imputation round 3/5, elapsed time 31.88\n",
      "[IterativeImputer] Ending imputation round 4/5, elapsed time 42.82\n",
      "[IterativeImputer] Ending imputation round 5/5, elapsed time 49.55\n"
     ]
    }
   ],
   "source": [
    "X_train.loc[:, imputation_features]  = imp.transform(X_train).loc[:, imputation_features]\n",
    "X_val.loc[:, imputation_features] = imp.transform(X_val).loc[:, imputation_features]\n",
    "df_test.loc[:, imputation_features] = imp.transform(df_test).loc[:, imputation_features]"
   ]
  },
  {
   "cell_type": "markdown",
   "metadata": {},
   "source": [
    "### 9.2. 0-fill"
   ]
  },
  {
   "cell_type": "code",
   "execution_count": 141,
   "metadata": {},
   "outputs": [],
   "source": [
    "zero_fill = [\n",
    "    'IME-4 Count'\n",
    "    , 'C-2 Date_year'\n",
    "    , 'C-2 Date_month'\n",
    "    , 'C-2 Date_day'\n",
    "    , 'C-3 Date_year'\n",
    "    , 'C-3 Date_month'\n",
    "    , 'C-3 Date_day'\n",
    "    , 'First Hearing Date_year'\n",
    "    , 'First Hearing Date_month'\n",
    "    , 'First Hearing Date_day'\n",
    "]"
   ]
  },
  {
   "cell_type": "code",
   "execution_count": 142,
   "metadata": {},
   "outputs": [],
   "source": [
    "X_train.loc[:, zero_fill] = X_train.loc[:, zero_fill].fillna(0)\n",
    "X_val.loc[:, zero_fill] = X_val.loc[:, zero_fill].fillna(0)\n",
    "df_test.loc[:, zero_fill] = df_test.loc[:, zero_fill].fillna(0)"
   ]
  },
  {
   "cell_type": "markdown",
   "metadata": {},
   "source": [
    "### 9.3. Fixing Some Features\n",
    "\n",
    "As we mentioned earlier, we would fix Age at Injury once we had all values for Birth Year and Accident Date, which we now have. We will also fill the missing values of Days Difference using Accident and Assembly Date."
   ]
  },
  {
   "cell_type": "markdown",
   "metadata": {},
   "source": [
    "#### 9.3.1. Age at Injury\n",
    "\n",
    "We first need to revert the scaling."
   ]
  },
  {
   "cell_type": "code",
   "execution_count": 143,
   "metadata": {},
   "outputs": [],
   "source": [
    "# Reverting the scaling\n",
    "X_train.loc[:, scaling_features] = scaler.inverse_transform(X_train.loc[:, scaling_features])\n",
    "X_val.loc[:, scaling_features] = scaler.inverse_transform(X_val.loc[:, scaling_features])\n",
    "df_test.loc[:, scaling_features] = scaler.inverse_transform(df_test.loc[:, scaling_features])"
   ]
  },
  {
   "cell_type": "code",
   "execution_count": 144,
   "metadata": {},
   "outputs": [
    {
     "name": "stdout",
     "output_type": "stream",
     "text": [
      "0\n",
      "0\n",
      "0\n"
     ]
    }
   ],
   "source": [
    "# Checking for inconsistencies\n",
    "print(len(X_train[X_train['Age at Injury'] < 14]))\n",
    "print(len(X_val[X_val['Age at Injury'] < 14]))\n",
    "print(len(df_test[df_test['Age at Injury'] < 14]))"
   ]
  },
  {
   "cell_type": "code",
   "execution_count": 145,
   "metadata": {},
   "outputs": [],
   "source": [
    "# Computing Age at Injury\n",
    "X_train.loc[X_train['Age at Injury'] < 14, 'Age at Injury'] = X_train['Accident Date_year'] - X_train['Birth Year']\n",
    "X_val.loc[X_val['Age at Injury'] < 14, 'Age at Injury'] = X_val['Accident Date_year'] - X_val['Birth Year']\n",
    "df_test.loc[df_test['Age at Injury'] < 14, 'Age at Injury'] = df_test['Accident Date_year'] - df_test['Birth Year']"
   ]
  },
  {
   "cell_type": "code",
   "execution_count": 146,
   "metadata": {},
   "outputs": [
    {
     "name": "stdout",
     "output_type": "stream",
     "text": [
      "0\n",
      "0\n",
      "0\n"
     ]
    }
   ],
   "source": [
    "# Checking if inconsistencies remained\n",
    "print(len(X_train[X_train['Age at Injury'] < 14]))\n",
    "print(len(X_val[X_val['Age at Injury'] < 14]))\n",
    "print(len(df_test[df_test['Age at Injury'] < 14]))"
   ]
  },
  {
   "cell_type": "markdown",
   "metadata": {},
   "source": [
    "#### 9.3.3. Dates\n",
    "\n",
    "We will fix any date inconsistencies, i.e. if a day is not possible for that month, we will set it to the last possible one."
   ]
  },
  {
   "cell_type": "code",
   "execution_count": 147,
   "metadata": {},
   "outputs": [],
   "source": [
    "dates = [\n",
    "    'Accident Date'\n",
    "    , 'Assembly Date'\n",
    "    , 'C-2 Date'\n",
    "    , 'C-3 Date'\n",
    "    , 'First Hearing Date'\n",
    "]"
   ]
  },
  {
   "cell_type": "code",
   "execution_count": 148,
   "metadata": {},
   "outputs": [],
   "source": [
    "def adjust_day(row, col):\n",
    "    if row[f'{col}_month'].astype(int) == 2 and row[f'{col}_day'].astype(int) >= 29:\n",
    "        if row[f'{col}_year'] in [2016, 2020]:\n",
    "            return 29\n",
    "        else:\n",
    "            return 28  # Non-leap year, adjust day to 28\n",
    "    elif row[f'{col}_month'].astype(int) in [4, 6, 9, 11] and row[f'{col}_day'].astype(int) > 30:\n",
    "        return 30  # Month has only 30 days\n",
    "    elif row[f'{col}_month'].astype(int) in [1, 3, 5, 7, 8, 10, 12] and row[f'{col}_day'].astype(int) > 31:\n",
    "        return 31  # Month has only 31 days\n",
    "    return row[f'{col}_day'].astype(int)  # No change if conditions are not met"
   ]
  },
  {
   "cell_type": "code",
   "execution_count": 149,
   "metadata": {},
   "outputs": [],
   "source": [
    "for df in [X_train, X_val, df_test]:\n",
    "    for col in dates:\n",
    "        df[f'{col}_day'] = df.apply(lambda row: adjust_day(row, col), axis=1)"
   ]
  },
  {
   "cell_type": "markdown",
   "metadata": {},
   "source": [
    "#### 9.3.2. Days Difference"
   ]
  },
  {
   "cell_type": "code",
   "execution_count": 150,
   "metadata": {},
   "outputs": [],
   "source": [
    "X_train.loc[X_train['Days Difference'].isna(), 'Days Difference'] = X_train[X_train['Days Difference'].isna()].apply(\n",
    "    lambda row: (\n",
    "        pd.to_datetime(f\"{int(row['Assembly Date_year'])}-{int(row['Assembly Date_month'])}-{int(row['Assembly Date_day'])}\") - \n",
    "        pd.to_datetime(f\"{int(row['Accident Date_year'])}-{int(row['Accident Date_month'])}-{int(row['Accident Date_day'])}\")\n",
    "    ).days\n",
    "    , axis=1\n",
    ")\n",
    "X_val.loc[X_val['Days Difference'].isna(), 'Days Difference'] = X_val[X_val['Days Difference'].isna()].apply(\n",
    "    lambda row: (\n",
    "        pd.to_datetime(f\"{int(row['Assembly Date_year'])}-{int(row['Assembly Date_month'])}-{int(row['Assembly Date_day'])}\") - \n",
    "        pd.to_datetime(f\"{int(row['Accident Date_year'])}-{int(row['Accident Date_month'])}-{int(row['Accident Date_day'])}\")\n",
    "    ).days\n",
    "    , axis=1\n",
    ")\n",
    "df_test.loc[df_test['Days Difference'].isna(), 'Days Difference'] = df_test[df_test['Days Difference'].isna()].apply(\n",
    "    lambda row: (\n",
    "        pd.to_datetime(f\"{int(row['Assembly Date_year'])}-{int(row['Assembly Date_month'])}-{int(row['Assembly Date_day'])}\") - \n",
    "        pd.to_datetime(f\"{int(row['Accident Date_year'])}-{int(row['Accident Date_month'])}-{int(row['Accident Date_day'])}\")\n",
    "    ).days\n",
    "    , axis=1\n",
    ")"
   ]
  },
  {
   "cell_type": "code",
   "execution_count": 151,
   "metadata": {},
   "outputs": [],
   "source": [
    "# Scalling the features back\n",
    "\n",
    "for dataset in [X_train, X_val, df_test]:\n",
    "    dataset[scaling_features] = scaler.transform(dataset[scaling_features])\n"
   ]
  },
  {
   "cell_type": "code",
   "execution_count": 152,
   "metadata": {},
   "outputs": [
    {
     "name": "stdout",
     "output_type": "stream",
     "text": [
      "NaN in X_train after imputation: 0\n",
      "NaN in X_val after imputation: 0\n",
      "NaN in df_test after imputation: 0\n"
     ]
    }
   ],
   "source": [
    "# Checking the missing values\n",
    "print(f\"NaN in X_train after imputation: {X_train.isnull().sum().sum()}\")\n",
    "print(f\"NaN in X_val after imputation: {X_val.isnull().sum().sum()}\")\n",
    "print(f\"NaN in df_test after imputation: {df_test.isnull().sum().sum()}\")"
   ]
  },
  {
   "cell_type": "markdown",
   "metadata": {},
   "source": [
    "## 10. Export"
   ]
  },
  {
   "cell_type": "code",
   "execution_count": 159,
   "metadata": {},
   "outputs": [
    {
     "name": "stderr",
     "output_type": "stream",
     "text": [
      "C:\\Users\\rodri\\AppData\\Local\\Temp\\ipykernel_3760\\505969325.py:1: FutureWarning: Series.ravel is deprecated. The underlying array is already 1D, so ravel is not necessary.  Use `to_numpy()` for conversion to a numpy array instead.\n",
      "  y_train = pd.Series(y_train.ravel(), index=X_train.index, name=\"Agreement Reached\")\n",
      "C:\\Users\\rodri\\AppData\\Local\\Temp\\ipykernel_3760\\505969325.py:4: FutureWarning: Series.ravel is deprecated. The underlying array is already 1D, so ravel is not necessary.  Use `to_numpy()` for conversion to a numpy array instead.\n",
      "  y_val = pd.Series(y_val.ravel(), index=X_val.index, name=\"Agreement Reached\")\n"
     ]
    }
   ],
   "source": [
    "y_train = pd.Series(y_train.ravel(), index=X_train.index, name=\"Agreement Reached\")\n",
    "df_train = pd.concat([X_train, y_train], axis=1)\n",
    "\n",
    "y_val = pd.Series(y_val.ravel(), index=X_val.index, name=\"Agreement Reached\")\n",
    "df_val = pd.concat([X_val, y_val], axis=1)"
   ]
  },
  {
   "cell_type": "code",
   "execution_count": 160,
   "metadata": {},
   "outputs": [],
   "source": [
    "df_train.to_csv('../Data/train_data_preproc_OpenEnded.csv', index=True)\n",
    "df_val.to_csv('../Data/validation_data_preproc_OpenEnded.csv', index=True)\n",
    "df_test.to_csv('../Data/test_data_preproc_OpenEnded.csv', index=True)"
   ]
  },
  {
   "cell_type": "code",
   "execution_count": 162,
   "metadata": {},
   "outputs": [
    {
     "data": {
      "text/plain": [
       "Agreement Reached\n",
       "0    383045\n",
       "1     18751\n",
       "Name: count, dtype: int64"
      ]
     },
     "execution_count": 162,
     "metadata": {},
     "output_type": "execute_result"
    }
   ],
   "source": [
    "df_train['Agreement Reached'].value_counts()"
   ]
  },
  {
   "cell_type": "code",
   "execution_count": null,
   "metadata": {},
   "outputs": [],
   "source": []
  }
 ],
 "metadata": {
  "kernelspec": {
   "display_name": "base",
   "language": "python",
   "name": "python3"
  },
  "language_info": {
   "codemirror_mode": {
    "name": "ipython",
    "version": 3
   },
   "file_extension": ".py",
   "mimetype": "text/x-python",
   "name": "python",
   "nbconvert_exporter": "python",
   "pygments_lexer": "ipython3",
   "version": "3.12.4"
  }
 },
 "nbformat": 4,
 "nbformat_minor": 2
}
