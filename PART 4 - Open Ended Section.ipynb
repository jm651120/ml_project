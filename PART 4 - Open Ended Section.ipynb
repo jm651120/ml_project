{
 "cells": [
  {
   "cell_type": "markdown",
   "metadata": {},
   "source": [
    "# **TO GRANT OR NOT TO GRANT: DECIDING ON COMPENSATION BENEFITS - PART 3: DATA CLEANING AND PRE-PROCESSING**"
   ]
  },
  {
   "cell_type": "markdown",
   "metadata": {},
   "source": [
    "## 1. Imports and initial transformations"
   ]
  },
  {
   "cell_type": "code",
   "execution_count": 2,
   "metadata": {},
   "outputs": [],
   "source": [
    "# importing the libraries\n",
    "import pandas as pd\n",
    "import numpy as np\n",
    "import matplotlib.pyplot as plt\n",
    "import seaborn as sns\n",
    "import json\n",
    "\n",
    "from sklearn.preprocessing import OrdinalEncoder, OneHotEncoder, MinMaxScaler\n",
    "from sklearn.base import BaseEstimator, TransformerMixin\n",
    "from sklearn.compose import ColumnTransformer\n",
    "from sklearn.impute import KNNImputer\n",
    "from sklearn.pipeline import Pipeline\n",
    "from sklearn.feature_selection import RFE, SelectKBest, f_classif\n",
    "from sklearn.model_selection import cross_val_score, cross_validate, cross_val_predict, StratifiedKFold, KFold, GridSearchCV, RandomizedSearchCV\n",
    "from sklearn.tree import DecisionTreeClassifier\n",
    "from sklearn.multiclass import OneVsRestClassifier\n",
    "from sklearn.ensemble import RandomForestClassifier, BaggingClassifier\n",
    "from sklearn.linear_model import LogisticRegression\n",
    "from sklearn.neural_network import MLPClassifier\n",
    "\n",
    "from imblearn.pipeline import Pipeline as ImbPipeline\n",
    "from imblearn.over_sampling import SMOTE\n",
    "from xgboost import XGBClassifier\n",
    "from collections import Counter\n",
    "\n",
    "from sklearn.metrics import  ConfusionMatrixDisplay\n",
    "from sklearn.metrics import classification_report, make_scorer, f1_score, recall_score, precision_score, confusion_matrix, accuracy_score"
   ]
  },
  {
   "cell_type": "code",
   "execution_count": 3,
   "metadata": {},
   "outputs": [],
   "source": [
    "# setting the options\n",
    "pd.set_option('display.max_columns', None)\n",
    "pd.set_option('display.max_colwidth', None)\n",
    "np.set_printoptions(threshold=np.inf)"
   ]
  },
  {
   "cell_type": "markdown",
   "metadata": {},
   "source": [
    "In this notebook X and y_encoded will be referent to the Agreement Reached Model. <br>\n",
    "X_claim and y_claim will be referent to Claim Injury Type Model <br>\n",
    "<br> <br>\n",
    "We will only import the training data since we won't make any kaggle submission here"
   ]
  },
  {
   "cell_type": "code",
   "execution_count": 4,
   "metadata": {},
   "outputs": [],
   "source": [
    "train_dtype_file = 'train_dtypes_visual_exploration.json'\n",
    "open_ended_file = 'train_data_visual_exploration.csv'\n",
    "\n",
    "with open(train_dtype_file, 'r') as f:\n",
    "    dtypes = json.load(f)\n",
    "\n",
    "dtype_mapping = {}\n",
    "date_cols = []\n",
    "for col, dtype in dtypes.items():\n",
    "    if dtype == 'datetime64[ns]':\n",
    "        dtype_mapping[col] = 'object'\n",
    "        date_cols.append(col)\n",
    "    else:\n",
    "        dtype_mapping[col] = dtype\n",
    "\n",
    "df = pd.read_csv(\n",
    "    open_ended_file,\n",
    "    sep=',',\n",
    "    index_col=0,\n",
    "    dtype=dtype_mapping\n",
    ")\n",
    "\n",
    "for date in date_cols:\n",
    "    df[date] = pd.to_datetime(df[date])\n"
   ]
  },
  {
   "cell_type": "markdown",
   "metadata": {},
   "source": [
    "<a class=\"anchor\" id=\"three-bullet\"> \n",
    "<d style=\"color:white;\">\n",
    "\n",
    "### 1.2. Data Cleaning\n",
    "</a> \n",
    "</d>   "
   ]
  },
  {
   "cell_type": "markdown",
   "metadata": {},
   "source": [
    "As we previously mentioned, there are some columns with weird values:\n",
    "- **Age at Injury**: multiple values below 14, which is the minimum legal age to work in the USA\n",
    "- **WCIO Part Of Body Code**: has a negative value\n",
    "\n",
    "Before we go any further, let's try to tackle these issues."
   ]
  },
  {
   "cell_type": "markdown",
   "metadata": {},
   "source": [
    "#### 1.2.1. Age at Injury"
   ]
  },
  {
   "cell_type": "code",
   "execution_count": 5,
   "metadata": {},
   "outputs": [],
   "source": [
    "df.loc[df['Age at Injury'] < 14, 'Age at Injury'] = np.nan"
   ]
  },
  {
   "cell_type": "code",
   "execution_count": 6,
   "metadata": {},
   "outputs": [],
   "source": [
    "df.loc[\n",
    "    (df['Age at Injury'] < 14) & (df['Accident Date'].isna() | df['Birth Year'].isna()), \n",
    "    'Age at Injury'\n",
    "] = np.nan"
   ]
  },
  {
   "cell_type": "markdown",
   "metadata": {},
   "source": [
    "As discussed in the notebook 'Part1-InitialInspection.ipynb', these values cannot yet be fixed, since we are trying to fix them using mathematical logic. Therefore, we will come back to fixing these values after we perform data imputation on the 'Accident Date' and 'Birth Year' columns. If there still are any inconsistent values in the test data, we will set them as NaN and impute them later."
   ]
  },
  {
   "cell_type": "markdown",
   "metadata": {},
   "source": [
    "#### 1.2.2. WCIO Part Of Body Code"
   ]
  },
  {
   "cell_type": "code",
   "execution_count": 7,
   "metadata": {},
   "outputs": [
    {
     "data": {
      "text/plain": [
       "42011"
      ]
     },
     "execution_count": 7,
     "metadata": {},
     "output_type": "execute_result"
    }
   ],
   "source": [
    "len(df[df['WCIO Part Of Body Code'] < 0])"
   ]
  },
  {
   "cell_type": "code",
   "execution_count": 8,
   "metadata": {},
   "outputs": [
    {
     "data": {
      "text/plain": [
       "<IntegerArray>\n",
       "[-9]\n",
       "Length: 1, dtype: Int64"
      ]
     },
     "execution_count": 8,
     "metadata": {},
     "output_type": "execute_result"
    }
   ],
   "source": [
    "df[df['WCIO Part Of Body Code'] < 0]['WCIO Part Of Body Code'].unique()"
   ]
  },
  {
   "cell_type": "code",
   "execution_count": 9,
   "metadata": {},
   "outputs": [
    {
     "data": {
      "text/plain": [
       "0"
      ]
     },
     "execution_count": 9,
     "metadata": {},
     "output_type": "execute_result"
    }
   ],
   "source": [
    "len(df[df['WCIO Part Of Body Code'] == 9])"
   ]
  },
  {
   "cell_type": "code",
   "execution_count": 10,
   "metadata": {},
   "outputs": [],
   "source": [
    "df['WCIO Part Of Body Code'] = np.where(\n",
    "    # we select only the rows that meet the necessary conditions\n",
    "    (df['WCIO Part Of Body Code'] < 0) & (df['WCIO Part Of Body Code'].notna()),\n",
    "    # if conditions are met, we calculate the new value\n",
    "    df['WCIO Part Of Body Code'].abs(),\n",
    "    # otherwise, we keep the original value\n",
    "    df['WCIO Part Of Body Code']\n",
    ")"
   ]
  },
  {
   "cell_type": "code",
   "execution_count": 11,
   "metadata": {},
   "outputs": [
    {
     "data": {
      "text/plain": [
       "0"
      ]
     },
     "execution_count": 11,
     "metadata": {},
     "output_type": "execute_result"
    }
   ],
   "source": [
    "len(df[df['WCIO Part Of Body Code'] < 0])"
   ]
  },
  {
   "cell_type": "markdown",
   "metadata": {},
   "source": [
    "<a class=\"anchor\" id=\"four-bullet\"> \n",
    "<d style=\"color:white;\">\n",
    "\n",
    "### 1.3. Missing Values\n",
    "</a> \n",
    "</d>  "
   ]
  },
  {
   "cell_type": "code",
   "execution_count": 12,
   "metadata": {},
   "outputs": [
    {
     "data": {
      "text/html": [
       "<div>\n",
       "<style scoped>\n",
       "    .dataframe tbody tr th:only-of-type {\n",
       "        vertical-align: middle;\n",
       "    }\n",
       "\n",
       "    .dataframe tbody tr th {\n",
       "        vertical-align: top;\n",
       "    }\n",
       "\n",
       "    .dataframe thead th {\n",
       "        text-align: right;\n",
       "    }\n",
       "</style>\n",
       "<table border=\"1\" class=\"dataframe\">\n",
       "  <thead>\n",
       "    <tr style=\"text-align: right;\">\n",
       "      <th></th>\n",
       "      <th>NaN Count</th>\n",
       "      <th>Total Values</th>\n",
       "      <th>Percentage NaN</th>\n",
       "    </tr>\n",
       "  </thead>\n",
       "  <tbody>\n",
       "    <tr>\n",
       "      <th>Accident Date</th>\n",
       "      <td>3688</td>\n",
       "      <td>574022</td>\n",
       "      <td>0.64%</td>\n",
       "    </tr>\n",
       "    <tr>\n",
       "      <th>Age at Injury</th>\n",
       "      <td>5415</td>\n",
       "      <td>574022</td>\n",
       "      <td>0.94%</td>\n",
       "    </tr>\n",
       "    <tr>\n",
       "      <th>Alternative Dispute Resolution</th>\n",
       "      <td>0</td>\n",
       "      <td>574022</td>\n",
       "      <td>0.00%</td>\n",
       "    </tr>\n",
       "    <tr>\n",
       "      <th>Assembly Date</th>\n",
       "      <td>0</td>\n",
       "      <td>574022</td>\n",
       "      <td>0.00%</td>\n",
       "    </tr>\n",
       "    <tr>\n",
       "      <th>Attorney/Representative</th>\n",
       "      <td>0</td>\n",
       "      <td>574022</td>\n",
       "      <td>0.00%</td>\n",
       "    </tr>\n",
       "    <tr>\n",
       "      <th>Average Weekly Wage</th>\n",
       "      <td>28651</td>\n",
       "      <td>574022</td>\n",
       "      <td>4.99%</td>\n",
       "    </tr>\n",
       "    <tr>\n",
       "      <th>Birth Year</th>\n",
       "      <td>31018</td>\n",
       "      <td>574022</td>\n",
       "      <td>5.40%</td>\n",
       "    </tr>\n",
       "    <tr>\n",
       "      <th>C-2 Date</th>\n",
       "      <td>14559</td>\n",
       "      <td>574022</td>\n",
       "      <td>2.54%</td>\n",
       "    </tr>\n",
       "    <tr>\n",
       "      <th>C-3 Date</th>\n",
       "      <td>386781</td>\n",
       "      <td>574022</td>\n",
       "      <td>67.38%</td>\n",
       "    </tr>\n",
       "    <tr>\n",
       "      <th>Carrier Name</th>\n",
       "      <td>0</td>\n",
       "      <td>574022</td>\n",
       "      <td>0.00%</td>\n",
       "    </tr>\n",
       "    <tr>\n",
       "      <th>Carrier Type</th>\n",
       "      <td>0</td>\n",
       "      <td>574022</td>\n",
       "      <td>0.00%</td>\n",
       "    </tr>\n",
       "    <tr>\n",
       "      <th>Claim Injury Type</th>\n",
       "      <td>0</td>\n",
       "      <td>574022</td>\n",
       "      <td>0.00%</td>\n",
       "    </tr>\n",
       "    <tr>\n",
       "      <th>County of Injury</th>\n",
       "      <td>0</td>\n",
       "      <td>574022</td>\n",
       "      <td>0.00%</td>\n",
       "    </tr>\n",
       "    <tr>\n",
       "      <th>COVID-19 Indicator</th>\n",
       "      <td>0</td>\n",
       "      <td>574022</td>\n",
       "      <td>0.00%</td>\n",
       "    </tr>\n",
       "    <tr>\n",
       "      <th>District Name</th>\n",
       "      <td>0</td>\n",
       "      <td>574022</td>\n",
       "      <td>0.00%</td>\n",
       "    </tr>\n",
       "    <tr>\n",
       "      <th>First Hearing Date</th>\n",
       "      <td>423228</td>\n",
       "      <td>574022</td>\n",
       "      <td>73.73%</td>\n",
       "    </tr>\n",
       "    <tr>\n",
       "      <th>Gender</th>\n",
       "      <td>4757</td>\n",
       "      <td>574022</td>\n",
       "      <td>0.83%</td>\n",
       "    </tr>\n",
       "    <tr>\n",
       "      <th>IME-4 Count</th>\n",
       "      <td>441219</td>\n",
       "      <td>574022</td>\n",
       "      <td>76.86%</td>\n",
       "    </tr>\n",
       "    <tr>\n",
       "      <th>Industry Code</th>\n",
       "      <td>9957</td>\n",
       "      <td>574022</td>\n",
       "      <td>1.73%</td>\n",
       "    </tr>\n",
       "    <tr>\n",
       "      <th>Medical Fee Region</th>\n",
       "      <td>0</td>\n",
       "      <td>574022</td>\n",
       "      <td>0.00%</td>\n",
       "    </tr>\n",
       "    <tr>\n",
       "      <th>WCIO Cause of Injury Code</th>\n",
       "      <td>15639</td>\n",
       "      <td>574022</td>\n",
       "      <td>2.72%</td>\n",
       "    </tr>\n",
       "    <tr>\n",
       "      <th>WCIO Nature of Injury Code</th>\n",
       "      <td>15656</td>\n",
       "      <td>574022</td>\n",
       "      <td>2.73%</td>\n",
       "    </tr>\n",
       "    <tr>\n",
       "      <th>WCIO Part Of Body Code</th>\n",
       "      <td>17081</td>\n",
       "      <td>574022</td>\n",
       "      <td>2.98%</td>\n",
       "    </tr>\n",
       "    <tr>\n",
       "      <th>Zip Code</th>\n",
       "      <td>28636</td>\n",
       "      <td>574022</td>\n",
       "      <td>4.99%</td>\n",
       "    </tr>\n",
       "    <tr>\n",
       "      <th>Agreement Reached</th>\n",
       "      <td>0</td>\n",
       "      <td>574022</td>\n",
       "      <td>0.00%</td>\n",
       "    </tr>\n",
       "    <tr>\n",
       "      <th>Number of Dependents</th>\n",
       "      <td>0</td>\n",
       "      <td>574022</td>\n",
       "      <td>0.00%</td>\n",
       "    </tr>\n",
       "    <tr>\n",
       "      <th>C-2 Missed Timing</th>\n",
       "      <td>14559</td>\n",
       "      <td>574022</td>\n",
       "      <td>2.54%</td>\n",
       "    </tr>\n",
       "    <tr>\n",
       "      <th>C-3 Missed Timing</th>\n",
       "      <td>386781</td>\n",
       "      <td>574022</td>\n",
       "      <td>67.38%</td>\n",
       "    </tr>\n",
       "    <tr>\n",
       "      <th>Days Difference</th>\n",
       "      <td>3688</td>\n",
       "      <td>574022</td>\n",
       "      <td>0.64%</td>\n",
       "    </tr>\n",
       "    <tr>\n",
       "      <th>C-2 Missing</th>\n",
       "      <td>0</td>\n",
       "      <td>574022</td>\n",
       "      <td>0.00%</td>\n",
       "    </tr>\n",
       "    <tr>\n",
       "      <th>C-3 Missing</th>\n",
       "      <td>0</td>\n",
       "      <td>574022</td>\n",
       "      <td>0.00%</td>\n",
       "    </tr>\n",
       "    <tr>\n",
       "      <th>Has Hearing</th>\n",
       "      <td>0</td>\n",
       "      <td>574022</td>\n",
       "      <td>0.00%</td>\n",
       "    </tr>\n",
       "    <tr>\n",
       "      <th>Has IME-4 Report</th>\n",
       "      <td>0</td>\n",
       "      <td>574022</td>\n",
       "      <td>0.00%</td>\n",
       "    </tr>\n",
       "    <tr>\n",
       "      <th>Log Age at Injury</th>\n",
       "      <td>0</td>\n",
       "      <td>574022</td>\n",
       "      <td>0.00%</td>\n",
       "    </tr>\n",
       "    <tr>\n",
       "      <th>Log Average Weekly Wage</th>\n",
       "      <td>28651</td>\n",
       "      <td>574022</td>\n",
       "      <td>4.99%</td>\n",
       "    </tr>\n",
       "    <tr>\n",
       "      <th>Log Birth Year</th>\n",
       "      <td>31018</td>\n",
       "      <td>574022</td>\n",
       "      <td>5.40%</td>\n",
       "    </tr>\n",
       "    <tr>\n",
       "      <th>Log IME-4 Count</th>\n",
       "      <td>441219</td>\n",
       "      <td>574022</td>\n",
       "      <td>76.86%</td>\n",
       "    </tr>\n",
       "    <tr>\n",
       "      <th>Log Number of Dependents</th>\n",
       "      <td>0</td>\n",
       "      <td>574022</td>\n",
       "      <td>0.00%</td>\n",
       "    </tr>\n",
       "  </tbody>\n",
       "</table>\n",
       "</div>"
      ],
      "text/plain": [
       "                                NaN Count  Total Values Percentage NaN\n",
       "Accident Date                        3688        574022          0.64%\n",
       "Age at Injury                        5415        574022          0.94%\n",
       "Alternative Dispute Resolution          0        574022          0.00%\n",
       "Assembly Date                           0        574022          0.00%\n",
       "Attorney/Representative                 0        574022          0.00%\n",
       "Average Weekly Wage                 28651        574022          4.99%\n",
       "Birth Year                          31018        574022          5.40%\n",
       "C-2 Date                            14559        574022          2.54%\n",
       "C-3 Date                           386781        574022         67.38%\n",
       "Carrier Name                            0        574022          0.00%\n",
       "Carrier Type                            0        574022          0.00%\n",
       "Claim Injury Type                       0        574022          0.00%\n",
       "County of Injury                        0        574022          0.00%\n",
       "COVID-19 Indicator                      0        574022          0.00%\n",
       "District Name                           0        574022          0.00%\n",
       "First Hearing Date                 423228        574022         73.73%\n",
       "Gender                               4757        574022          0.83%\n",
       "IME-4 Count                        441219        574022         76.86%\n",
       "Industry Code                        9957        574022          1.73%\n",
       "Medical Fee Region                      0        574022          0.00%\n",
       "WCIO Cause of Injury Code           15639        574022          2.72%\n",
       "WCIO Nature of Injury Code          15656        574022          2.73%\n",
       "WCIO Part Of Body Code              17081        574022          2.98%\n",
       "Zip Code                            28636        574022          4.99%\n",
       "Agreement Reached                       0        574022          0.00%\n",
       "Number of Dependents                    0        574022          0.00%\n",
       "C-2 Missed Timing                   14559        574022          2.54%\n",
       "C-3 Missed Timing                  386781        574022         67.38%\n",
       "Days Difference                      3688        574022          0.64%\n",
       "C-2 Missing                             0        574022          0.00%\n",
       "C-3 Missing                             0        574022          0.00%\n",
       "Has Hearing                             0        574022          0.00%\n",
       "Has IME-4 Report                        0        574022          0.00%\n",
       "Log Age at Injury                       0        574022          0.00%\n",
       "Log Average Weekly Wage             28651        574022          4.99%\n",
       "Log Birth Year                      31018        574022          5.40%\n",
       "Log IME-4 Count                    441219        574022         76.86%\n",
       "Log Number of Dependents                0        574022          0.00%"
      ]
     },
     "metadata": {},
     "output_type": "display_data"
    }
   ],
   "source": [
    "# calculate the number of NaNs for each column\n",
    "nan_counts = df.isna().sum()\n",
    "\n",
    "# get the total number of rows\n",
    "total_rows = df.shape[0]\n",
    "\n",
    "# calculate the percentage of NaN values for each column\n",
    "percentage_nans = (nan_counts / total_rows) * 100\n",
    "\n",
    "# format the percentages with '%' sign\n",
    "percentage_nans = percentage_nans.apply(lambda x: f\"{x:.2f}%\")\n",
    "\n",
    "# combine all the information into a DataFrame\n",
    "nan_summary = pd.DataFrame({\n",
    "    'NaN Count': nan_counts\n",
    "    , 'Total Values': [total_rows] * len(nan_counts)\n",
    "    , 'Percentage NaN': percentage_nans\n",
    "})\n",
    "\n",
    "display(nan_summary)"
   ]
  },
  {
   "cell_type": "code",
   "execution_count": 13,
   "metadata": {},
   "outputs": [],
   "source": [
    "missing_values = [\n",
    "    'Accident Date'\n",
    "    , 'Average Weekly Wage'\n",
    "    , 'Birth Year'\n",
    "    #, 'C-2 Date'  # missing form could have relationship with the target\n",
    "    #, 'C-3 Date'  # missing form could have relationship with the target\n",
    "    #, 'First Hearing Date'  # missing values means no hearing has held\n",
    "    , 'Gender'\n",
    "    #, 'IME-4 Count'  # missing form could have relationship with the target\n",
    "    , 'Industry Code'\n",
    "    , 'WCIO Cause of Injury Code'\n",
    "    , 'WCIO Nature of Injury Code'\n",
    "    , 'WCIO Part Of Body Code'\n",
    "    , 'Zip Code'\n",
    "    , 'Days Difference'\n",
    "]"
   ]
  },
  {
   "cell_type": "markdown",
   "metadata": {},
   "source": [
    "<a class=\"anchor\" id=\"five-bullet\"> \n",
    "<d style=\"color:white;\">\n",
    "\n",
    "### 1.4. Simple Encoding\n",
    "</a> \n",
    "</d>  "
   ]
  },
  {
   "cell_type": "code",
   "execution_count": 14,
   "metadata": {},
   "outputs": [],
   "source": [
    "binary_columns = ['Alternative Dispute Resolution', 'Attorney/Representative', 'Gender', 'COVID-19 Indicator']"
   ]
  },
  {
   "cell_type": "code",
   "execution_count": 15,
   "metadata": {},
   "outputs": [
    {
     "data": {
      "text/plain": [
       "Alternative Dispute Resolution\n",
       "N    571408\n",
       "Y      2609\n",
       "U         5\n",
       "Name: count, dtype: int64"
      ]
     },
     "metadata": {},
     "output_type": "display_data"
    },
    {
     "data": {
      "text/plain": [
       "Attorney/Representative\n",
       "N    392291\n",
       "Y    181731\n",
       "Name: count, dtype: int64"
      ]
     },
     "metadata": {},
     "output_type": "display_data"
    },
    {
     "data": {
      "text/plain": [
       "Gender\n",
       "M    335216\n",
       "F    234049\n",
       "Name: count, dtype: int64"
      ]
     },
     "metadata": {},
     "output_type": "display_data"
    },
    {
     "data": {
      "text/plain": [
       "COVID-19 Indicator\n",
       "N    546504\n",
       "Y     27518\n",
       "Name: count, dtype: int64"
      ]
     },
     "metadata": {},
     "output_type": "display_data"
    }
   ],
   "source": [
    "for col in binary_columns:\n",
    "    display(df[col].value_counts())"
   ]
  },
  {
   "cell_type": "markdown",
   "metadata": {},
   "source": [
    "Before we proceed with the encoding of these features, let us replace the value 'U' in 'Alternative Dispute Resolution', by setting it as NaN"
   ]
  },
  {
   "cell_type": "code",
   "execution_count": 16,
   "metadata": {},
   "outputs": [],
   "source": [
    "df.loc[df['Alternative Dispute Resolution'] == 'U', 'Alternative Dispute Resolution'] = np.nan"
   ]
  },
  {
   "cell_type": "code",
   "execution_count": 17,
   "metadata": {},
   "outputs": [],
   "source": [
    "# Encoding binary features\n",
    "for col in binary_columns:\n",
    "    df[col] = df[col].map({'Y': 1, 'N': 0, 'M': 1, 'F': 0})"
   ]
  },
  {
   "cell_type": "code",
   "execution_count": 18,
   "metadata": {},
   "outputs": [],
   "source": [
    "def encode_dates(df, date_columns):\n",
    "    for col in date_columns:\n",
    "        df[f'{col}_year'] = df[col].apply(lambda x: x.year if pd.notnull(x) else np.nan)\n",
    "        df[f'{col}_month'] = df[col].apply(lambda x: x.month if pd.notnull(x) else np.nan)\n",
    "        df[f'{col}_day'] = df[col].apply(lambda x: x.day if pd.notnull(x) else np.nan)\n",
    "\n",
    "    # Drop the original date columns\n",
    "    df.drop(columns=date_columns, inplace=True)"
   ]
  },
  {
   "cell_type": "code",
   "execution_count": 19,
   "metadata": {},
   "outputs": [],
   "source": [
    "date_features = [\n",
    "    'Accident Date'\n",
    "    , 'Assembly Date'\n",
    "    , 'C-2 Date'\n",
    "    , 'C-3 Date'\n",
    "    , 'First Hearing Date'\n",
    "]"
   ]
  },
  {
   "cell_type": "code",
   "execution_count": 20,
   "metadata": {},
   "outputs": [],
   "source": [
    "# Apply the transformation\n",
    "encode_dates(df, date_features)"
   ]
  },
  {
   "cell_type": "markdown",
   "metadata": {},
   "source": [
    "## Initial Short Inspection for Open Ended Section"
   ]
  },
  {
   "cell_type": "markdown",
   "metadata": {},
   "source": [
    "It is not necessary to remove rows since Agreement Reached has no null values"
   ]
  },
  {
   "cell_type": "code",
   "execution_count": 21,
   "metadata": {},
   "outputs": [
    {
     "data": {
      "text/plain": [
       "0"
      ]
     },
     "execution_count": 21,
     "metadata": {},
     "output_type": "execute_result"
    }
   ],
   "source": [
    "df['Agreement Reached'].isnull().sum()"
   ]
  },
  {
   "cell_type": "markdown",
   "metadata": {},
   "source": [
    "Let's analyse the distribution of Agreement Reached"
   ]
  },
  {
   "cell_type": "code",
   "execution_count": 22,
   "metadata": {},
   "outputs": [
    {
     "data": {
      "text/plain": [
       "Agreement Reached\n",
       "0    0.953335\n",
       "1    0.046665\n",
       "Name: proportion, dtype: Float64"
      ]
     },
     "execution_count": 22,
     "metadata": {},
     "output_type": "execute_result"
    }
   ],
   "source": [
    "df['Agreement Reached'].value_counts(normalize=True)"
   ]
  },
  {
   "cell_type": "markdown",
   "metadata": {},
   "source": [
    "The class distribution is heavily imbalanced, with class \"1\" representing only a small fraction of the data. As a result, predicting class \"1\" is likely to be very challenging. Consequently, incorporating this variable into the model predicting Claim Injury Type might not lead to significant improvement, given the low variance in the data - primarily dominated by class \"0\"."
   ]
  },
  {
   "cell_type": "markdown",
   "metadata": {},
   "source": [
    "We are going to use XGBoost and the Neural Network we defined to predict Claim Injury Type"
   ]
  },
  {
   "cell_type": "markdown",
   "metadata": {},
   "source": [
    "## Pipeline"
   ]
  },
  {
   "cell_type": "code",
   "execution_count": 23,
   "metadata": {},
   "outputs": [],
   "source": [
    "df_claim = df.drop(columns=['Agreement Reached']).copy()"
   ]
  },
  {
   "cell_type": "code",
   "execution_count": 24,
   "metadata": {},
   "outputs": [],
   "source": [
    "X = df.drop(columns=['Agreement Reached', 'Claim Injury Type'])\n",
    "y = df['Agreement Reached']"
   ]
  },
  {
   "cell_type": "code",
   "execution_count": 25,
   "metadata": {},
   "outputs": [],
   "source": [
    "X_claim = df_claim.drop(columns=['Claim Injury Type'])\n",
    "y_claim = df_claim['Claim Injury Type']"
   ]
  },
  {
   "cell_type": "markdown",
   "metadata": {},
   "source": [
    "Outliers Treatment - Capping"
   ]
  },
  {
   "cell_type": "code",
   "execution_count": 26,
   "metadata": {},
   "outputs": [],
   "source": [
    "class ClipOutliersMulti(BaseEstimator, TransformerMixin):\n",
    "    def __init__(self, quantile_limits=None, fixed_limits=None):\n",
    "        \"\"\"\n",
    "        quantile_limits: dictionary with quantile-based limits. Example:\n",
    "            {'Age at Injury': (0.01, 0.95), 'Birth Year': (0.01, 0.95)}\n",
    "\n",
    "        fixed_limits: dictionary with fixed limits. Example:\n",
    "            {'IME-4 Count': (None, 40)}\n",
    "        \"\"\"\n",
    "        self.quantile_limits = quantile_limits or {}\n",
    "        self.fixed_limits = fixed_limits or {}\n",
    "        self.bounds = {}\n",
    "\n",
    "    def fit(self, X, y=None):\n",
    "        # Calculate limits based on quantiles\n",
    "        for col, (q_lower, q_upper) in self.quantile_limits.items():\n",
    "            self.bounds[col] = {\n",
    "                'lower': X[col].quantile(q_lower) if q_lower is not None else None,\n",
    "                'upper': X[col].quantile(q_upper) if q_upper is not None else None\n",
    "            }\n",
    "\n",
    "        # Add fixed limits\n",
    "        for col, (lower, upper) in self.fixed_limits.items():\n",
    "            self.bounds[col] = {\n",
    "                'lower': lower,\n",
    "                'upper': upper\n",
    "            }\n",
    "        return self\n",
    "\n",
    "    def transform(self, X):\n",
    "        # Clip values based on the calculated or fixed bounds\n",
    "        X = X.copy()\n",
    "        for col, limits in self.bounds.items():\n",
    "            X[col] = X[col].astype(float).clip(lower=limits['lower'], upper=limits['upper'])\n",
    "        return X"
   ]
  },
  {
   "cell_type": "markdown",
   "metadata": {},
   "source": [
    "Frequency Encoder"
   ]
  },
  {
   "cell_type": "code",
   "execution_count": 27,
   "metadata": {},
   "outputs": [],
   "source": [
    "class FrequencyEncoder(BaseEstimator, TransformerMixin):\n",
    "    def __init__(self, columns):\n",
    "        \"\"\"\n",
    "        columns: List of categorical columns to apply frequency encoding.\n",
    "        \"\"\"\n",
    "        self.columns = columns\n",
    "        self.freq_encodings = {}\n",
    "\n",
    "    def fit(self, X, y=None):\n",
    "        # Check if X is a DataFrame\n",
    "        if not isinstance(X, pd.DataFrame):\n",
    "            raise ValueError(\"FrequencyEncoder requires a pandas DataFrame as input.\")\n",
    "        \n",
    "        # Calculate frequency encoding for each column\n",
    "        for col in self.columns:\n",
    "            if col not in X.columns:\n",
    "                raise ValueError(f\"Column '{col}' not found in input DataFrame.\")\n",
    "            # Only normalized values (removes named indexes)\n",
    "            self.freq_encodings[col] = X[col].value_counts(normalize=True).to_dict()\n",
    "        \n",
    "        return self\n",
    "\n",
    "    def transform(self, X):\n",
    "        # Check if X is a DataFrame\n",
    "        if not isinstance(X, pd.DataFrame):\n",
    "            raise ValueError(\"FrequencyEncoder requires a pandas DataFrame as input.\")\n",
    "        \n",
    "        X = X.copy()\n",
    "        # Apply frequency mapping\n",
    "        for col in self.columns:\n",
    "            if col in X.columns:\n",
    "                X[col] = X[col].map(self.freq_encodings[col]).fillna(0)  # Fill non-mapped values with 0\n",
    "        \n",
    "        return X\n"
   ]
  },
  {
   "cell_type": "markdown",
   "metadata": {},
   "source": [
    "Target Encoding"
   ]
  },
  {
   "cell_type": "markdown",
   "metadata": {},
   "source": [
    "adding open ended encoder"
   ]
  },
  {
   "cell_type": "code",
   "execution_count": 28,
   "metadata": {},
   "outputs": [],
   "source": [
    "# Encoder for the target variable\n",
    "target_encoder = OrdinalEncoder()\n",
    "\n",
    "# Encoder for the target variable\n",
    "y_encoded = target_encoder.fit_transform(y.to_numpy().reshape(-1, 1)).flatten()\n",
    "y_claim = target_encoder.fit_transform(y_claim.to_numpy().reshape(-1, 1)).flatten()\n"
   ]
  },
  {
   "cell_type": "markdown",
   "metadata": {},
   "source": [
    "Scalling and One-Hot Encoding"
   ]
  },
  {
   "cell_type": "code",
   "execution_count": 29,
   "metadata": {},
   "outputs": [],
   "source": [
    "scaling_features = [\n",
    "    'Age at Injury',\n",
    "    'Average Weekly Wage',\n",
    "    'Birth Year',\n",
    "    'IME-4 Count',\n",
    "    #'Industry Code',\n",
    "    #'WCIO Cause of Injury Code',\n",
    "    #'WCIO Nature of Injury Code',\n",
    "    #'WCIO Part Of Body Code',\n",
    "    'Number of Dependents',\n",
    "    'Days Difference',\n",
    "    'Accident Date_year', 'Accident Date_month', 'Accident Date_day',\n",
    "    'Assembly Date_year', 'Assembly Date_month', 'Assembly Date_day',\n",
    "    'C-2 Date_year', 'C-2 Date_month', 'C-2 Date_day',\n",
    "    'C-3 Date_year', 'C-3 Date_month', 'C-3 Date_day',\n",
    "    'First Hearing Date_year', 'First Hearing Date_month', 'First Hearing Date_day'\n",
    "]\n",
    "\n",
    "# List of features for One-Hot encoding\n",
    "lowcard_features = ['Carrier Type', 'District Name', 'Medical Fee Region']\n",
    "\n",
    "# Set up the preprocessor with scaling and OneHotEncoder\n",
    "preprocessor = ColumnTransformer(\n",
    "    transformers=[\n",
    "        ('scaler', MinMaxScaler(), scaling_features),  # Apply scaling to the specified features\n",
    "        ('onehot', OneHotEncoder(sparse_output=False, handle_unknown='ignore', drop='first'), lowcard_features)  # Apply One-Hot encoding to low-cardinality features\n",
    "    ],\n",
    "    remainder='passthrough',  # Keep columns not specified\n",
    "    verbose_feature_names_out=False  # Do not rename the columns\n",
    ").set_output(transform=\"pandas\")  # Ensure the output is a DataFrame"
   ]
  },
  {
   "cell_type": "markdown",
   "metadata": {},
   "source": [
    "Missing Values Imputation - KNN"
   ]
  },
  {
   "cell_type": "code",
   "execution_count": 30,
   "metadata": {},
   "outputs": [],
   "source": [
    "class SampleKNNImputer(BaseEstimator, TransformerMixin):\n",
    "    def __init__(self, features, n_neighbors=5, weights='distance', sample_size=30000, random_state=20):\n",
    "        \"\"\"\n",
    "        features: List of columns to be imputed.\n",
    "        n_neighbors: Number of neighbors for the KNNImputer.\n",
    "        sample_size: Number of samples for fitting the imputer.\n",
    "        random_state: Random seed for sampling control.\n",
    "        \"\"\"\n",
    "        self.features = features\n",
    "        self.n_neighbors = n_neighbors\n",
    "        self.weights = weights\n",
    "        self.sample_size = sample_size\n",
    "        self.random_state = random_state\n",
    "        self.imputer = KNNImputer(n_neighbors=self.n_neighbors, weights=self.weights)\n",
    "\n",
    "    def fit(self, X, y=None):\n",
    "        # Rebuild DataFrame if X is a NumPy array\n",
    "        if not isinstance(X, pd.DataFrame):\n",
    "            X = pd.DataFrame(X, columns=self.features)\n",
    "\n",
    "        # Select a sample to fit the imputer\n",
    "        sample = X[self.features].sample(n=self.sample_size, random_state=self.random_state)\n",
    "        self.imputer.fit(sample)\n",
    "        \n",
    "        return self\n",
    "\n",
    "    def transform(self, X):\n",
    "        # Rebuild DataFrame if X is a NumPy array\n",
    "        if not isinstance(X, pd.DataFrame):\n",
    "            X = pd.DataFrame(X, columns=self.features)\n",
    "\n",
    "        # Impute missing values\n",
    "        X[self.features] = self.imputer.transform(X[self.features])\n",
    "        \n",
    "        return X"
   ]
  },
  {
   "cell_type": "markdown",
   "metadata": {},
   "source": [
    "Missing Values Imputation - Zero Fill"
   ]
  },
  {
   "cell_type": "code",
   "execution_count": 31,
   "metadata": {},
   "outputs": [],
   "source": [
    "class ZeroFillImputer(BaseEstimator, TransformerMixin):\n",
    "    def __init__(self, features):\n",
    "        \"\"\"\n",
    "        features: List of columns that should be filled with zero.\n",
    "        \"\"\"\n",
    "        self.features = features\n",
    "\n",
    "    def fit(self, X, y=None):\n",
    "        # No fitting logic is required\n",
    "        return self\n",
    "\n",
    "    def transform(self, X):\n",
    "        X = X.copy()\n",
    "        X[self.features] = X[self.features].fillna(0)\n",
    "        \n",
    "        return X"
   ]
  },
  {
   "cell_type": "markdown",
   "metadata": {},
   "source": [
    "Imputer Grid Search"
   ]
  },
  {
   "cell_type": "code",
   "execution_count": 32,
   "metadata": {},
   "outputs": [],
   "source": [
    "class ImputerGridSearch:\n",
    "    def __init__(self, pipeline, imputer_param_grid, random_state=20):\n",
    "        \"\"\"\n",
    "        Initializes the ImputerGridSearch object.\n",
    "        \n",
    "        pipeline: The pipeline that includes the imputer and other steps.\n",
    "        imputer_param_grid: Dictionary containing the parameter grid for the imputer.\n",
    "        random_state: Random seed for reproducibility (default is 20).\n",
    "        \"\"\"\n",
    "        self.pipeline = pipeline\n",
    "        self.imputer_param_grid = imputer_param_grid\n",
    "        self.random_state = random_state\n",
    "\n",
    "    def perform_grid_search(self, data, cv, y):\n",
    "        \"\"\"\n",
    "        Perform grid search on the pipeline with the imputer parameters.\n",
    "        \n",
    "        data: The input data for training.\n",
    "        cv: Cross-validation strategy (KFold).\n",
    "        y: The target variable (labels).\n",
    "        \n",
    "        Returns the best model found during grid search.\n",
    "        \"\"\"\n",
    "        best_params = None\n",
    "        best_score = float('-inf')\n",
    "\n",
    "        # Define the parameter grid for the imputer step in the pipeline\n",
    "        param_grid = {\n",
    "            'imputer__n_neighbors': self.imputer_param_grid['n_neighbors'],  # Number of neighbors for KNN\n",
    "            'imputer__weights': self.imputer_param_grid['weights']  # Weights for KNN imputation\n",
    "        }\n",
    "\n",
    "        # Set up GridSearchCV to search for the best hyperparameters\n",
    "        grid_search = GridSearchCV(\n",
    "            self.pipeline,  # The pipeline to be optimized\n",
    "            param_grid,  # The parameter grid to search\n",
    "            scoring='f1_macro',  # Evaluate using F1 score (macro average)\n",
    "            cv=cv,  # Cross-validation strategy\n",
    "            verbose=3,  # Display detailed information during the search\n",
    "            n_jobs=-1  # Use all available CPU cores\n",
    "        )\n",
    "\n",
    "        # Perform grid search\n",
    "        grid_search.fit(data, y)\n",
    "\n",
    "        # Store the best parameters and best score found\n",
    "        best_params = grid_search.best_params_\n",
    "        best_score = grid_search.best_score_\n",
    "\n",
    "        # Print the results of the grid search\n",
    "        print(f\"Best Parameters: {best_params}\")\n",
    "        print(f\"Best Test Score: {best_score:.4f}\")\n",
    "\n",
    "        # Return the pipeline with the best parameters\n",
    "        return self.pipeline\n"
   ]
  },
  {
   "cell_type": "markdown",
   "metadata": {},
   "source": [
    "<a class=\"anchor\" id=\"seven-bullet\"> \n",
    "<d style=\"color:white;\">\n",
    "\n",
    "## 2. Feature Selection\n",
    "</a> \n",
    "</d>   "
   ]
  },
  {
   "cell_type": "markdown",
   "metadata": {},
   "source": [
    "<a class=\"anchor\" id=\"eight-bullet\"> \n",
    "<d style=\"color:white;\">\n",
    "\n",
    "### 2.1. Spearman Correlation\n",
    "</a> \n",
    "</d>  "
   ]
  },
  {
   "cell_type": "code",
   "execution_count": 33,
   "metadata": {},
   "outputs": [],
   "source": [
    "class RemoveHighSpearmanCorrelation(BaseEstimator, TransformerMixin):\n",
    "    def __init__(self, features, threshold=0.8):\n",
    "        \"\"\"\n",
    "        Remove highly correlated variables based on Spearman correlation.\n",
    "\n",
    "        Parameters:\n",
    "        - features: List of numeric variables to be analyzed.\n",
    "        - threshold: Limit above which variables will be considered correlated.\n",
    "        \"\"\"\n",
    "        self.features = features\n",
    "        self.threshold = threshold\n",
    "        self.to_remove = []\n",
    "\n",
    "\n",
    "    def fit(self, X, y=None):\n",
    "        \"\"\"\n",
    "        Calculates the correlation and identifies the variables to be removed.\n",
    "\n",
    "        Parameters:\n",
    "        - X: Input DataFrame.\n",
    "        - y: Ignored (for compatibility with sklearn).\n",
    "        \"\"\"\n",
    "        # Calculate the correlation matrix for the specified variables\n",
    "        corr_matrix = X[self.features].corr(method='spearman')\n",
    "        upper_triangle = corr_matrix.where(np.triu(np.ones(corr_matrix.shape), k=1).astype(bool))\n",
    "\n",
    "        # Identify variables with high correlation\n",
    "        self.to_remove = [\n",
    "            column for column in upper_triangle.columns \n",
    "            if any(upper_triangle[column] > self.threshold)\n",
    "        ]\n",
    "\n",
    "        return self\n",
    "\n",
    "\n",
    "    def transform(self, X):\n",
    "        \"\"\"\n",
    "        Removes the identified variables.\n",
    "\n",
    "        \"\"\"\n",
    "        return X.drop(columns=self.to_remove, errors='ignore')"
   ]
  },
  {
   "cell_type": "markdown",
   "metadata": {},
   "source": [
    "<a class=\"anchor\" id=\"nine-bullet\"> \n",
    "<d style=\"color:white;\">\n",
    "\n",
    "### 2.2. XGBoost\n",
    "</a> \n",
    "</d>  "
   ]
  },
  {
   "cell_type": "code",
   "execution_count": 34,
   "metadata": {},
   "outputs": [],
   "source": [
    "class XGBFeatureSelector(BaseEstimator, TransformerMixin):\n",
    "    def __init__(self, num_features=18, model=None, random_state=42):\n",
    "        \"\"\"\n",
    "        num_features: Number of most important features to select.\n",
    "        model: Model to be used for calculating feature importance.\n",
    "        random_state: Seed for reproducibility.\n",
    "        \"\"\"\n",
    "        self.num_features = num_features\n",
    "        self.model = model if model else XGBClassifier(\n",
    "            n_estimators=200,\n",
    "            max_depth=6,\n",
    "            learning_rate=0.1,\n",
    "            scale_pos_weight=1,\n",
    "            random_state=random_state,\n",
    "            use_label_encoder=False,\n",
    "            eval_metric='mlogloss'\n",
    "        )\n",
    "        self.random_state = random_state  # Adds random_state as an internal attribute\n",
    "        self.top_features = None\n",
    "\n",
    "    def fit(self, X, y):\n",
    "        # Fit the model to calculate feature importance\n",
    "        self.model.fit(X, y)\n",
    "        # Select the N most important features\n",
    "        feature_importances = pd.Series(self.model.feature_importances_, index=X.columns)\n",
    "        self.top_features = feature_importances.nlargest(self.num_features).index\n",
    "        \n",
    "        return self\n",
    "\n",
    "    def transform(self, X):\n",
    "        # Return only the selected features\n",
    "        return X[self.top_features]\n"
   ]
  },
  {
   "cell_type": "markdown",
   "metadata": {},
   "source": [
    "<a class=\"anchor\" id=\"ten-bullet\"> \n",
    "<d style=\"color:white;\">\n",
    "\n",
    "### 2.3. Decision Trees\n",
    "</a> \n",
    "</d>  "
   ]
  },
  {
   "cell_type": "markdown",
   "metadata": {},
   "source": [
    "Feature selection with Decision Trees. By using the module __.feature_importances___ we can calculate the feature importance using the split criteria 'gini' and 'entropy'"
   ]
  },
  {
   "cell_type": "code",
   "execution_count": 35,
   "metadata": {},
   "outputs": [],
   "source": [
    "class DT_FeatureSelector(BaseEstimator, TransformerMixin):\n",
    "    def __init__(self, gini_threshold=0.005, entropy_threshold=0.005, random_state=42):\n",
    "        \"\"\"\n",
    "        num_features: Maximum number of features to select.\n",
    "        gini_threshold: Minimum importance threshold for the Gini criterion.\n",
    "        entropy_threshold: Minimum importance threshold for the Entropy criterion.\n",
    "        random_state: Seed for reproducibility.\n",
    "        \"\"\"\n",
    "        \n",
    "        self.gini_threshold = gini_threshold\n",
    "        self.entropy_threshold = entropy_threshold\n",
    "        self.random_state = random_state\n",
    "        self.top_features = None\n",
    "\n",
    "    def fit(self, X, y):\n",
    "        # Model with Gini criterion\n",
    "        gini_model = DecisionTreeClassifier(criterion='gini', random_state=self.random_state)\n",
    "        gini_model.fit(X, y)\n",
    "        gini_importance = pd.Series(gini_model.feature_importances_, index=X.columns)\n",
    "        \n",
    "        # Model with Entropy criterion\n",
    "        entropy_model = DecisionTreeClassifier(criterion='entropy', random_state=self.random_state)\n",
    "        entropy_model.fit(X, y)\n",
    "        entropy_importance = pd.Series(entropy_model.feature_importances_, index=X.columns)\n",
    "\n",
    "        # Combine the importances into a DataFrame\n",
    "        feature_importances = pd.DataFrame({\n",
    "            'gini': gini_importance,\n",
    "            'entropy': entropy_importance\n",
    "        })\n",
    "\n",
    "        # Melt the DataFrame to long format and filter based on the thresholds\n",
    "        feature_importances['feature'] = X.columns\n",
    "        tidy = feature_importances.melt(id_vars='feature', var_name='criterion', value_name='importance')\n",
    "        tidy = tidy[tidy['importance'] > 0]  # Remove zero importances\n",
    "\n",
    "        # Filter features that pass the thresholds\n",
    "        selected_features = tidy[((tidy['criterion'] == 'gini') & (tidy['importance'] > self.gini_threshold)) |\n",
    "                                  ((tidy['criterion'] == 'entropy') & (tidy['importance'] > self.entropy_threshold))]\n",
    "\n",
    "        # Sort by importance and select the N best features\n",
    "        selected_features = selected_features.sort_values(by='importance', ascending=False)\n",
    "        self.top_features = selected_features['feature'].unique()\n",
    "\n",
    "        return self\n",
    "\n",
    "    def transform(self, X):\n",
    "        # Return only the selected features\n",
    "        if self.top_features is None:\n",
    "            raise RuntimeError(\"The fit method needs to be called before transform.\")\n",
    "        return X[self.top_features]"
   ]
  },
  {
   "cell_type": "markdown",
   "metadata": {},
   "source": [
    "<a class=\"anchor\" id=\"twelve-bullet\"> \n",
    "<d style=\"color:white;\">\n",
    "\n",
    "## 3. Model Assessment\n",
    "</a> \n",
    "</d>   "
   ]
  },
  {
   "cell_type": "markdown",
   "metadata": {},
   "source": [
    "<a class=\"anchor\" id=\"thirteen-bullet\"> \n",
    "<d style=\"color:white;\">\n",
    "\n",
    "### 3.1. Pre Model \n",
    "</a> \n",
    "</d>  "
   ]
  },
  {
   "cell_type": "code",
   "execution_count": 36,
   "metadata": {},
   "outputs": [],
   "source": [
    "def ensure_dataframe(X):\n",
    "    # Ensures that the input is a pandas DataFrame; if not, converts it to one\n",
    "    if not isinstance(X, pd.DataFrame):\n",
    "        return pd.DataFrame(X)\n",
    "    \n",
    "    return X\n"
   ]
  },
  {
   "cell_type": "code",
   "execution_count": 37,
   "metadata": {},
   "outputs": [],
   "source": [
    "def inspect_columns(X):\n",
    "    # Prints the list of columns after preprocessing\n",
    "    print(f\"Columns after preprocessor: {list(X.columns)}\")\n",
    "    return X"
   ]
  },
  {
   "cell_type": "code",
   "execution_count": 38,
   "metadata": {},
   "outputs": [],
   "source": [
    "code_mapping = {\n",
    "    'Industry Code': {\n",
    "        'Primary Industry': [11, 21, 22]  # Raw materials\n",
    "        ,'Secondary Industry': [23, 31]  # Manufacturing and Production\n",
    "        ,'Tertiary Industry': [42, 44, 48, 53]  # Services\n",
    "        ,'Quaternary Industry': [51, 52, 54, 55]  # Knowledge-based\n",
    "        ,'Social and Public Services': [61, 62, 92]\n",
    "        ,'Recreational and Hospitality Services': [71, 72]\n",
    "        ,'Other Services': [56, 81]\n",
    "    }\n",
    "    ,'WCIO Part Of Body Code': {\n",
    "        'Head': range(10, 20)\n",
    "        ,'Neck': range(20, 27)\n",
    "        ,'Upper Extremities': range(30, 40)\n",
    "        ,'Trunk': [*range(40, 50), *range(60, 64)]\n",
    "        ,'Lower Extremities': range(50, 59)\n",
    "        ,'Multiple Body Parts': [9, *range(64, 67), 90, 91, 99]\n",
    "    }\n",
    "    ,'WCIO Nature of Injury Code': {\n",
    "        'Specific Injury': [1, 2, 3, 4, 7, 10, 13, 16, 19, 22, 25, 28, 30, 31, 32, 34, 36, 37, 38, 40, 41, 42, 43, 46, 47, 49, 52, 53, 54, 55, 58, 59]\n",
    "        ,'Occupational Disease or Cumulative Injury': [*range(60, 81), 83]\n",
    "        ,'Multiple Injuries': [90, 91]\n",
    "    }\n",
    "    ,'WCIO Cause of Injury Code': {\n",
    "        'Burn or Scald - Heat or Cold Exposures - Contact With': [*range(1, 10), 11, 14, 84]\n",
    "        ,'Caught In, Under or Between': [10, 12, 13, 20]\n",
    "        ,'Cut, Puncture, Scrape Injured By': range(15, 20)\n",
    "        ,'Fall, Slip or Trip Injury': range(25, 34)\n",
    "        ,'Motor Vehicle': [40, 41, *range(45, 49), 50]\n",
    "        ,'Strain or Injury By': [*range(52, 62), 97]\n",
    "        ,'Stricking Against or Stepping On': range(65, 71)\n",
    "        ,'Struck or Injured By': [*range(74, 82), 85, 86]\n",
    "        ,'Rubbed or Abraded By': [94, 95]\n",
    "        ,'Miscellaneous Causes': [82, 83, *range(87, 92), 93, 96, 98, 99]\n",
    "    }    \n",
    "}"
   ]
  },
  {
   "cell_type": "markdown",
   "metadata": {},
   "source": [
    "Mappings Reference:\n",
    "- https://www.dir.ca.gov/dwc/WCIS/Part_of_Body.pdf\n",
    "- https://www.dir.ca.gov/dwc/WCIS/Nature_Of_Injury.pdf\n",
    "- https://www.dir.ca.gov/dwc/WCIS/Cause_Of_Injury.pdf"
   ]
  },
  {
   "cell_type": "code",
   "execution_count": 39,
   "metadata": {},
   "outputs": [],
   "source": [
    "class CodeMapper(BaseEstimator, TransformerMixin):\n",
    "    def __init__(self, mapping_dict):\n",
    "        \"\"\"\n",
    "        Initializes the CodeMapper with a dictionary containing the mapping information.\n",
    "        \"\"\"\n",
    "        self.mapping_dict = mapping_dict\n",
    "\n",
    "\n",
    "    def fit(self, X, y=None):\n",
    "        return self\n",
    "    \n",
    "\n",
    "    def transform(self, X):\n",
    "        \"\"\"\n",
    "        Transforms the input data by applying the specified mappings to the relevant columns.\n",
    "        \"\"\"\n",
    "        X_transformed = X.copy()\n",
    "\n",
    "        # Loop through the columns and apply the reverse mappings\n",
    "        for col, mappings in self.mapping_dict.items():\n",
    "            # Reverse the mapping to map values to their corresponding keys\n",
    "            reverse_mapping = {\n",
    "                val: key \n",
    "                for key, values in mappings.items() \n",
    "                for val in values\n",
    "            }\n",
    "\n",
    "            # Apply the mapping to the column and keep the original value if no mapping is found\n",
    "            X_transformed[col] = X_transformed[col].map(reverse_mapping).fillna(X_transformed[col])\n",
    "\n",
    "        return X_transformed\n"
   ]
  },
  {
   "cell_type": "code",
   "execution_count": 40,
   "metadata": {},
   "outputs": [],
   "source": [
    "class ConvertDataType(BaseEstimator, TransformerMixin):\n",
    "    def __init__(self, dtype, columns):\n",
    "        \"\"\"\n",
    "        Initializes the transformer to change the data type of specified columns.\n",
    "        \"\"\"\n",
    "        self.dtype = dtype\n",
    "        self.columns = columns\n",
    "\n",
    "\n",
    "    def fit(self, X, y=None):\n",
    "        return self\n",
    "    \n",
    "\n",
    "    def transform(self, X):\n",
    "        \"\"\"\n",
    "        Transforms the data by converting specified columns to the target data type.\n",
    "        \"\"\"\n",
    "        X = X.copy()\n",
    "\n",
    "        for col in self.columns:\n",
    "            X[col] = X[col].astype(self.dtype)\n",
    "\n",
    "        return X\n"
   ]
  },
  {
   "cell_type": "code",
   "execution_count": 41,
   "metadata": {},
   "outputs": [],
   "source": [
    "class FixCodes(BaseEstimator, TransformerMixin):\n",
    "    def __init__(self, valid_codes, columns):\n",
    "        \"\"\"\n",
    "        Initializes the transformer to fix codes based on the closest valid value.\n",
    "        \"\"\"\n",
    "        self.valid_codes = valid_codes\n",
    "        self.columns = columns\n",
    "\n",
    "\n",
    "    def fit(self, X, y=None):\n",
    "        return self\n",
    "    \n",
    "\n",
    "    def transform(self, X):\n",
    "        \"\"\"\n",
    "        Transforms the data by replacing invalid codes with the closest valid value.\n",
    "        \"\"\"\n",
    "        def closest_valid_value(col, val):\n",
    "            \"\"\"\n",
    "            Finds the closest valid value for a given invalid code.\n",
    "            \"\"\"\n",
    "            valid_values = []\n",
    "\n",
    "            for category, values in self.valid_codes[col].items():\n",
    "                valid_values.extend(values)\n",
    "\n",
    "            if val in valid_values:\n",
    "                return val\n",
    "            else:\n",
    "                return min(valid_values, key=lambda x: abs(x - val))\n",
    "            \n",
    "\n",
    "        X_transformed = X.copy()\n",
    "\n",
    "        for col in self.columns:\n",
    "            X_transformed[col] = X[col].apply(lambda x: closest_valid_value(col, x))\n",
    "\n",
    "        return X_transformed\n"
   ]
  },
  {
   "cell_type": "code",
   "execution_count": 42,
   "metadata": {},
   "outputs": [],
   "source": [
    "# inicializing kf with StratifiedKFold that will be used in the rest of the notebook\n",
    "kf = StratifiedKFold(n_splits=5, shuffle=True, random_state=42)"
   ]
  },
  {
   "cell_type": "code",
   "execution_count": 43,
   "metadata": {},
   "outputs": [],
   "source": [
    "def evaluate_feature_intervals(pipeline, X, y, feature_intervals, scoring='f1_macro', cv=5):\n",
    "    \"\"\"\n",
    "    Evaluates different numbers of features in the pipeline using Stratified K-Fold CV.\n",
    "    \n",
    "    Parameters:\n",
    "    - pipeline: Sklearn pipeline with EmbeddedFeatureSelector.\n",
    "    - X: DataFrame of features.\n",
    "    - y: Target variable.\n",
    "    - feature_intervals: List of numbers of features to test.\n",
    "    - scoring: Evaluation metric (default: 'f1_macro').\n",
    "    - cv: Number of folds for cross-validation.\n",
    "    \n",
    "    Returns:\n",
    "    - DataFrame with the results (n_features, mean_train_score, mean_val_score, overfit).\n",
    "    \"\"\"\n",
    "    results = []\n",
    "    \n",
    "    skf = StratifiedKFold(n_splits=cv, shuffle=True, random_state=42)\n",
    "    \n",
    "    for num_features in feature_intervals:\n",
    "        # Update the number of features in the selector within the pipeline\n",
    "        pipeline.set_params(feature_selector__num_features=num_features)\n",
    "        \n",
    "        # Perform cross-validation with StratifiedKFold\n",
    "        scores = cross_validate(\n",
    "            pipeline, X, y, cv=skf, scoring=scoring, n_jobs=-1, return_train_score=True\n",
    "        )\n",
    "        \n",
    "        # Store the results\n",
    "        results.append({\n",
    "            'n_features': num_features,\n",
    "            'mean_train_score': scores['train_score'].mean(),\n",
    "            'mean_val_score': scores['test_score'].mean(),\n",
    "            'overfit': abs(scores['train_score'].mean() - scores['test_score'].mean())\n",
    "        })\n",
    "    \n",
    "    return pd.DataFrame(results)\n"
   ]
  },
  {
   "cell_type": "code",
   "execution_count": 44,
   "metadata": {},
   "outputs": [],
   "source": [
    "def avg_score(model, X, y):\n",
    "    \"\"\"\n",
    "    This function receives a model, the X and y data, and applies cross-validation\n",
    "    using StratifiedKFold to calculate the F1 score for both training and validation.\n",
    "    \"\"\"\n",
    "    \n",
    "    # Lists to store the results of time and F1 score\n",
    "    train_f1_scores = []\n",
    "    val_f1_scores = []\n",
    "\n",
    "    # Loop through the StratifiedKFold splits\n",
    "    for train_index, val_index in kf.split(X, y):\n",
    "        # Get the training and validation data for each split\n",
    "        X_train_fold, X_val_fold = X.iloc[train_index], X.iloc[val_index]\n",
    "        y_train_fold, y_val_fold = y.iloc[train_index], y.iloc[val_index]\n",
    "        \n",
    "        # Train the model on the training data\n",
    "        model.fit(X_train_fold, y_train_fold)\n",
    "\n",
    "        # Calculate the F1-score for the training data\n",
    "        train_predictions = model.predict(X_train_fold)\n",
    "        train_f1 = f1_score(y_train_fold, train_predictions, average='macro')  # Adjusted for multiclass\n",
    "        \n",
    "        # Calculate the F1-score for the validation data\n",
    "        val_predictions = model.predict(X_val_fold)\n",
    "        val_f1 = f1_score(y_val_fold, val_predictions, average='macro')  # Adjusted for multiclass\n",
    "        \n",
    "        # Store the results in the lists\n",
    "        train_f1_scores.append(train_f1)\n",
    "        val_f1_scores.append(val_f1)\n",
    "\n",
    "    # Calculate the averages of each metric\n",
    "    avg_train_f1 = np.mean(train_f1_scores)\n",
    "    avg_val_f1 = np.mean(val_f1_scores)\n",
    "\n",
    "    # Return the results formatted\n",
    "    return avg_train_f1, avg_val_f1\n",
    "\n",
    "\n",
    "def show_results(df, *args):\n",
    "    \"\"\"\n",
    "    Receive an empty dataframe and the different models and call the function avg_score\n",
    "    \"\"\"\n",
    "    count = 0\n",
    "    # For each model passed as an argument\n",
    "    for arg in args:\n",
    "        # Obtain the results provided by avg_score\n",
    "        avg_train, avg_val = avg_score(arg, X, pd.DataFrame(y_encoded))\n",
    "        # Store the results in the correct row\n",
    "        df.iloc[count] = avg_train, avg_val\n",
    "        count+=1\n",
    "    return df\n"
   ]
  },
  {
   "cell_type": "code",
   "execution_count": 45,
   "metadata": {},
   "outputs": [],
   "source": [
    "preproc_steps = [\n",
    "    ('clip_outliers', ClipOutliersMulti(\n",
    "            quantile_limits={\n",
    "                'Age at Injury': (0.01, 0.95),\n",
    "                'Average Weekly Wage': (None, 0.75),  \n",
    "                'Birth Year': (0.01, 0.95),\n",
    "                'Days Difference': (None, 0.80),\n",
    "            },\n",
    "            fixed_limits={\n",
    "                'IME-4 Count': (None, 40)\n",
    "            }\n",
    "        )),\n",
    "        ('preprocessor', preprocessor),  #Scalling and one hot encoding\n",
    "        ('frequency_encoder', FrequencyEncoder(columns=[\n",
    "            'Carrier Name', 'County of Injury', 'Zip Code'\n",
    "        ])),\n",
    "        ('imputer', SampleKNNImputer(\n",
    "            features=[\n",
    "                'Alternative Dispute Resolution', 'Average Weekly Wage', 'Age at Injury', 'Birth Year', 'Carrier Name', 'Gender',\n",
    "                'Zip Code', 'Accident Date_year', 'Accident Date_month', 'Accident Date_day', 'Days Difference',\n",
    "                'Industry Code', 'WCIO Cause of Injury Code', 'WCIO Nature of Injury Code', 'WCIO Part Of Body Code',\n",
    "                'C-2 Missed Timing', 'C-3 Missed Timing', 'Log Average Weekly Wage', 'Log Birth Year', 'Log IME-4 Count'\n",
    "            ],\n",
    "            n_neighbors=5, weights='uniform', sample_size=1000, random_state=20\n",
    "        )),\n",
    "        ('int_convert', ConvertDataType(dtype='int', columns=['Industry Code', 'WCIO Cause of Injury Code', 'WCIO Nature of Injury Code', 'WCIO Part Of Body Code'])),\n",
    "        ('fix_codes', FixCodes(valid_codes=code_mapping, columns=['Industry Code', 'WCIO Cause of Injury Code', 'WCIO Nature of Injury Code', 'WCIO Part Of Body Code'])),\n",
    "        ('zero_fill', ZeroFillImputer(features=[\n",
    "            'IME-4 Count', 'C-2 Date_year', 'C-2 Date_month', 'C-2 Date_day',\n",
    "            'C-3 Date_year', 'C-3 Date_month', 'C-3 Date_day',\n",
    "            'First Hearing Date_year', 'First Hearing Date_month', 'First Hearing Date_day'\n",
    "        ])),\n",
    "        ('code_mapping', CodeMapper(code_mapping)),\n",
    "        ('oh_codes', ColumnTransformer(transformers=[\n",
    "            ('onehot', OneHotEncoder(\n",
    "                sparse_output=False\n",
    "                ,handle_unknown='ignore'\n",
    "                ,drop='first'\n",
    "            ), ['Industry Code', 'WCIO Cause of Injury Code', 'WCIO Nature of Injury Code', 'WCIO Part Of Body Code'])\n",
    "        ], remainder='passthrough'  # Preserve unspecified columns\n",
    "        ,verbose_feature_names_out=False  # Do not rename columns\n",
    "        ).set_output(transform=\"pandas\"))\n",
    "]"
   ]
  },
  {
   "cell_type": "markdown",
   "metadata": {},
   "source": [
    "<a class=\"anchor\" id=\"fourteen-bullet\"> \n",
    "<d style=\"color:white;\">\n",
    "\n",
    "### 3.2. XGBoost\n",
    "</a> \n",
    "</d>  "
   ]
  },
  {
   "cell_type": "markdown",
   "metadata": {},
   "source": [
    "#### 3.2.1. Pipeline Construction with XGBoost"
   ]
  },
  {
   "cell_type": "code",
   "execution_count": 46,
   "metadata": {},
   "outputs": [],
   "source": [
    "pipeline_XGB = Pipeline(steps=[\n",
    "    *preproc_steps,\n",
    "    ('feature_selector', XGBFeatureSelector(num_features=53)),  # Feature Selection\n",
    "    ('model', XGBClassifier(  # Final Model\n",
    "        n_estimators=200,\n",
    "        max_depth=6,\n",
    "        learning_rate=0.1,\n",
    "        reg_alpha=5,\n",
    "        reg_lambda=10,\n",
    "        random_state=42,\n",
    "    ))\n",
    "])"
   ]
  },
  {
   "cell_type": "markdown",
   "metadata": {},
   "source": [
    "#### 3.2.2. Confusion Matrix"
   ]
  },
  {
   "cell_type": "code",
   "execution_count": 53,
   "metadata": {},
   "outputs": [
    {
     "name": "stderr",
     "output_type": "stream",
     "text": [
      "c:\\Users\\rodri\\anaconda3\\Lib\\site-packages\\xgboost\\core.py:158: UserWarning: [17:38:40] WARNING: C:\\buildkite-agent\\builds\\buildkite-windows-cpu-autoscaling-group-i-0ed59c031377d09b8-1\\xgboost\\xgboost-ci-windows\\src\\learner.cc:740: \n",
      "Parameters: { \"use_label_encoder\" } are not used.\n",
      "\n",
      "  warnings.warn(smsg, UserWarning)\n"
     ]
    },
    {
     "data": {
      "image/png": "[encoded data removed]",
      "text/plain": [
       "<Figure size 800x600 with 2 Axes>"
      ]
     },
     "metadata": {},
     "output_type": "display_data"
    }
   ],
   "source": [
    "# Select the first fold\n",
    "for train_idx, val_idx in kf.split(X, y_encoded):\n",
    "    # Split the data into training and validation sets\n",
    "    X_train, X_val = X.iloc[train_idx], X.iloc[val_idx]\n",
    "    y_train, y_val = y_encoded[train_idx], y_encoded[val_idx]\n",
    "    \n",
    "    # Fit the pipeline on the training fold\n",
    "    pipeline_XGB.fit(X_train, y_train)\n",
    "    \n",
    "    # Make predictions on the validation set\n",
    "    y_val_pred = pipeline_XGB.predict(X_val)\n",
    "    \n",
    "    # Compute the confusion matrix\n",
    "    cm = confusion_matrix(y_val, y_val_pred)\n",
    "    \n",
    "    # Display the matrix graphically\n",
    "    plt.figure(figsize=(8, 6))\n",
    "    sns.heatmap(cm, annot=True, fmt=\"d\", cmap=\"Blues\", xticklabels=pipeline_XGB.classes_, yticklabels=pipeline_XGB.classes_)\n",
    "    plt.title(\"Confusion Matrix for a Single Fold\")\n",
    "    plt.ylabel(\"Actual\")\n",
    "    plt.xlabel(\"Predicted\")\n",
    "    plt.show()\n",
    "    \n",
    "    break"
   ]
  },
  {
   "cell_type": "markdown",
   "metadata": {},
   "source": [
    "As expected, we predict most observations of the class \"1\" wrongly. We end up with mostly the class 0 on our data which won't add much variance and therefore will probably not increase the performance of the model that predicts Claim Injury Type."
   ]
  },
  {
   "cell_type": "markdown",
   "metadata": {},
   "source": [
    "#### 3.2.3. F1-Macro, Recall-Macro and Precision-Macro"
   ]
  },
  {
   "cell_type": "code",
   "execution_count": 128,
   "metadata": {},
   "outputs": [
    {
     "name": "stderr",
     "output_type": "stream",
     "text": [
      "c:\\Users\\rodri\\anaconda3\\Lib\\site-packages\\xgboost\\core.py:158: UserWarning: [20:52:53] WARNING: C:\\buildkite-agent\\builds\\buildkite-windows-cpu-autoscaling-group-i-0ed59c031377d09b8-1\\xgboost\\xgboost-ci-windows\\src\\learner.cc:740: \n",
      "Parameters: { \"use_label_encoder\" } are not used.\n",
      "\n",
      "  warnings.warn(smsg, UserWarning)\n",
      "c:\\Users\\rodri\\anaconda3\\Lib\\site-packages\\xgboost\\core.py:158: UserWarning: [20:53:56] WARNING: C:\\buildkite-agent\\builds\\buildkite-windows-cpu-autoscaling-group-i-0ed59c031377d09b8-1\\xgboost\\xgboost-ci-windows\\src\\learner.cc:740: \n",
      "Parameters: { \"use_label_encoder\" } are not used.\n",
      "\n",
      "  warnings.warn(smsg, UserWarning)\n",
      "c:\\Users\\rodri\\anaconda3\\Lib\\site-packages\\xgboost\\core.py:158: UserWarning: [20:55:00] WARNING: C:\\buildkite-agent\\builds\\buildkite-windows-cpu-autoscaling-group-i-0ed59c031377d09b8-1\\xgboost\\xgboost-ci-windows\\src\\learner.cc:740: \n",
      "Parameters: { \"use_label_encoder\" } are not used.\n",
      "\n",
      "  warnings.warn(smsg, UserWarning)\n",
      "c:\\Users\\rodri\\anaconda3\\Lib\\site-packages\\xgboost\\core.py:158: UserWarning: [20:56:06] WARNING: C:\\buildkite-agent\\builds\\buildkite-windows-cpu-autoscaling-group-i-0ed59c031377d09b8-1\\xgboost\\xgboost-ci-windows\\src\\learner.cc:740: \n",
      "Parameters: { \"use_label_encoder\" } are not used.\n",
      "\n",
      "  warnings.warn(smsg, UserWarning)\n",
      "c:\\Users\\rodri\\anaconda3\\Lib\\site-packages\\xgboost\\core.py:158: UserWarning: [20:57:10] WARNING: C:\\buildkite-agent\\builds\\buildkite-windows-cpu-autoscaling-group-i-0ed59c031377d09b8-1\\xgboost\\xgboost-ci-windows\\src\\learner.cc:740: \n",
      "Parameters: { \"use_label_encoder\" } are not used.\n",
      "\n",
      "  warnings.warn(smsg, UserWarning)\n"
     ]
    },
    {
     "name": "stdout",
     "output_type": "stream",
     "text": [
      "Train F1-Macro scores for each fold: [0.62125583 0.62322639 0.62283129 0.62327805 0.62317116]\n",
      "Validation F1-Macro scores for each fold: [0.62051242 0.61434134 0.61023074 0.60435814 0.60823369]\n",
      "Mean Train F1-Macro score: 0.6227525424438307\n",
      "Mean Validation F1-Macro score: 0.6115352672142343\n",
      "Std Dev Train F1-Macro score: 0.0007644982664632306\n",
      "Std Dev Validation F1-Macro score: 0.005524070679419396\n",
      "\n",
      "Mean Train Recall-Macro score: 0.579779619726905\n",
      "Mean Validation Recall-Macro score: 0.5726761798781181\n",
      "Std Dev Train Recall-Macro score: 0.0005783824641064821\n",
      "Std Dev Validation Recall-Macro score: 0.003656324347138244\n",
      "\n",
      "Mean Train Precision-Macro score: 0.857243901814537\n",
      "Mean Validation Precision-Macro score: 0.8310890316660352\n",
      "Std Dev Train Precision-Macro score: 0.0018736536391499182\n",
      "Std Dev Validation Precision-Macro score: 0.010072885053849704\n"
     ]
    }
   ],
   "source": [
    "scoring = {\n",
    "    'f1_macro': make_scorer(f1_score, average='macro'),\n",
    "    'recall_macro': make_scorer(recall_score, average='macro'),\n",
    "    'precision_macro': make_scorer(precision_score, average='macro')\n",
    "}\n",
    "\n",
    "cv_results = cross_validate(\n",
    "    pipeline_XGB,\n",
    "    X,\n",
    "    y_encoded,\n",
    "    cv=kf,\n",
    "    scoring=scoring,\n",
    "    return_train_score=True\n",
    ")\n",
    "\n",
    "# F1-Macro\n",
    "train_f1_scores = cv_results['train_f1_macro']\n",
    "val_f1_scores = cv_results['test_f1_macro']\n",
    "print(\"Train F1-Macro scores for each fold:\", train_f1_scores)\n",
    "print(\"Validation F1-Macro scores for each fold:\", val_f1_scores)\n",
    "print(\"Mean Train F1-Macro score:\", train_f1_scores.mean())\n",
    "print(\"Mean Validation F1-Macro score:\", val_f1_scores.mean())\n",
    "print(\"Std Dev Train F1-Macro score:\", train_f1_scores.std())\n",
    "print(\"Std Dev Validation F1-Macro score:\", val_f1_scores.std())\n",
    "\n",
    "# Recall-Macro\n",
    "train_recall_scores = cv_results['train_recall_macro']\n",
    "val_recall_scores = cv_results['test_recall_macro']\n",
    "print(\"\\nMean Train Recall-Macro score:\", train_recall_scores.mean())\n",
    "print(\"Mean Validation Recall-Macro score:\", val_recall_scores.mean())\n",
    "print(\"Std Dev Train Recall-Macro score:\", train_recall_scores.std())\n",
    "print(\"Std Dev Validation Recall-Macro score:\", val_recall_scores.std())\n",
    "\n",
    "# Precision-Macro\n",
    "train_precision_scores = cv_results['train_precision_macro']\n",
    "val_precision_scores = cv_results['test_precision_macro']\n",
    "print(\"\\nMean Train Precision-Macro score:\", train_precision_scores.mean())\n",
    "print(\"Mean Validation Precision-Macro score:\", val_precision_scores.mean())\n",
    "print(\"Std Dev Train Precision-Macro score:\", train_precision_scores.std())\n",
    "print(\"Std Dev Validation Precision-Macro score:\", val_precision_scores.std())"
   ]
  },
  {
   "cell_type": "markdown",
   "metadata": {},
   "source": [
    "<a class=\"anchor\" id=\"fifteen-bullet\"> \n",
    "<d style=\"color:white;\">\n",
    "\n",
    "### 3.3. Neural Network\n",
    "</a> \n",
    "</d>  "
   ]
  },
  {
   "cell_type": "code",
   "execution_count": 55,
   "metadata": {},
   "outputs": [],
   "source": [
    "pipeline_NN = Pipeline(steps=[\n",
    "    *preproc_steps,\n",
    "    ('select_k_best', SelectKBest(k=44, score_func=f_classif)),\n",
    "    ('final_model', MLPClassifier(\n",
    "        hidden_layer_sizes=(250, 120)\n",
    "        ,batch_size=500\n",
    "        ,max_iter=400\n",
    "        ,random_state=20\n",
    "        ,learning_rate='constant'\n",
    "        ,learning_rate_init=0.1\n",
    "        ,solver='sgd'\n",
    "    ))\n",
    "])"
   ]
  },
  {
   "cell_type": "markdown",
   "metadata": {},
   "source": [
    "#### 3.3.1. Confusion Matrix"
   ]
  },
  {
   "cell_type": "code",
   "execution_count": 56,
   "metadata": {},
   "outputs": [
    {
     "name": "stderr",
     "output_type": "stream",
     "text": [
      "c:\\Users\\rodri\\anaconda3\\Lib\\site-packages\\sklearn\\neural_network\\_multilayer_perceptron.py:690: ConvergenceWarning: Stochastic Optimizer: Maximum iterations (400) reached and the optimization hasn't converged yet.\n",
      "  warnings.warn(\n"
     ]
    },
    {
     "data": {
      "image/png": "[encoded data removed]",
      "text/plain": [
       "<Figure size 800x600 with 2 Axes>"
      ]
     },
     "metadata": {},
     "output_type": "display_data"
    }
   ],
   "source": [
    "# Select the first fold\n",
    "for train_idx, val_idx in kf.split(X, y_encoded):\n",
    "    # Split the data into training and validation sets\n",
    "    X_train, X_val = X.iloc[train_idx], X.iloc[val_idx]\n",
    "    y_train, y_val = y_encoded[train_idx], y_encoded[val_idx]\n",
    "    \n",
    "    # Fit the pipeline on the training fold\n",
    "    pipeline_NN.fit(X_train, y_train)\n",
    "    \n",
    "    # Make predictions on the validation set\n",
    "    y_val_pred = pipeline_NN.predict(X_val)\n",
    "    \n",
    "    # Compute the confusion matrix\n",
    "    cm = confusion_matrix(y_val, y_val_pred)\n",
    "    \n",
    "    # Display the matrix graphically\n",
    "    plt.figure(figsize=(8, 6))\n",
    "    sns.heatmap(cm, annot=True, fmt=\"d\", cmap=\"Blues\", xticklabels=pipeline_NN.classes_, yticklabels=pipeline_NN.classes_)\n",
    "    plt.title(\"Confusion Matrix for a Single Fold\")\n",
    "    plt.ylabel(\"Actual\")\n",
    "    plt.xlabel(\"Predicted\")\n",
    "    plt.show()\n",
    "    \n",
    "    break\n"
   ]
  },
  {
   "cell_type": "markdown",
   "metadata": {},
   "source": [
    "#### 3.3.2. F1-Macro, Recall-Macro and Precision-Macro"
   ]
  },
  {
   "cell_type": "code",
   "execution_count": 57,
   "metadata": {},
   "outputs": [
    {
     "name": "stderr",
     "output_type": "stream",
     "text": [
      "c:\\Users\\rodri\\anaconda3\\Lib\\site-packages\\sklearn\\neural_network\\_multilayer_perceptron.py:690: ConvergenceWarning: Stochastic Optimizer: Maximum iterations (400) reached and the optimization hasn't converged yet.\n",
      "  warnings.warn(\n",
      "c:\\Users\\rodri\\anaconda3\\Lib\\site-packages\\sklearn\\metrics\\_classification.py:1531: UndefinedMetricWarning: Precision is ill-defined and being set to 0.0 in labels with no predicted samples. Use `zero_division` parameter to control this behavior.\n",
      "  _warn_prf(average, modifier, f\"{metric.capitalize()} is\", len(result))\n"
     ]
    },
    {
     "name": "stdout",
     "output_type": "stream",
     "text": [
      "Train F1-Macro scores for each fold: [0.71749909 0.55649487 0.56266856 0.59968491 0.48805471]\n",
      "Validation F1-Macro scores for each fold: [0.62627823 0.55385486 0.56024206 0.59209301 0.48805579]\n",
      "Mean Train F1-Macro score: 0.5848804269424013\n",
      "Mean Validation F1-Macro score: 0.5641047905771811\n",
      "Std Dev Train F1-Macro score: 0.07547345144217125\n",
      "Std Dev Validation F1-Macro score: 0.04593976109652035\n",
      "\n",
      "Mean Train Recall-Macro score: 0.5613584013635754\n",
      "Mean Validation Recall-Macro score: 0.546182921704505\n",
      "Std Dev Train Recall-Macro score: 0.055664787373571764\n",
      "Std Dev Validation Recall-Macro score: 0.03175290710017786\n",
      "\n",
      "Mean Train Precision-Macro score: 0.7676604994379763\n",
      "Mean Validation Precision-Macro score: 0.7308778952042444\n",
      "Std Dev Train Precision-Macro score: 0.14725068236944902\n",
      "Std Dev Validation Precision-Macro score: 0.13858290868341924\n"
     ]
    },
    {
     "name": "stderr",
     "output_type": "stream",
     "text": [
      "c:\\Users\\rodri\\anaconda3\\Lib\\site-packages\\sklearn\\metrics\\_classification.py:1531: UndefinedMetricWarning: Precision is ill-defined and being set to 0.0 in labels with no predicted samples. Use `zero_division` parameter to control this behavior.\n",
      "  _warn_prf(average, modifier, f\"{metric.capitalize()} is\", len(result))\n"
     ]
    }
   ],
   "source": [
    "cv_results = cross_validate(\n",
    "    pipeline_NN,\n",
    "    X,\n",
    "    y_encoded,\n",
    "    cv=kf,\n",
    "    scoring=scoring,\n",
    "    return_train_score=True\n",
    ")\n",
    "\n",
    "# F1-Macro\n",
    "train_f1_scores = cv_results['train_f1_macro']\n",
    "val_f1_scores = cv_results['test_f1_macro']\n",
    "print(\"Train F1-Macro scores for each fold:\", train_f1_scores)\n",
    "print(\"Validation F1-Macro scores for each fold:\", val_f1_scores)\n",
    "print(\"Mean Train F1-Macro score:\", train_f1_scores.mean())\n",
    "print(\"Mean Validation F1-Macro score:\", val_f1_scores.mean())\n",
    "print(\"Std Dev Train F1-Macro score:\", train_f1_scores.std())\n",
    "print(\"Std Dev Validation F1-Macro score:\", val_f1_scores.std())\n",
    "\n",
    "# Recall-Macro\n",
    "train_recall_scores = cv_results['train_recall_macro']\n",
    "val_recall_scores = cv_results['test_recall_macro']\n",
    "print(\"\\nMean Train Recall-Macro score:\", train_recall_scores.mean())\n",
    "print(\"Mean Validation Recall-Macro score:\", val_recall_scores.mean())\n",
    "print(\"Std Dev Train Recall-Macro score:\", train_recall_scores.std())\n",
    "print(\"Std Dev Validation Recall-Macro score:\", val_recall_scores.std())\n",
    "\n",
    "# Precision-Macro\n",
    "train_precision_scores = cv_results['train_precision_macro']\n",
    "val_precision_scores = cv_results['test_precision_macro']\n",
    "print(\"\\nMean Train Precision-Macro score:\", train_precision_scores.mean())\n",
    "print(\"Mean Validation Precision-Macro score:\", val_precision_scores.mean())\n",
    "print(\"Std Dev Train Precision-Macro score:\", train_precision_scores.std())\n",
    "print(\"Std Dev Validation Precision-Macro score:\", val_precision_scores.std())"
   ]
  },
  {
   "cell_type": "markdown",
   "metadata": {},
   "source": [
    "<a class=\"anchor\" id=\"sixteen-bullet\"> \n",
    "<d style=\"color:white;\">\n",
    "\n",
    "### 3.4. Logistic Regression\n",
    "</a> \n",
    "</d>  "
   ]
  },
  {
   "cell_type": "code",
   "execution_count": 54,
   "metadata": {},
   "outputs": [],
   "source": [
    "pipeline_LR = Pipeline(steps=[\n",
    "    *preproc_steps,\n",
    "    ('model', LogisticRegression(\n",
    "            random_state=42,\n",
    "            max_iter=1000,\n",
    "            C = 100,\n",
    "            l1_ratio = 0.2,\n",
    "            penalty = 'l2',\n",
    "            solver = 'newton-cg'))\n",
    "])"
   ]
  },
  {
   "cell_type": "markdown",
   "metadata": {},
   "source": [
    "#### 3.4.1. Confusion Matrix"
   ]
  },
  {
   "cell_type": "code",
   "execution_count": 55,
   "metadata": {},
   "outputs": [
    {
     "name": "stderr",
     "output_type": "stream",
     "text": [
      "c:\\Users\\rodri\\anaconda3\\Lib\\site-packages\\sklearn\\linear_model\\_logistic.py:1197: UserWarning: l1_ratio parameter is only used when penalty is 'elasticnet'. Got (penalty=l2)\n",
      "  warnings.warn(\n"
     ]
    },
    {
     "data": {
      "image/png": "[encoded data removed]",
      "text/plain": [
       "<Figure size 800x600 with 2 Axes>"
      ]
     },
     "metadata": {},
     "output_type": "display_data"
    }
   ],
   "source": [
    "# Select the first fold\n",
    "for train_idx, val_idx in kf.split(X, y_encoded):\n",
    "    # Split the data into training and validation sets\n",
    "    X_train, X_val = X.iloc[train_idx], X.iloc[val_idx]\n",
    "    y_train, y_val = y_encoded[train_idx], y_encoded[val_idx]\n",
    "    \n",
    "    # Fit the pipeline on the training fold\n",
    "    pipeline_LR.fit(X_train, y_train)\n",
    "    \n",
    "    # Make predictions on the validation set\n",
    "    y_val_pred = pipeline_LR.predict(X_val)\n",
    "    \n",
    "    # Compute the confusion matrix\n",
    "    cm = confusion_matrix(y_val, y_val_pred)\n",
    "    \n",
    "    # Display the matrix graphically\n",
    "    plt.figure(figsize=(8, 6))\n",
    "    sns.heatmap(cm, annot=True, fmt=\"d\", cmap=\"Blues\", xticklabels=pipeline_LR.classes_, yticklabels=pipeline_LR.classes_)\n",
    "    plt.title(\"Confusion Matrix for a Single Fold\")\n",
    "    plt.ylabel(\"Actual\")\n",
    "    plt.xlabel(\"Predicted\")\n",
    "    plt.show()\n",
    "    \n",
    "    break"
   ]
  },
  {
   "cell_type": "markdown",
   "metadata": {},
   "source": [
    "#### 3.4.2. F1-Macro, Recall-Macro and Precision-Macro"
   ]
  },
  {
   "cell_type": "code",
   "execution_count": 56,
   "metadata": {},
   "outputs": [
    {
     "name": "stderr",
     "output_type": "stream",
     "text": [
      "c:\\Users\\rodri\\anaconda3\\Lib\\site-packages\\sklearn\\linear_model\\_logistic.py:1197: UserWarning: l1_ratio parameter is only used when penalty is 'elasticnet'. Got (penalty=l2)\n",
      "  warnings.warn(\n",
      "c:\\Users\\rodri\\anaconda3\\Lib\\site-packages\\sklearn\\linear_model\\_logistic.py:1197: UserWarning: l1_ratio parameter is only used when penalty is 'elasticnet'. Got (penalty=l2)\n",
      "  warnings.warn(\n",
      "c:\\Users\\rodri\\anaconda3\\Lib\\site-packages\\sklearn\\linear_model\\_logistic.py:1197: UserWarning: l1_ratio parameter is only used when penalty is 'elasticnet'. Got (penalty=l2)\n",
      "  warnings.warn(\n",
      "c:\\Users\\rodri\\anaconda3\\Lib\\site-packages\\sklearn\\linear_model\\_logistic.py:1197: UserWarning: l1_ratio parameter is only used when penalty is 'elasticnet'. Got (penalty=l2)\n",
      "  warnings.warn(\n",
      "c:\\Users\\rodri\\anaconda3\\Lib\\site-packages\\sklearn\\linear_model\\_logistic.py:1197: UserWarning: l1_ratio parameter is only used when penalty is 'elasticnet'. Got (penalty=l2)\n",
      "  warnings.warn(\n"
     ]
    },
    {
     "name": "stdout",
     "output_type": "stream",
     "text": [
      "Train F1-Macro scores for each fold: [0.57045531 0.57053796 0.57094861 0.57216059 0.57133669]\n",
      "Validation F1-Macro scores for each fold: [0.57035851 0.57378581 0.57575209 0.56649096 0.56811875]\n",
      "Mean Train F1-Macro score: 0.5710878346519765\n",
      "Mean Validation F1-Macro score: 0.5709012261392065\n",
      "Std Dev Train F1-Macro score: 0.0006220235995071036\n",
      "Std Dev Validation F1-Macro score: 0.0034449647492651547\n",
      "\n",
      "Mean Train Recall-Macro score: 0.546419458805043\n",
      "Mean Validation Recall-Macro score: 0.546340576169563\n",
      "Std Dev Train Recall-Macro score: 0.0003758443193466041\n",
      "Std Dev Validation Recall-Macro score: 0.0022102938720743315\n",
      "\n",
      "Mean Train Precision-Macro score: 0.7770544115725718\n",
      "Mean Validation Precision-Macro score: 0.7752899658400831\n",
      "Std Dev Train Precision-Macro score: 0.0019495869828813368\n",
      "Std Dev Validation Precision-Macro score: 0.007324617277892992\n"
     ]
    }
   ],
   "source": [
    "cv_results = cross_validate(\n",
    "    pipeline_LR,\n",
    "    X,\n",
    "    y_encoded,\n",
    "    cv=kf,\n",
    "    scoring=scoring,\n",
    "    return_train_score=True\n",
    ")\n",
    "\n",
    "# F1-Macro\n",
    "train_f1_scores = cv_results['train_f1_macro']\n",
    "val_f1_scores = cv_results['test_f1_macro']\n",
    "print(\"Train F1-Macro scores for each fold:\", train_f1_scores)\n",
    "print(\"Validation F1-Macro scores for each fold:\", val_f1_scores)\n",
    "print(\"Mean Train F1-Macro score:\", train_f1_scores.mean())\n",
    "print(\"Mean Validation F1-Macro score:\", val_f1_scores.mean())\n",
    "print(\"Std Dev Train F1-Macro score:\", train_f1_scores.std())\n",
    "print(\"Std Dev Validation F1-Macro score:\", val_f1_scores.std())\n",
    "\n",
    "# Recall-Macro\n",
    "train_recall_scores = cv_results['train_recall_macro']\n",
    "val_recall_scores = cv_results['test_recall_macro']\n",
    "print(\"\\nMean Train Recall-Macro score:\", train_recall_scores.mean())\n",
    "print(\"Mean Validation Recall-Macro score:\", val_recall_scores.mean())\n",
    "print(\"Std Dev Train Recall-Macro score:\", train_recall_scores.std())\n",
    "print(\"Std Dev Validation Recall-Macro score:\", val_recall_scores.std())\n",
    "\n",
    "# Precision-Macro\n",
    "train_precision_scores = cv_results['train_precision_macro']\n",
    "val_precision_scores = cv_results['test_precision_macro']\n",
    "print(\"\\nMean Train Precision-Macro score:\", train_precision_scores.mean())\n",
    "print(\"Mean Validation Precision-Macro score:\", val_precision_scores.mean())\n",
    "print(\"Std Dev Train Precision-Macro score:\", train_precision_scores.std())\n",
    "print(\"Std Dev Validation Precision-Macro score:\", val_precision_scores.std())"
   ]
  },
  {
   "cell_type": "markdown",
   "metadata": {},
   "source": [
    "## Out-of-Fold Predictions for Agreement Reached "
   ]
  },
  {
   "cell_type": "markdown",
   "metadata": {},
   "source": [
    "We are going to use XGBoost as the model to make the final prediction and incorporate them as a new variable since it was the model where we got the best scores"
   ]
  },
  {
   "cell_type": "code",
   "execution_count": 47,
   "metadata": {},
   "outputs": [
    {
     "name": "stderr",
     "output_type": "stream",
     "text": [
      "c:\\Users\\rodri\\anaconda3\\Lib\\site-packages\\xgboost\\core.py:158: UserWarning: [23:02:53] WARNING: C:\\buildkite-agent\\builds\\buildkite-windows-cpu-autoscaling-group-i-0ed59c031377d09b8-1\\xgboost\\xgboost-ci-windows\\src\\learner.cc:740: \n",
      "Parameters: { \"use_label_encoder\" } are not used.\n",
      "\n",
      "  warnings.warn(smsg, UserWarning)\n",
      "c:\\Users\\rodri\\anaconda3\\Lib\\site-packages\\xgboost\\core.py:158: UserWarning: [23:03:47] WARNING: C:\\buildkite-agent\\builds\\buildkite-windows-cpu-autoscaling-group-i-0ed59c031377d09b8-1\\xgboost\\xgboost-ci-windows\\src\\learner.cc:740: \n",
      "Parameters: { \"use_label_encoder\" } are not used.\n",
      "\n",
      "  warnings.warn(smsg, UserWarning)\n",
      "c:\\Users\\rodri\\anaconda3\\Lib\\site-packages\\xgboost\\core.py:158: UserWarning: [23:04:41] WARNING: C:\\buildkite-agent\\builds\\buildkite-windows-cpu-autoscaling-group-i-0ed59c031377d09b8-1\\xgboost\\xgboost-ci-windows\\src\\learner.cc:740: \n",
      "Parameters: { \"use_label_encoder\" } are not used.\n",
      "\n",
      "  warnings.warn(smsg, UserWarning)\n",
      "c:\\Users\\rodri\\anaconda3\\Lib\\site-packages\\xgboost\\core.py:158: UserWarning: [23:05:35] WARNING: C:\\buildkite-agent\\builds\\buildkite-windows-cpu-autoscaling-group-i-0ed59c031377d09b8-1\\xgboost\\xgboost-ci-windows\\src\\learner.cc:740: \n",
      "Parameters: { \"use_label_encoder\" } are not used.\n",
      "\n",
      "  warnings.warn(smsg, UserWarning)\n",
      "c:\\Users\\rodri\\anaconda3\\Lib\\site-packages\\xgboost\\core.py:158: UserWarning: [23:06:29] WARNING: C:\\buildkite-agent\\builds\\buildkite-windows-cpu-autoscaling-group-i-0ed59c031377d09b8-1\\xgboost\\xgboost-ci-windows\\src\\learner.cc:740: \n",
      "Parameters: { \"use_label_encoder\" } are not used.\n",
      "\n",
      "  warnings.warn(smsg, UserWarning)\n"
     ]
    }
   ],
   "source": [
    "oof_predictions = np.zeros(len(X))  # Placeholder para previsões OOF\n",
    "\n",
    "# Loop para validação cruzada\n",
    "for train_idx, val_idx in kf.split(X, y):\n",
    "    X_train, X_val = X.iloc[train_idx], X.iloc[val_idx]\n",
    "    y_train, y_val = y.iloc[train_idx], y.iloc[val_idx]\n",
    "    \n",
    "    # Treinar a pipeline no fold de treino\n",
    "    pipeline_XGB.fit(X_train, y_train)\n",
    "    \n",
    "    # Fazer previsões no fold de validação\n",
    "    oof_predictions[val_idx] = pipeline_XGB.predict(X_val)\n",
    "\n",
    "# Adicionar as previsões OOF ao X como nova variável AO X_claim - we can do this because X and X_claim have the same lines\n",
    "X_claim['agreement_pred'] = oof_predictions\n",
    "\n"
   ]
  },
  {
   "cell_type": "code",
   "execution_count": 48,
   "metadata": {},
   "outputs": [
    {
     "data": {
      "text/plain": [
       "5393875    0.0\n",
       "5393091    0.0\n",
       "5393889    0.0\n",
       "5393887    0.0\n",
       "5393863    0.0\n",
       "          ... \n",
       "6165265    0.0\n",
       "6165285    0.0\n",
       "6165506    0.0\n",
       "6165339    0.0\n",
       "6165075    0.0\n",
       "Name: agreement_pred, Length: 574022, dtype: float64"
      ]
     },
     "execution_count": 48,
     "metadata": {},
     "output_type": "execute_result"
    }
   ],
   "source": [
    "X_claim['agreement_pred']"
   ]
  },
  {
   "cell_type": "markdown",
   "metadata": {},
   "source": [
    "## Claim Injury Type predictions with Agreement Reached incorporated"
   ]
  },
  {
   "cell_type": "markdown",
   "metadata": {},
   "source": [
    "Pipeline for CLaim Injury Type Model - Preprocess the same"
   ]
  },
  {
   "cell_type": "code",
   "execution_count": 49,
   "metadata": {},
   "outputs": [],
   "source": [
    "pipeline_claim = pipeline_XGB"
   ]
  },
  {
   "cell_type": "markdown",
   "metadata": {},
   "source": [
    "\n",
    "### F1-Macro, Recall-Macro and Precision-Macro"
   ]
  },
  {
   "cell_type": "code",
   "execution_count": 51,
   "metadata": {},
   "outputs": [],
   "source": [
    "scoring = {\n",
    "    'f1_macro': make_scorer(f1_score, average='macro'),\n",
    "    'recall_macro': make_scorer(recall_score, average='macro'),\n",
    "    'precision_macro': make_scorer(precision_score, average='macro')\n",
    "}"
   ]
  },
  {
   "cell_type": "code",
   "execution_count": 52,
   "metadata": {},
   "outputs": [
    {
     "name": "stderr",
     "output_type": "stream",
     "text": [
      "c:\\Users\\rodri\\anaconda3\\Lib\\site-packages\\xgboost\\core.py:158: UserWarning: [23:23:51] WARNING: C:\\buildkite-agent\\builds\\buildkite-windows-cpu-autoscaling-group-i-0ed59c031377d09b8-1\\xgboost\\xgboost-ci-windows\\src\\learner.cc:740: \n",
      "Parameters: { \"scale_pos_weight\", \"use_label_encoder\" } are not used.\n",
      "\n",
      "  warnings.warn(smsg, UserWarning)\n",
      "c:\\Users\\rodri\\anaconda3\\Lib\\site-packages\\sklearn\\metrics\\_classification.py:1531: UndefinedMetricWarning: Precision is ill-defined and being set to 0.0 in labels with no predicted samples. Use `zero_division` parameter to control this behavior.\n",
      "  _warn_prf(average, modifier, f\"{metric.capitalize()} is\", len(result))\n",
      "c:\\Users\\rodri\\anaconda3\\Lib\\site-packages\\sklearn\\metrics\\_classification.py:1531: UndefinedMetricWarning: Precision is ill-defined and being set to 0.0 in labels with no predicted samples. Use `zero_division` parameter to control this behavior.\n",
      "  _warn_prf(average, modifier, f\"{metric.capitalize()} is\", len(result))\n",
      "c:\\Users\\rodri\\anaconda3\\Lib\\site-packages\\xgboost\\core.py:158: UserWarning: [23:28:30] WARNING: C:\\buildkite-agent\\builds\\buildkite-windows-cpu-autoscaling-group-i-0ed59c031377d09b8-1\\xgboost\\xgboost-ci-windows\\src\\learner.cc:740: \n",
      "Parameters: { \"scale_pos_weight\", \"use_label_encoder\" } are not used.\n",
      "\n",
      "  warnings.warn(smsg, UserWarning)\n",
      "c:\\Users\\rodri\\anaconda3\\Lib\\site-packages\\sklearn\\metrics\\_classification.py:1531: UndefinedMetricWarning: Precision is ill-defined and being set to 0.0 in labels with no predicted samples. Use `zero_division` parameter to control this behavior.\n",
      "  _warn_prf(average, modifier, f\"{metric.capitalize()} is\", len(result))\n",
      "c:\\Users\\rodri\\anaconda3\\Lib\\site-packages\\sklearn\\metrics\\_classification.py:1531: UndefinedMetricWarning: Precision is ill-defined and being set to 0.0 in labels with no predicted samples. Use `zero_division` parameter to control this behavior.\n",
      "  _warn_prf(average, modifier, f\"{metric.capitalize()} is\", len(result))\n",
      "c:\\Users\\rodri\\anaconda3\\Lib\\site-packages\\xgboost\\core.py:158: UserWarning: [23:31:29] WARNING: C:\\buildkite-agent\\builds\\buildkite-windows-cpu-autoscaling-group-i-0ed59c031377d09b8-1\\xgboost\\xgboost-ci-windows\\src\\learner.cc:740: \n",
      "Parameters: { \"scale_pos_weight\", \"use_label_encoder\" } are not used.\n",
      "\n",
      "  warnings.warn(smsg, UserWarning)\n",
      "c:\\Users\\rodri\\anaconda3\\Lib\\site-packages\\sklearn\\metrics\\_classification.py:1531: UndefinedMetricWarning: Precision is ill-defined and being set to 0.0 in labels with no predicted samples. Use `zero_division` parameter to control this behavior.\n",
      "  _warn_prf(average, modifier, f\"{metric.capitalize()} is\", len(result))\n",
      "c:\\Users\\rodri\\anaconda3\\Lib\\site-packages\\sklearn\\metrics\\_classification.py:1531: UndefinedMetricWarning: Precision is ill-defined and being set to 0.0 in labels with no predicted samples. Use `zero_division` parameter to control this behavior.\n",
      "  _warn_prf(average, modifier, f\"{metric.capitalize()} is\", len(result))\n",
      "c:\\Users\\rodri\\anaconda3\\Lib\\site-packages\\xgboost\\core.py:158: UserWarning: [23:34:52] WARNING: C:\\buildkite-agent\\builds\\buildkite-windows-cpu-autoscaling-group-i-0ed59c031377d09b8-1\\xgboost\\xgboost-ci-windows\\src\\learner.cc:740: \n",
      "Parameters: { \"scale_pos_weight\", \"use_label_encoder\" } are not used.\n",
      "\n",
      "  warnings.warn(smsg, UserWarning)\n",
      "c:\\Users\\rodri\\anaconda3\\Lib\\site-packages\\sklearn\\metrics\\_classification.py:1531: UndefinedMetricWarning: Precision is ill-defined and being set to 0.0 in labels with no predicted samples. Use `zero_division` parameter to control this behavior.\n",
      "  _warn_prf(average, modifier, f\"{metric.capitalize()} is\", len(result))\n",
      "c:\\Users\\rodri\\anaconda3\\Lib\\site-packages\\sklearn\\metrics\\_classification.py:1531: UndefinedMetricWarning: Precision is ill-defined and being set to 0.0 in labels with no predicted samples. Use `zero_division` parameter to control this behavior.\n",
      "  _warn_prf(average, modifier, f\"{metric.capitalize()} is\", len(result))\n",
      "c:\\Users\\rodri\\anaconda3\\Lib\\site-packages\\xgboost\\core.py:158: UserWarning: [23:37:25] WARNING: C:\\buildkite-agent\\builds\\buildkite-windows-cpu-autoscaling-group-i-0ed59c031377d09b8-1\\xgboost\\xgboost-ci-windows\\src\\learner.cc:740: \n",
      "Parameters: { \"scale_pos_weight\", \"use_label_encoder\" } are not used.\n",
      "\n",
      "  warnings.warn(smsg, UserWarning)\n",
      "c:\\Users\\rodri\\anaconda3\\Lib\\site-packages\\sklearn\\metrics\\_classification.py:1531: UndefinedMetricWarning: Precision is ill-defined and being set to 0.0 in labels with no predicted samples. Use `zero_division` parameter to control this behavior.\n",
      "  _warn_prf(average, modifier, f\"{metric.capitalize()} is\", len(result))\n"
     ]
    },
    {
     "name": "stdout",
     "output_type": "stream",
     "text": [
      "Train F1-Macro scores for each fold: [0.45552687 0.45155853 0.45590234 0.45182936 0.45343016]\n",
      "Validation F1-Macro scores for each fold: [0.42101603 0.44083806 0.4297481  0.4409151  0.43356671]\n",
      "Mean Train F1-Macro score: 0.45364945164552567\n",
      "Mean Validation F1-Macro score: 0.4332167983137703\n",
      "Std Dev Train F1-Macro score: 0.0018073726016164934\n",
      "Std Dev Validation F1-Macro score: 0.007461375467003494\n",
      "\n",
      "Mean Train Recall-Macro score: 0.4316793688713124\n",
      "Mean Validation Recall-Macro score: 0.41470906730687807\n",
      "Std Dev Train Recall-Macro score: 0.0019670462205855273\n",
      "Std Dev Validation Recall-Macro score: 0.007173978321598292\n",
      "\n",
      "Mean Train Precision-Macro score: 0.6005228768541856\n",
      "Mean Validation Precision-Macro score: 0.547036067707179\n",
      "Std Dev Train Precision-Macro score: 0.009919397598653125\n",
      "Std Dev Validation Precision-Macro score: 0.019963767868694728\n"
     ]
    },
    {
     "name": "stderr",
     "output_type": "stream",
     "text": [
      "c:\\Users\\rodri\\anaconda3\\Lib\\site-packages\\sklearn\\metrics\\_classification.py:1531: UndefinedMetricWarning: Precision is ill-defined and being set to 0.0 in labels with no predicted samples. Use `zero_division` parameter to control this behavior.\n",
      "  _warn_prf(average, modifier, f\"{metric.capitalize()} is\", len(result))\n"
     ]
    }
   ],
   "source": [
    "cv_results = cross_validate(\n",
    "    pipeline_claim,\n",
    "    X_claim,\n",
    "    y_claim,\n",
    "    cv=kf,\n",
    "    scoring=scoring,\n",
    "    return_train_score=True\n",
    ")\n",
    "\n",
    "# F1-Macro\n",
    "train_f1_scores = cv_results['train_f1_macro']\n",
    "val_f1_scores = cv_results['test_f1_macro']\n",
    "print(\"Train F1-Macro scores for each fold:\", train_f1_scores)\n",
    "print(\"Validation F1-Macro scores for each fold:\", val_f1_scores)\n",
    "print(\"Mean Train F1-Macro score:\", train_f1_scores.mean())\n",
    "print(\"Mean Validation F1-Macro score:\", val_f1_scores.mean())\n",
    "print(\"Std Dev Train F1-Macro score:\", train_f1_scores.std())\n",
    "print(\"Std Dev Validation F1-Macro score:\", val_f1_scores.std())\n",
    "\n",
    "# Recall-Macro\n",
    "train_recall_scores = cv_results['train_recall_macro']\n",
    "val_recall_scores = cv_results['test_recall_macro']\n",
    "print(\"\\nMean Train Recall-Macro score:\", train_recall_scores.mean())\n",
    "print(\"Mean Validation Recall-Macro score:\", val_recall_scores.mean())\n",
    "print(\"Std Dev Train Recall-Macro score:\", train_recall_scores.std())\n",
    "print(\"Std Dev Validation Recall-Macro score:\", val_recall_scores.std())\n",
    "\n",
    "# Precision-Macro\n",
    "train_precision_scores = cv_results['train_precision_macro']\n",
    "val_precision_scores = cv_results['test_precision_macro']\n",
    "print(\"\\nMean Train Precision-Macro score:\", train_precision_scores.mean())\n",
    "print(\"Mean Validation Precision-Macro score:\", val_precision_scores.mean())\n",
    "print(\"Std Dev Train Precision-Macro score:\", train_precision_scores.std())\n",
    "print(\"Std Dev Validation Precision-Macro score:\", val_precision_scores.std())"
   ]
  },
  {
   "cell_type": "markdown",
   "metadata": {},
   "source": [
    "### Feature  - analysing where agreement_pred is"
   ]
  },
  {
   "cell_type": "code",
   "execution_count": 53,
   "metadata": {},
   "outputs": [
    {
     "name": "stderr",
     "output_type": "stream",
     "text": [
      "c:\\Users\\rodri\\anaconda3\\Lib\\site-packages\\xgboost\\core.py:158: UserWarning: [23:40:44] WARNING: C:\\buildkite-agent\\builds\\buildkite-windows-cpu-autoscaling-group-i-0ed59c031377d09b8-1\\xgboost\\xgboost-ci-windows\\src\\learner.cc:740: \n",
      "Parameters: { \"scale_pos_weight\", \"use_label_encoder\" } are not used.\n",
      "\n",
      "  warnings.warn(smsg, UserWarning)\n"
     ]
    },
    {
     "name": "stdout",
     "output_type": "stream",
     "text": [
      "Log Average Weekly Wage                                                 0.186239\n",
      "Average Weekly Wage                                                     0.155754\n",
      "C-2 Missing                                                             0.125044\n",
      "Attorney/Representative                                                 0.105784\n",
      "Alternative Dispute Resolution                                          0.060045\n",
      "agreement_pred                                                          0.047907\n",
      "Has IME-4 Report                                                        0.041376\n",
      "WCIO Part Of Body Code_Trunk                                            0.029258\n",
      "Has Hearing                                                             0.015598\n",
      "Carrier Type_3A. SELF PUBLIC                                            0.012971\n",
      "Carrier Type_UNKNOWN                                                    0.012057\n",
      "COVID-19 Indicator                                                      0.011775\n",
      "IME-4 Count                                                             0.010653\n",
      "C-2 Missed Timing                                                       0.010602\n",
      "C-2 Date_year                                                           0.010410\n",
      "C-3 Missed Timing                                                       0.008549\n",
      "District Name_NYC                                                       0.008449\n",
      "WCIO Part Of Body Code_Upper Extremities                                0.008410\n",
      "WCIO Part Of Body Code_Lower Extremities                                0.007919\n",
      "Carrier Type_2A. SIF                                                    0.007650\n",
      "First Hearing Date_year                                                 0.007031\n",
      "WCIO Cause of Injury Code_Miscellaneous Causes                          0.006379\n",
      "Carrier Type_5D. SPECIAL FUND - UNKNOWN                                 0.006368\n",
      "Accident Date_year                                                      0.005984\n",
      "WCIO Part Of Body Code_Multiple Body Parts                              0.005829\n",
      "C-3 Missing                                                             0.005749\n",
      "WCIO Cause of Injury Code_Strain or Injury By                           0.005728\n",
      "Assembly Date_year                                                      0.005458\n",
      "WCIO Part Of Body Code_Neck                                             0.005363\n",
      "WCIO Nature of Injury Code_Occupational Disease or Cumulative Injury    0.004902\n",
      "WCIO Cause of Injury Code_Cut, Puncture, Scrape Injured By              0.004864\n",
      "Carrier Name                                                            0.004310\n",
      "Log IME-4 Count                                                         0.004275\n",
      "Days Difference                                                         0.004130\n",
      "Industry Code_Social and Public Services                                0.003489\n",
      "District Name_ROCHESTER                                                 0.003397\n",
      "Industry Code_Secondary Industry                                        0.003270\n",
      "District Name_BINGHAMTON                                                0.003221\n",
      "District Name_STATEWIDE                                                 0.003183\n",
      "C-3 Date_year                                                           0.003152\n",
      "WCIO Cause of Injury Code_Motor Vehicle                                 0.002923\n",
      "Industry Code_Tertiary Industry                                         0.002894\n",
      "Gender                                                                  0.002885\n",
      "District Name_BUFFALO                                                   0.002394\n",
      "Medical Fee Region_IV                                                   0.002060\n",
      "District Name_HAUPPAUGE                                                 0.002047\n",
      "Carrier Type_4A. SELF PRIVATE                                           0.002045\n",
      "WCIO Nature of Injury Code_Specific Injury                              0.001988\n",
      "WCIO Cause of Injury Code_Fall, Slip or Trip Injury                     0.001928\n",
      "County of Injury                                                        0.001779\n",
      "District Name_SYRACUSE                                                  0.001719\n",
      "Log Age at Injury                                                       0.001551\n",
      "Medical Fee Region_UK                                                   0.001256\n",
      "dtype: float32\n"
     ]
    }
   ],
   "source": [
    "# Process only the first fold and extract important features\n",
    "features_first_fold = None\n",
    "\n",
    "# Process only the first fold and extract important features\n",
    "for fold, (train_idx, val_idx) in enumerate(kf.split(X_claim, y_claim)):\n",
    "    # Split the data into training and validation sets\n",
    "    X_train, X_val = X_claim.iloc[train_idx], X_claim.iloc[val_idx]\n",
    "    y_train, y_val = y_claim[train_idx], y_claim[val_idx]\n",
    "\n",
    "    # Fit the pipeline on the training set\n",
    "    pipeline_XGB.fit(X_train, y_train)\n",
    "\n",
    "    # Extract the feature selector and model from the pipeline\n",
    "    feature_selector = pipeline_XGB.named_steps['feature_selector']\n",
    "    model = pipeline_XGB.named_steps['model']\n",
    "\n",
    "    # Get selected feature names from the feature selector\n",
    "    selected_feature_names = feature_selector.top_features  # Use directly as names\n",
    "\n",
    "    # Get feature importances from the model\n",
    "    feature_importances = pd.Series(\n",
    "        model.feature_importances_,\n",
    "        index=selected_feature_names\n",
    "    ).sort_values(ascending=False)\n",
    "\n",
    "    # Display the features and their importances\n",
    "    print(feature_importances)\n",
    "\n",
    "    # Break after processing the first fold\n",
    "    break\n"
   ]
  },
  {
   "cell_type": "markdown",
   "metadata": {},
   "source": [
    "Besides agreement_pred being one of the most important variables for the model, the relative importance is still very small and that's why the model score's don't increase much"
   ]
  }
 ],
 "metadata": {
  "kernelspec": {
   "display_name": "base",
   "language": "python",
   "name": "python3"
  },
  "language_info": {
   "codemirror_mode": {
    "name": "ipython",
    "version": 3
   },
   "file_extension": ".py",
   "mimetype": "text/x-python",
   "name": "python",
   "nbconvert_exporter": "python",
   "pygments_lexer": "ipython3",
   "version": "3.12.7"
  }
 },
 "nbformat": 4,
 "nbformat_minor": 2
}
